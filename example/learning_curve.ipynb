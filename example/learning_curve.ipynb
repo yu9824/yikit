{
 "metadata": {
  "language_info": {
   "codemirror_mode": {
    "name": "ipython",
    "version": 3
   },
   "file_extension": ".py",
   "mimetype": "text/x-python",
   "name": "python",
   "nbconvert_exporter": "python",
   "pygments_lexer": "ipython3",
   "version": "3.8.10"
  },
  "orig_nbformat": 2,
  "kernelspec": {
   "name": "python3",
   "display_name": "Python 3.8.10 64-bit ('yikit': conda)"
  },
  "metadata": {
   "interpreter": {
    "hash": "aef1f1c6d6494a954552c4d3b3b802cf10d2b71861e5c864fe3bae3d265d2422"
   }
  },
  "interpreter": {
   "hash": "7ade2b8e10e73b85a98bfa29633d955360b26ec2a838d8418154c536e1be188a"
  }
 },
 "nbformat": 4,
 "nbformat_minor": 2,
 "cells": [
  {
   "cell_type": "code",
   "execution_count": 1,
   "source": [
    "import optuna\n",
    "from sklearn.datasets import load_boston\n",
    "from sklearn.ensemble import RandomForestRegressor\n",
    "from sklearn.metrics import mean_squared_error\n",
    "from sklearn.base import clone\n",
    "from kennard_stone import KFold\n",
    "import pandas as pd\n",
    "from yikit.models import Objective\n",
    "from yikit.tools import get_learning_curve"
   ],
   "outputs": [],
   "metadata": {}
  },
  {
   "cell_type": "code",
   "execution_count": 2,
   "source": [
    "SEED = 334"
   ],
   "outputs": [],
   "metadata": {}
  },
  {
   "cell_type": "code",
   "execution_count": 3,
   "source": [
    "boston = load_boston()\n",
    "X = pd.DataFrame(boston.data, columns = boston.feature_names)\n",
    "y = pd.Series(boston.target, name = 'PRICE')"
   ],
   "outputs": [],
   "metadata": {}
  },
  {
   "cell_type": "code",
   "execution_count": 4,
   "source": [
    "rf = RandomForestRegressor(n_jobs = -1, random_state = SEED)"
   ],
   "outputs": [],
   "metadata": {}
  },
  {
   "cell_type": "code",
   "execution_count": 5,
   "source": [
    "objective = Objective(rf, X, y, scoring = 'neg_root_mean_squared_error', n_jobs = -1, random_state = SEED, cv = KFold(n_splits=5))"
   ],
   "outputs": [],
   "metadata": {}
  },
  {
   "cell_type": "code",
   "execution_count": 6,
   "source": [
    "study = optuna.create_study(direction = 'maximize', sampler = objective.sampler)\n",
    "study.optimize(objective, n_trials = 100)"
   ],
   "outputs": [
    {
     "output_type": "stream",
     "name": "stderr",
     "text": [
      "\u001b[32m[I 2021-08-04 13:10:32,548]\u001b[0m A new study created in memory with name: no-name-c78dbe9d-6eb7-4d87-bc73-8a1d8e7223b4\u001b[0m\n",
      "\u001b[32m[I 2021-08-04 13:10:50,279]\u001b[0m Trial 0 finished with value: -3.1806527465491556 and parameters: {'min_samples_split': 7, 'max_depth': 22, 'n_estimators': 193}. Best is trial 0 with value: -3.1806527465491556.\u001b[0m\n",
      "\u001b[32m[I 2021-08-04 13:11:00,703]\u001b[0m Trial 1 finished with value: -3.335520174646219 and parameters: {'min_samples_split': 7, 'max_depth': 88, 'n_estimators': 12}. Best is trial 0 with value: -3.1806527465491556.\u001b[0m\n",
      "\u001b[32m[I 2021-08-04 13:11:14,503]\u001b[0m Trial 2 finished with value: -3.2325023927651726 and parameters: {'min_samples_split': 16, 'max_depth': 70, 'n_estimators': 260}. Best is trial 0 with value: -3.1806527465491556.\u001b[0m\n",
      "\u001b[32m[I 2021-08-04 13:11:25,286]\u001b[0m Trial 3 finished with value: -3.126348444255087 and parameters: {'min_samples_split': 5, 'max_depth': 92, 'n_estimators': 363}. Best is trial 3 with value: -3.126348444255087.\u001b[0m\n",
      "\u001b[32m[I 2021-08-04 13:11:34,139]\u001b[0m Trial 4 finished with value: -3.2464973457581365 and parameters: {'min_samples_split': 6, 'max_depth': 85, 'n_estimators': 34}. Best is trial 3 with value: -3.126348444255087.\u001b[0m\n",
      "\u001b[32m[I 2021-08-04 13:11:42,819]\u001b[0m Trial 5 finished with value: -3.2452792988182333 and parameters: {'min_samples_split': 15, 'max_depth': 49, 'n_estimators': 165}. Best is trial 3 with value: -3.126348444255087.\u001b[0m\n",
      "\u001b[32m[I 2021-08-04 13:11:53,274]\u001b[0m Trial 6 finished with value: -3.237422381425948 and parameters: {'min_samples_split': 6, 'max_depth': 59, 'n_estimators': 43}. Best is trial 3 with value: -3.126348444255087.\u001b[0m\n",
      "\u001b[32m[I 2021-08-04 13:12:06,113]\u001b[0m Trial 7 finished with value: -3.212219889461752 and parameters: {'min_samples_split': 10, 'max_depth': 32, 'n_estimators': 162}. Best is trial 3 with value: -3.126348444255087.\u001b[0m\n",
      "\u001b[32m[I 2021-08-04 13:12:16,164]\u001b[0m Trial 8 finished with value: -3.2266652277872625 and parameters: {'min_samples_split': 10, 'max_depth': 94, 'n_estimators': 97}. Best is trial 3 with value: -3.126348444255087.\u001b[0m\n",
      "\u001b[32m[I 2021-08-04 13:12:28,312]\u001b[0m Trial 9 finished with value: -3.1462661487185435 and parameters: {'min_samples_split': 9, 'max_depth': 37, 'n_estimators': 405}. Best is trial 3 with value: -3.126348444255087.\u001b[0m\n",
      "\u001b[32m[I 2021-08-04 13:12:45,550]\u001b[0m Trial 10 finished with value: -3.080839997264829 and parameters: {'min_samples_split': 2, 'max_depth': 72, 'n_estimators': 484}. Best is trial 10 with value: -3.080839997264829.\u001b[0m\n",
      "\u001b[32m[I 2021-08-04 13:12:56,987]\u001b[0m Trial 11 finished with value: -3.079965166015086 and parameters: {'min_samples_split': 2, 'max_depth': 70, 'n_estimators': 489}. Best is trial 11 with value: -3.079965166015086.\u001b[0m\n",
      "\u001b[32m[I 2021-08-04 13:13:11,697]\u001b[0m Trial 12 finished with value: -3.0818046821740532 and parameters: {'min_samples_split': 2, 'max_depth': 71, 'n_estimators': 495}. Best is trial 11 with value: -3.079965166015086.\u001b[0m\n",
      "\u001b[32m[I 2021-08-04 13:13:25,664]\u001b[0m Trial 13 finished with value: -3.0832577299484645 and parameters: {'min_samples_split': 3, 'max_depth': 71, 'n_estimators': 498}. Best is trial 11 with value: -3.079965166015086.\u001b[0m\n",
      "\u001b[32m[I 2021-08-04 13:13:29,768]\u001b[0m Trial 14 finished with value: -3.0815401925193844 and parameters: {'min_samples_split': 2, 'max_depth': 55, 'n_estimators': 421}. Best is trial 11 with value: -3.079965166015086.\u001b[0m\n",
      "\u001b[32m[I 2021-08-04 13:13:33,103]\u001b[0m Trial 15 finished with value: -3.2059587945811545 and parameters: {'min_samples_split': 13, 'max_depth': 79, 'n_estimators': 324}. Best is trial 11 with value: -3.079965166015086.\u001b[0m\n",
      "\u001b[32m[I 2021-08-04 13:13:36,755]\u001b[0m Trial 16 finished with value: -3.09938782886312 and parameters: {'min_samples_split': 4, 'max_depth': 63, 'n_estimators': 453}. Best is trial 11 with value: -3.079965166015086.\u001b[0m\n",
      "\u001b[32m[I 2021-08-04 13:13:40,521]\u001b[0m Trial 17 finished with value: -3.081804682174053 and parameters: {'min_samples_split': 2, 'max_depth': 100, 'n_estimators': 495}. Best is trial 11 with value: -3.079965166015086.\u001b[0m\n",
      "\u001b[32m[I 2021-08-04 13:13:43,783]\u001b[0m Trial 18 finished with value: -3.111002870880045 and parameters: {'min_samples_split': 4, 'max_depth': 50, 'n_estimators': 319}. Best is trial 11 with value: -3.079965166015086.\u001b[0m\n",
      "\u001b[32m[I 2021-08-04 13:13:47,425]\u001b[0m Trial 19 finished with value: -3.195594048689199 and parameters: {'min_samples_split': 13, 'max_depth': 81, 'n_estimators': 448}. Best is trial 11 with value: -3.079965166015086.\u001b[0m\n",
      "\u001b[32m[I 2021-08-04 13:13:50,961]\u001b[0m Trial 20 finished with value: -3.105518076507349 and parameters: {'min_samples_split': 4, 'max_depth': 44, 'n_estimators': 369}. Best is trial 11 with value: -3.079965166015086.\u001b[0m\n",
      "\u001b[32m[I 2021-08-04 13:13:54,698]\u001b[0m Trial 21 finished with value: -3.0807830611558034 and parameters: {'min_samples_split': 2, 'max_depth': 62, 'n_estimators': 441}. Best is trial 11 with value: -3.079965166015086.\u001b[0m\n",
      "\u001b[32m[I 2021-08-04 13:13:58,566]\u001b[0m Trial 22 finished with value: -3.085049016465335 and parameters: {'min_samples_split': 2, 'max_depth': 64, 'n_estimators': 455}. Best is trial 11 with value: -3.079965166015086.\u001b[0m\n",
      "\u001b[32m[I 2021-08-04 13:14:02,500]\u001b[0m Trial 23 finished with value: -3.0833791789494205 and parameters: {'min_samples_split': 3, 'max_depth': 75, 'n_estimators': 497}. Best is trial 11 with value: -3.079965166015086.\u001b[0m\n",
      "\u001b[32m[I 2021-08-04 13:14:06,211]\u001b[0m Trial 24 finished with value: -3.088219906557888 and parameters: {'min_samples_split': 3, 'max_depth': 65, 'n_estimators': 405}. Best is trial 11 with value: -3.079965166015086.\u001b[0m\n",
      "\u001b[32m[I 2021-08-04 13:14:10,513]\u001b[0m Trial 25 finished with value: -3.114984886126691 and parameters: {'min_samples_split': 5, 'max_depth': 56, 'n_estimators': 457}. Best is trial 11 with value: -3.079965166015086.\u001b[0m\n",
      "\u001b[32m[I 2021-08-04 13:14:14,416]\u001b[0m Trial 26 finished with value: -3.0894178115494704 and parameters: {'min_samples_split': 2, 'max_depth': 78, 'n_estimators': 368}. Best is trial 11 with value: -3.079965166015086.\u001b[0m\n",
      "\u001b[32m[I 2021-08-04 13:14:17,886]\u001b[0m Trial 27 finished with value: -3.1313003547140275 and parameters: {'min_samples_split': 5, 'max_depth': 66, 'n_estimators': 284}. Best is trial 11 with value: -3.079965166015086.\u001b[0m\n",
      "\u001b[32m[I 2021-08-04 13:14:21,882]\u001b[0m Trial 28 finished with value: -3.0813208004226755 and parameters: {'min_samples_split': 3, 'max_depth': 43, 'n_estimators': 431}. Best is trial 11 with value: -3.079965166015086.\u001b[0m\n",
      "\u001b[32m[I 2021-08-04 13:14:25,859]\u001b[0m Trial 29 finished with value: -3.133537136002061 and parameters: {'min_samples_split': 7, 'max_depth': 13, 'n_estimators': 478}. Best is trial 11 with value: -3.079965166015086.\u001b[0m\n",
      "\u001b[32m[I 2021-08-04 13:14:28,875]\u001b[0m Trial 30 finished with value: -3.174664510522875 and parameters: {'min_samples_split': 8, 'max_depth': 59, 'n_estimators': 209}. Best is trial 11 with value: -3.079965166015086.\u001b[0m\n",
      "\u001b[32m[I 2021-08-04 13:14:32,416]\u001b[0m Trial 31 finished with value: -3.08426400210906 and parameters: {'min_samples_split': 3, 'max_depth': 37, 'n_estimators': 420}. Best is trial 11 with value: -3.079965166015086.\u001b[0m\n",
      "\u001b[32m[I 2021-08-04 13:14:35,857]\u001b[0m Trial 32 finished with value: -3.1044435325121222 and parameters: {'min_samples_split': 4, 'max_depth': 47, 'n_estimators': 389}. Best is trial 11 with value: -3.079965166015086.\u001b[0m\n",
      "\u001b[32m[I 2021-08-04 13:14:39,408]\u001b[0m Trial 33 finished with value: -3.0775550975504116 and parameters: {'min_samples_split': 2, 'max_depth': 22, 'n_estimators': 430}. Best is trial 33 with value: -3.0775550975504116.\u001b[0m\n",
      "\u001b[32m[I 2021-08-04 13:14:42,345]\u001b[0m Trial 34 finished with value: -3.0951349607208605 and parameters: {'min_samples_split': 2, 'max_depth': 20, 'n_estimators': 330}. Best is trial 33 with value: -3.0775550975504116.\u001b[0m\n",
      "\u001b[32m[I 2021-08-04 13:14:45,516]\u001b[0m Trial 35 finished with value: -3.128545167450659 and parameters: {'min_samples_split': 6, 'max_depth': 74, 'n_estimators': 476}. Best is trial 33 with value: -3.0775550975504116.\u001b[0m\n",
      "\u001b[32m[I 2021-08-04 13:14:48,683]\u001b[0m Trial 36 finished with value: -3.0973919687037634 and parameters: {'min_samples_split': 4, 'max_depth': 86, 'n_estimators': 475}. Best is trial 33 with value: -3.0775550975504116.\u001b[0m\n",
      "\u001b[32m[I 2021-08-04 13:14:51,498]\u001b[0m Trial 37 finished with value: -3.098509880369611 and parameters: {'min_samples_split': 2, 'max_depth': 10, 'n_estimators': 350}. Best is trial 33 with value: -3.0775550975504116.\u001b[0m\n",
      "\u001b[32m[I 2021-08-04 13:14:54,375]\u001b[0m Trial 38 finished with value: -3.1228141511109277 and parameters: {'min_samples_split': 5, 'max_depth': 83, 'n_estimators': 390}. Best is trial 33 with value: -3.0775550975504116.\u001b[0m\n",
      "\u001b[32m[I 2021-08-04 13:14:57,065]\u001b[0m Trial 39 finished with value: -3.0962091587864493 and parameters: {'min_samples_split': 3, 'max_depth': 68, 'n_estimators': 277}. Best is trial 33 with value: -3.0775550975504116.\u001b[0m\n",
      "\u001b[32m[I 2021-08-04 13:15:00,402]\u001b[0m Trial 40 finished with value: -3.1316404594053076 and parameters: {'min_samples_split': 7, 'max_depth': 91, 'n_estimators': 426}. Best is trial 33 with value: -3.0775550975504116.\u001b[0m\n",
      "\u001b[32m[I 2021-08-04 13:15:03,665]\u001b[0m Trial 41 finished with value: -3.085565882289992 and parameters: {'min_samples_split': 3, 'max_depth': 23, 'n_estimators': 446}. Best is trial 33 with value: -3.0775550975504116.\u001b[0m\n",
      "\u001b[32m[I 2021-08-04 13:15:07,064]\u001b[0m Trial 42 finished with value: -3.0778044478867406 and parameters: {'min_samples_split': 2, 'max_depth': 26, 'n_estimators': 429}. Best is trial 33 with value: -3.0775550975504116.\u001b[0m\n",
      "\u001b[32m[I 2021-08-04 13:15:10,491]\u001b[0m Trial 43 finished with value: -3.082319761097969 and parameters: {'min_samples_split': 2, 'max_depth': 21, 'n_estimators': 478}. Best is trial 33 with value: -3.0775550975504116.\u001b[0m\n",
      "\u001b[32m[I 2021-08-04 13:15:13,530]\u001b[0m Trial 44 finished with value: -3.086849849545157 and parameters: {'min_samples_split': 2, 'max_depth': 29, 'n_estimators': 393}. Best is trial 33 with value: -3.0775550975504116.\u001b[0m\n",
      "\u001b[32m[I 2021-08-04 13:15:16,783]\u001b[0m Trial 45 finished with value: -3.1012798250048674 and parameters: {'min_samples_split': 4, 'max_depth': 17, 'n_estimators': 431}. Best is trial 33 with value: -3.0775550975504116.\u001b[0m\n",
      "\u001b[32m[I 2021-08-04 13:15:20,108]\u001b[0m Trial 46 finished with value: -3.11444780567095 and parameters: {'min_samples_split': 5, 'max_depth': 31, 'n_estimators': 498}. Best is trial 33 with value: -3.0775550975504116.\u001b[0m\n",
      "\u001b[32m[I 2021-08-04 13:15:23,453]\u001b[0m Trial 47 finished with value: -3.2183224831608177 and parameters: {'min_samples_split': 16, 'max_depth': 60, 'n_estimators': 471}. Best is trial 33 with value: -3.0775550975504116.\u001b[0m\n",
      "\u001b[32m[I 2021-08-04 13:15:27,387]\u001b[0m Trial 48 finished with value: -3.1865144856975434 and parameters: {'min_samples_split': 12, 'max_depth': 52, 'n_estimators': 405}. Best is trial 33 with value: -3.0775550975504116.\u001b[0m\n",
      "\u001b[32m[I 2021-08-04 13:15:31,523]\u001b[0m Trial 49 finished with value: -3.09010612032952 and parameters: {'min_samples_split': 3, 'max_depth': 73, 'n_estimators': 347}. Best is trial 33 with value: -3.0775550975504116.\u001b[0m\n",
      "\u001b[32m[I 2021-08-04 13:15:36,342]\u001b[0m Trial 50 finished with value: -3.0809051022865632 and parameters: {'min_samples_split': 2, 'max_depth': 28, 'n_estimators': 440}. Best is trial 33 with value: -3.0775550975504116.\u001b[0m\n",
      "\u001b[32m[I 2021-08-04 13:15:41,389]\u001b[0m Trial 51 finished with value: -3.079844152462884 and parameters: {'min_samples_split': 2, 'max_depth': 26, 'n_estimators': 439}. Best is trial 33 with value: -3.0775550975504116.\u001b[0m\n",
      "\u001b[32m[I 2021-08-04 13:15:47,245]\u001b[0m Trial 52 finished with value: -3.0858910593417157 and parameters: {'min_samples_split': 3, 'max_depth': 35, 'n_estimators': 458}. Best is trial 33 with value: -3.0775550975504116.\u001b[0m\n",
      "\u001b[32m[I 2021-08-04 13:15:52,265]\u001b[0m Trial 53 finished with value: -3.0856979269864495 and parameters: {'min_samples_split': 2, 'max_depth': 24, 'n_estimators': 412}. Best is trial 33 with value: -3.0775550975504116.\u001b[0m\n",
      "\u001b[32m[I 2021-08-04 13:15:59,445]\u001b[0m Trial 54 finished with value: -3.0980268257770724 and parameters: {'min_samples_split': 4, 'max_depth': 26, 'n_estimators': 496}. Best is trial 33 with value: -3.0775550975504116.\u001b[0m\n",
      "\u001b[32m[I 2021-08-04 13:16:09,014]\u001b[0m Trial 55 finished with value: -3.096212578359096 and parameters: {'min_samples_split': 3, 'max_depth': 15, 'n_estimators': 382}. Best is trial 33 with value: -3.0775550975504116.\u001b[0m\n",
      "\u001b[32m[I 2021-08-04 13:16:15,762]\u001b[0m Trial 56 finished with value: -3.083957845196307 and parameters: {'min_samples_split': 2, 'max_depth': 40, 'n_estimators': 463}. Best is trial 33 with value: -3.0775550975504116.\u001b[0m\n",
      "\u001b[32m[I 2021-08-04 13:16:19,843]\u001b[0m Trial 57 finished with value: -3.1985831340763533 and parameters: {'min_samples_split': 2, 'max_depth': 69, 'n_estimators': 66}. Best is trial 33 with value: -3.0775550975504116.\u001b[0m\n",
      "\u001b[32m[I 2021-08-04 13:16:28,244]\u001b[0m Trial 58 finished with value: -3.098363369957403 and parameters: {'min_samples_split': 4, 'max_depth': 60, 'n_estimators': 440}. Best is trial 33 with value: -3.0775550975504116.\u001b[0m\n",
      "\u001b[32m[I 2021-08-04 13:16:42,811]\u001b[0m Trial 59 finished with value: -3.082269019051576 and parameters: {'min_samples_split': 3, 'max_depth': 79, 'n_estimators': 500}. Best is trial 33 with value: -3.0775550975504116.\u001b[0m\n",
      "\u001b[32m[I 2021-08-04 13:16:49,275]\u001b[0m Trial 60 finished with value: -3.1505816280510794 and parameters: {'min_samples_split': 5, 'max_depth': 10, 'n_estimators': 215}. Best is trial 33 with value: -3.0775550975504116.\u001b[0m\n",
      "\u001b[32m[I 2021-08-04 13:16:55,937]\u001b[0m Trial 61 finished with value: -3.080312323244633 and parameters: {'min_samples_split': 2, 'max_depth': 28, 'n_estimators': 438}. Best is trial 33 with value: -3.0775550975504116.\u001b[0m\n",
      "\u001b[32m[I 2021-08-04 13:17:03,699]\u001b[0m Trial 62 finished with value: -3.0811102682374623 and parameters: {'min_samples_split': 2, 'max_depth': 18, 'n_estimators': 483}. Best is trial 33 with value: -3.0775550975504116.\u001b[0m\n",
      "\u001b[32m[I 2021-08-04 13:17:10,858]\u001b[0m Trial 63 finished with value: -3.083398190570277 and parameters: {'min_samples_split': 3, 'max_depth': 34, 'n_estimators': 419}. Best is trial 33 with value: -3.0775550975504116.\u001b[0m\n",
      "\u001b[32m[I 2021-08-04 13:17:20,034]\u001b[0m Trial 64 finished with value: -3.080783061155804 and parameters: {'min_samples_split': 2, 'max_depth': 27, 'n_estimators': 441}. Best is trial 33 with value: -3.0775550975504116.\u001b[0m\n",
      "\u001b[32m[I 2021-08-04 13:17:29,391]\u001b[0m Trial 65 finished with value: -3.0843184615760544 and parameters: {'min_samples_split': 2, 'max_depth': 30, 'n_estimators': 405}. Best is trial 33 with value: -3.0775550975504116.\u001b[0m\n",
      "\u001b[32m[I 2021-08-04 13:17:34,067]\u001b[0m Trial 66 finished with value: -3.0914464239610133 and parameters: {'min_samples_split': 3, 'max_depth': 25, 'n_estimators': 376}. Best is trial 33 with value: -3.0775550975504116.\u001b[0m\n",
      "\u001b[32m[I 2021-08-04 13:17:38,770]\u001b[0m Trial 67 finished with value: -3.09693609529558 and parameters: {'min_samples_split': 4, 'max_depth': 27, 'n_estimators': 438}. Best is trial 33 with value: -3.0775550975504116.\u001b[0m\n",
      "\u001b[32m[I 2021-08-04 13:17:43,865]\u001b[0m Trial 68 finished with value: -3.1635583000036562 and parameters: {'min_samples_split': 10, 'max_depth': 33, 'n_estimators': 451}. Best is trial 33 with value: -3.0775550975504116.\u001b[0m\n",
      "\u001b[32m[I 2021-08-04 13:17:50,727]\u001b[0m Trial 69 finished with value: -3.1316087880371493 and parameters: {'min_samples_split': 6, 'max_depth': 13, 'n_estimators': 423}. Best is trial 33 with value: -3.0775550975504116.\u001b[0m\n",
      "\u001b[32m[I 2021-08-04 13:17:58,003]\u001b[0m Trial 70 finished with value: -3.0899363570388427 and parameters: {'min_samples_split': 2, 'max_depth': 38, 'n_estimators': 352}. Best is trial 33 with value: -3.0775550975504116.\u001b[0m\n",
      "\u001b[32m[I 2021-08-04 13:18:06,554]\u001b[0m Trial 71 finished with value: -3.082610196578764 and parameters: {'min_samples_split': 2, 'max_depth': 20, 'n_estimators': 466}. Best is trial 33 with value: -3.0775550975504116.\u001b[0m\n",
      "\u001b[32m[I 2021-08-04 13:18:14,247]\u001b[0m Trial 72 finished with value: -3.088948541168553 and parameters: {'min_samples_split': 3, 'max_depth': 63, 'n_estimators': 400}. Best is trial 33 with value: -3.0775550975504116.\u001b[0m\n",
      "\u001b[32m[I 2021-08-04 13:18:21,551]\u001b[0m Trial 73 finished with value: -3.080463469286637 and parameters: {'min_samples_split': 2, 'max_depth': 76, 'n_estimators': 487}. Best is trial 33 with value: -3.0775550975504116.\u001b[0m\n",
      "\u001b[32m[I 2021-08-04 13:18:28,500]\u001b[0m Trial 74 finished with value: -3.079587238934586 and parameters: {'min_samples_split': 2, 'max_depth': 22, 'n_estimators': 487}. Best is trial 33 with value: -3.0775550975504116.\u001b[0m\n",
      "\u001b[32m[I 2021-08-04 13:18:36,977]\u001b[0m Trial 75 finished with value: -3.0839059939254536 and parameters: {'min_samples_split': 3, 'max_depth': 22, 'n_estimators': 486}. Best is trial 33 with value: -3.0775550975504116.\u001b[0m\n",
      "\u001b[32m[I 2021-08-04 13:18:42,682]\u001b[0m Trial 76 finished with value: -3.2123083606485623 and parameters: {'min_samples_split': 15, 'max_depth': 68, 'n_estimators': 459}. Best is trial 33 with value: -3.0775550975504116.\u001b[0m\n",
      "\u001b[32m[I 2021-08-04 13:18:48,862]\u001b[0m Trial 77 finished with value: -3.1428272964777717 and parameters: {'min_samples_split': 8, 'max_depth': 15, 'n_estimators': 491}. Best is trial 33 with value: -3.0775550975504116.\u001b[0m\n",
      "\u001b[32m[I 2021-08-04 13:18:55,173]\u001b[0m Trial 78 finished with value: -3.0838814315266903 and parameters: {'min_samples_split': 3, 'max_depth': 56, 'n_estimators': 472}. Best is trial 33 with value: -3.0775550975504116.\u001b[0m\n",
      "\u001b[32m[I 2021-08-04 13:19:02,314]\u001b[0m Trial 79 finished with value: -3.083008861390975 and parameters: {'min_samples_split': 2, 'max_depth': 66, 'n_estimators': 417}. Best is trial 33 with value: -3.0775550975504116.\u001b[0m\n",
      "\u001b[32m[I 2021-08-04 13:19:08,134]\u001b[0m Trial 80 finished with value: -3.142115591892105 and parameters: {'min_samples_split': 4, 'max_depth': 18, 'n_estimators': 154}. Best is trial 33 with value: -3.0775550975504116.\u001b[0m\n",
      "\u001b[32m[I 2021-08-04 13:19:16,130]\u001b[0m Trial 81 finished with value: -3.081015536598747 and parameters: {'min_samples_split': 2, 'max_depth': 75, 'n_estimators': 444}. Best is trial 33 with value: -3.0775550975504116.\u001b[0m\n",
      "\u001b[32m[I 2021-08-04 13:19:23,702]\u001b[0m Trial 82 finished with value: -3.07956444034804 and parameters: {'min_samples_split': 2, 'max_depth': 23, 'n_estimators': 432}. Best is trial 33 with value: -3.0775550975504116.\u001b[0m\n",
      "\u001b[32m[I 2021-08-04 13:19:29,948]\u001b[0m Trial 83 finished with value: -3.0767033143796696 and parameters: {'min_samples_split': 2, 'max_depth': 22, 'n_estimators': 429}. Best is trial 83 with value: -3.0767033143796696.\u001b[0m\n",
      "\u001b[32m[I 2021-08-04 13:19:35,148]\u001b[0m Trial 84 finished with value: -3.08040573161023 and parameters: {'min_samples_split': 3, 'max_depth': 23, 'n_estimators': 429}. Best is trial 83 with value: -3.0767033143796696.\u001b[0m\n",
      "\u001b[32m[I 2021-08-04 13:19:39,698]\u001b[0m Trial 85 finished with value: -3.0905315069566797 and parameters: {'min_samples_split': 3, 'max_depth': 23, 'n_estimators': 392}. Best is trial 83 with value: -3.0767033143796696.\u001b[0m\n",
      "\u001b[32m[I 2021-08-04 13:19:45,064]\u001b[0m Trial 86 finished with value: -3.0819135207132216 and parameters: {'min_samples_split': 3, 'max_depth': 20, 'n_estimators': 429}. Best is trial 83 with value: -3.0767033143796696.\u001b[0m\n",
      "\u001b[32m[I 2021-08-04 13:19:52,273]\u001b[0m Trial 87 finished with value: -3.084860373693587 and parameters: {'min_samples_split': 2, 'max_depth': 29, 'n_estimators': 410}. Best is trial 83 with value: -3.0767033143796696.\u001b[0m\n",
      "\u001b[32m[I 2021-08-04 13:19:57,790]\u001b[0m Trial 88 finished with value: -3.091809105098625 and parameters: {'min_samples_split': 3, 'max_depth': 25, 'n_estimators': 366}. Best is trial 83 with value: -3.0767033143796696.\u001b[0m\n",
      "\u001b[32m[I 2021-08-04 13:20:02,897]\u001b[0m Trial 89 finished with value: -3.092626755623991 and parameters: {'min_samples_split': 2, 'max_depth': 12, 'n_estimators': 454}. Best is trial 83 with value: -3.0767033143796696.\u001b[0m\n",
      "\u001b[32m[I 2021-08-04 13:20:07,556]\u001b[0m Trial 90 finished with value: -3.1110785707451836 and parameters: {'min_samples_split': 4, 'max_depth': 16, 'n_estimators': 383}. Best is trial 83 with value: -3.0767033143796696.\u001b[0m\n",
      "\u001b[32m[I 2021-08-04 13:20:12,654]\u001b[0m Trial 91 finished with value: -3.0840624247436788 and parameters: {'min_samples_split': 2, 'max_depth': 32, 'n_estimators': 466}. Best is trial 83 with value: -3.0767033143796696.\u001b[0m\n",
      "\u001b[32m[I 2021-08-04 13:20:17,435]\u001b[0m Trial 92 finished with value: -3.07540740194436 and parameters: {'min_samples_split': 2, 'max_depth': 19, 'n_estimators': 431}. Best is trial 92 with value: -3.07540740194436.\u001b[0m\n",
      "\u001b[32m[I 2021-08-04 13:20:22,197]\u001b[0m Trial 93 finished with value: -3.0814952615606037 and parameters: {'min_samples_split': 3, 'max_depth': 22, 'n_estimators': 430}. Best is trial 92 with value: -3.07540740194436.\u001b[0m\n",
      "\u001b[32m[I 2021-08-04 13:20:26,963]\u001b[0m Trial 94 finished with value: -3.079130509251565 and parameters: {'min_samples_split': 2, 'max_depth': 18, 'n_estimators': 421}. Best is trial 92 with value: -3.07540740194436.\u001b[0m\n",
      "\u001b[32m[I 2021-08-04 13:20:32,157]\u001b[0m Trial 95 finished with value: -3.0795830383535305 and parameters: {'min_samples_split': 2, 'max_depth': 19, 'n_estimators': 400}. Best is trial 92 with value: -3.07540740194436.\u001b[0m\n",
      "\u001b[32m[I 2021-08-04 13:20:37,229]\u001b[0m Trial 96 finished with value: -3.081891497718871 and parameters: {'min_samples_split': 2, 'max_depth': 18, 'n_estimators': 400}. Best is trial 92 with value: -3.07540740194436.\u001b[0m\n",
      "\u001b[32m[I 2021-08-04 13:20:43,242]\u001b[0m Trial 97 finished with value: -3.078965856437745 and parameters: {'min_samples_split': 2, 'max_depth': 20, 'n_estimators': 419}. Best is trial 92 with value: -3.07540740194436.\u001b[0m\n",
      "\u001b[32m[I 2021-08-04 13:20:48,354]\u001b[0m Trial 98 finished with value: -3.0830511173485555 and parameters: {'min_samples_split': 2, 'max_depth': 14, 'n_estimators': 410}. Best is trial 92 with value: -3.07540740194436.\u001b[0m\n",
      "\u001b[32m[I 2021-08-04 13:20:52,884]\u001b[0m Trial 99 finished with value: -3.089495658140035 and parameters: {'min_samples_split': 3, 'max_depth': 19, 'n_estimators': 399}. Best is trial 92 with value: -3.07540740194436.\u001b[0m\n"
     ]
    }
   ],
   "metadata": {
    "tags": [
     "outputPrepend"
    ]
   }
  },
  {
   "cell_type": "code",
   "execution_count": 7,
   "source": [
    "get_learning_curve(study)"
   ],
   "outputs": [
    {
     "output_type": "execute_result",
     "data": {
      "text/plain": [
       "(<Figure size 432x288 with 1 Axes>,\n",
       " <AxesSubplot:xlabel='Trials', ylabel='Objective Values'>)"
      ]
     },
     "metadata": {},
     "execution_count": 7
    },
    {
     "output_type": "display_data",
     "data": {
      "text/plain": [
       "<Figure size 432x288 with 1 Axes>"
      ],
      "image/png": "[encoded data removed]"
     },
     "metadata": {}
    }
   ],
   "metadata": {}
  },
  {
   "cell_type": "code",
   "execution_count": 8,
   "source": [
    "rf_opt = clone(rf).set_params(**study.best_params)"
   ],
   "outputs": [],
   "metadata": {}
  },
  {
   "cell_type": "code",
   "execution_count": 9,
   "source": [
    "kf = KFold(cv = 5)\n",
    "for i_train, i_test in kf.split(X, y):\n",
    "    rf_opt = clone(rf_opt)\n",
    "    X_train, y_train = X.loc[i_train], y[i_train]\n",
    "    X_test, y_test = X.loc[i_test], y[i_test]\n",
    "\n",
    "    rf_opt.fit(X_train, y_train)\n",
    "    print(mean_squared_error(y_test, rf_opt.predict(X_test), squared = False))"
   ],
   "outputs": [
    {
     "output_type": "stream",
     "name": "stdout",
     "text": [
      "2.171397476755777\n",
      "2.33446615596077\n",
      "2.7604096871439285\n",
      "3.249865058075769\n",
      "4.855482419167345\n"
     ]
    }
   ],
   "metadata": {}
  },
  {
   "cell_type": "code",
   "execution_count": null,
   "source": [],
   "outputs": [],
   "metadata": {}
  }
 ]
}