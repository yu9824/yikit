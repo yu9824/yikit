{
 "metadata": {
  "language_info": {
   "codemirror_mode": {
    "name": "ipython",
    "version": 3
   },
   "file_extension": ".py",
   "mimetype": "text/x-python",
   "name": "python",
   "nbconvert_exporter": "python",
   "pygments_lexer": "ipython3",
   "version": "3.8.10"
  },
  "orig_nbformat": 2,
  "kernelspec": {
   "name": "python3",
   "display_name": "Python 3.8.10 64-bit ('yikit': conda)"
  },
  "metadata": {
   "interpreter": {
    "hash": "aef1f1c6d6494a954552c4d3b3b802cf10d2b71861e5c864fe3bae3d265d2422"
   }
  },
  "interpreter": {
   "hash": "59a1c5d23aaa5b62e7da8e61f7ed4a1241269c6c2d4056de487f3c29a0c2933b"
  }
 },
 "nbformat": 4,
 "nbformat_minor": 2,
 "cells": [
  {
   "cell_type": "code",
   "execution_count": 1,
   "source": [
    "from yikit.models import GBDTRegressor, EnsembleRegressor\n",
    "from sklearn.ensemble import RandomForestRegressor\n",
    "import numpy as np\n",
    "import pandas as pd\n",
    "from kennard_stone import train_test_split\n",
    "from sklearn.metrics import mean_squared_error\n",
    "from sklearn.datasets import load_boston\n",
    "import pickle\n",
    "from joblib import Parallel, delayed"
   ],
   "outputs": [],
   "metadata": {}
  },
  {
   "cell_type": "code",
   "execution_count": 2,
   "source": [
    "SEED = 334"
   ],
   "outputs": [],
   "metadata": {}
  },
  {
   "cell_type": "code",
   "execution_count": 3,
   "source": [
    "boston = load_boston()\n",
    "X = pd.DataFrame(boston['data'], columns = boston['feature_names'])\n",
    "y = pd.Series(boston['target'], name = 'PRICE')"
   ],
   "outputs": [],
   "metadata": {}
  },
  {
   "cell_type": "code",
   "execution_count": 4,
   "source": [
    "X_train, X_test, y_train, y_test = train_test_split(X, y, test_size = 0.2, random_state = SEED)"
   ],
   "outputs": [],
   "metadata": {}
  },
  {
   "cell_type": "code",
   "execution_count": 5,
   "source": [
    "methods = ('average', 'blending', 'stacking')\n",
    "\n",
    "def f(method):\n",
    "    model = EnsembleRegressor(estimators = [RandomForestRegressor(n_estimators = 100, random_state = SEED), GBDTRegressor(random_state = SEED)], random_state = SEED, method = method, boruta = False, n_jobs=-1)\n",
    "    model.fit(X_train, y_train)\n",
    "    print('{0}: {1:.4f}'.format(method, mean_squared_error(model.predict(X_test), y_test, squared = False)))\n",
    "\n",
    "Parallel(n_jobs=-1)(delayed(f)(method) for method in methods)"
   ],
   "outputs": [
    {
     "output_type": "stream",
     "name": "stdout",
     "text": [
      "average: 2.1815\n",
      "stacking: 2.1613\n",
      "blending: 2.1845\n"
     ]
    },
    {
     "output_type": "execute_result",
     "data": {
      "text/plain": [
       "[None, None, None]"
      ]
     },
     "metadata": {},
     "execution_count": 5
    }
   ],
   "metadata": {}
  },
  {
   "cell_type": "code",
   "execution_count": null,
   "source": [],
   "outputs": [],
   "metadata": {}
  }
 ]
}