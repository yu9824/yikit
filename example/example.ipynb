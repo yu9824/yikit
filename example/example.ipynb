{
 "metadata": {
  "language_info": {
   "codemirror_mode": {
    "name": "ipython",
    "version": 3
   },
   "file_extension": ".py",
   "mimetype": "text/x-python",
   "name": "python",
   "nbconvert_exporter": "python",
   "pygments_lexer": "ipython3",
   "version": "3.7.6-final"
  },
  "orig_nbformat": 2,
  "kernelspec": {
   "name": "python3",
   "display_name": "Python 3",
   "language": "python"
  }
 },
 "nbformat": 4,
 "nbformat_minor": 2,
 "cells": [
  {
   "cell_type": "code",
   "execution_count": 1,
   "metadata": {},
   "outputs": [],
   "source": [
    "import sys, os\n",
    "sys.path.append(os.path.dirname(os.getcwd()))"
   ]
  },
  {
   "cell_type": "code",
   "execution_count": 2,
   "metadata": {},
   "outputs": [
    {
     "output_type": "stream",
     "name": "stderr",
     "text": [
      "Using TensorFlow backend.\n"
     ]
    }
   ],
   "source": [
    "from my_models import NNRegressor\n",
    "import numpy as np\n",
    "import pandas as pd\n",
    "from sklearn.model_selection import cross_val_predict, cross_val_score\n",
    "from sklearn.metrics import mean_squared_error\n",
    "from keras.backend import clear_session\n",
    "mean_squared_error"
   ]
  },
  {
   "cell_type": "code",
   "execution_count": 3,
   "metadata": {},
   "outputs": [],
   "source": [
    "SEED = 334\n",
    "np.random.seed(SEED)\n",
    "\n",
    "n_samples = 100\n",
    "n_features = 5"
   ]
  },
  {
   "cell_type": "code",
   "execution_count": 4,
   "metadata": {},
   "outputs": [],
   "source": [
    "X = pd.DataFrame(np.random.rand(n_samples, n_features), columns = ['estimator{0}'.format(n) for n in range(n_features)])\n",
    "y = pd.Series(np.random.randint(0, 2, n_samples), name = 'y')"
   ]
  },
  {
   "cell_type": "code",
   "execution_count": 5,
   "metadata": {},
   "outputs": [],
   "source": [
    "nn = NNRegressor(scale = False, random_state = SEED)"
   ]
  },
  {
   "cell_type": "code",
   "execution_count": 6,
   "metadata": {},
   "outputs": [
    {
     "output_type": "stream",
     "name": "stderr",
     "text": [
      " 50%|█████     | 5/10 [00:00<00:00, 18.02it/s]WARNING:tensorflow:From /Users/ryojikanno/.pyenv/versions/anaconda3-2019.03/envs/PC/lib/python3.7/site-packages/keras/backend/tensorflow_backend.py:422: The name tf.global_variables is deprecated. Please use tf.compat.v1.global_variables instead.\n",
      "\n",
      "100%|██████████| 10/10 [00:03<00:00,  3.27it/s]\n",
      "100%|██████████| 10/10 [00:03<00:00,  3.04it/s]\n",
      "100%|██████████| 10/10 [00:03<00:00,  2.80it/s]\n",
      "100%|██████████| 10/10 [00:03<00:00,  2.57it/s]\n",
      "100%|██████████| 10/10 [00:04<00:00,  2.21it/s]\n",
      "MSE0: 0.318\n",
      "MSE1: 0.262\n",
      "MSE2: 0.183\n",
      "MSE3: 0.254\n",
      "MSE4: 0.349\n"
     ]
    }
   ],
   "source": [
    "warnings.simplefilter('ignore')\n",
    "for i, score in enumerate(cross_val_score(nn, X, y, cv = 5, scoring = 'neg_mean_squared_error')):\n",
    "    print('MSE{0}: {1:.3f}'.format(i, -score))\n",
    "warnings.resetwarnings()\n",
    "clear_session()"
   ]
  },
  {
   "cell_type": "code",
   "execution_count": 7,
   "metadata": {},
   "outputs": [
    {
     "output_type": "stream",
     "name": "stderr",
     "text": [
      "/Users/ryojikanno/.pyenv/versions/anaconda3-2019.03/envs/PC/lib/python3.7/site-packages/ipykernel/ipkernel.py:287: DeprecationWarning: `should_run_async` will not call `transform_cell` automatically in the future. Please pass the result to `transformed_cell` argument and any exception that happen during thetransform in `preprocessing_exc_tuple` in IPython 7.17 and above.\n",
      "  and should_run_async(code)\n",
      "100%|██████████| 10/10 [00:02<00:00,  3.83it/s]\n",
      "100%|██████████| 10/10 [00:03<00:00,  2.98it/s]\n",
      "100%|██████████| 10/10 [00:03<00:00,  2.74it/s]\n",
      "100%|██████████| 10/10 [00:03<00:00,  2.58it/s]\n",
      "100%|██████████| 10/10 [00:04<00:00,  2.37it/s]\n"
     ]
    },
    {
     "output_type": "execute_result",
     "data": {
      "text/plain": [
       "array([0.04214416, 0.10456244, 0.19796531, 0.09286873, 0.21549183,\n",
       "       0.07907326, 0.2393581 , 0.11736824, 0.1862048 , 0.19926098,\n",
       "       0.08892234, 0.17261952, 0.19312555, 0.08949216, 0.13399729,\n",
       "       0.16232222, 0.12506524, 0.10909479, 0.07929406, 0.16352858,\n",
       "       0.3268842 , 0.43164253, 0.4327439 , 0.4231909 , 0.3309089 ,\n",
       "       0.57660925, 0.49637496, 0.5373036 , 0.46433306, 0.46452942,\n",
       "       0.47397014, 0.3467707 , 0.4493158 , 0.4828312 , 0.50411284,\n",
       "       0.34914428, 0.3654747 , 0.39642635, 0.6082768 , 0.57044417,\n",
       "       0.46350986, 0.35445943, 0.34482196, 0.3692618 , 0.27622798,\n",
       "       0.31894144, 0.3896825 , 0.28618914, 0.40065435, 0.33451775,\n",
       "       0.43251127, 0.37401056, 0.3443924 , 0.19329612, 0.24966007,\n",
       "       0.46614692, 0.43290183, 0.38294807, 0.41956094, 0.35101265,\n",
       "       0.2705261 , 0.33464754, 0.24645242, 0.2553651 , 0.25066286,\n",
       "       0.3479796 , 0.27810338, 0.2660377 , 0.45116898, 0.37881178,\n",
       "       0.31368744, 0.27640414, 0.2998041 , 0.2867405 , 0.32093433,\n",
       "       0.24450071, 0.2581091 , 0.36630267, 0.22303152, 0.2502567 ,\n",
       "       0.35138118, 0.5362082 , 0.45093432, 0.34286577, 0.55442494,\n",
       "       0.39413482, 0.39396253, 0.3195787 , 0.33225295, 0.308793  ,\n",
       "       0.29174915, 0.43943736, 0.40877652, 0.33844864, 0.45023358,\n",
       "       0.39989963, 0.41544902, 0.33668873, 0.38809618, 0.39841056],\n",
       "      dtype=float32)"
      ]
     },
     "metadata": {},
     "execution_count": 7
    }
   ],
   "source": [
    "import warnings\n",
    "warnings.simplefilter('ignore')\n",
    "y_pred = cross_val_predict(nn, X, y, cv = 5)\n",
    "warnings.resetwarnings()\n",
    "clear_session()\n",
    "y_pred"
   ]
  },
  {
   "cell_type": "code",
   "execution_count": 8,
   "metadata": {},
   "outputs": [
    {
     "output_type": "stream",
     "name": "stderr",
     "text": [
      "/Users/ryojikanno/.pyenv/versions/anaconda3-2019.03/envs/PC/lib/python3.7/site-packages/ipykernel/ipkernel.py:287: DeprecationWarning: `should_run_async` will not call `transform_cell` automatically in the future. Please pass the result to `transformed_cell` argument and any exception that happen during thetransform in `preprocessing_exc_tuple` in IPython 7.17 and above.\n  and should_run_async(code)\n"
     ]
    },
    {
     "output_type": "execute_result",
     "data": {
      "text/plain": [
       "0.26801280946900663"
      ]
     },
     "metadata": {},
     "execution_count": 8
    }
   ],
   "source": [
    "mean_squared_error(y_pred, y)"
   ]
  },
  {
   "cell_type": "code",
   "execution_count": null,
   "metadata": {},
   "outputs": [],
   "source": []
  }
 ]
}