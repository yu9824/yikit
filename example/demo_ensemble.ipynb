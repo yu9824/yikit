{
 "metadata": {
  "language_info": {
   "codemirror_mode": {
    "name": "ipython",
    "version": 3
   },
   "file_extension": ".py",
   "mimetype": "text/x-python",
   "name": "python",
   "nbconvert_exporter": "python",
   "pygments_lexer": "ipython3",
   "version": "3.8.8"
  },
  "orig_nbformat": 2,
  "kernelspec": {
   "name": "python388jvsc74a57bd0aef1f1c6d6494a954552c4d3b3b802cf10d2b71861e5c864fe3bae3d265d2422",
   "display_name": "Python 3.8.8 64-bit ('CP': conda)"
  },
  "metadata": {
   "interpreter": {
    "hash": "aef1f1c6d6494a954552c4d3b3b802cf10d2b71861e5c864fe3bae3d265d2422"
   }
  }
 },
 "nbformat": 4,
 "nbformat_minor": 2,
 "cells": [
  {
   "cell_type": "code",
   "execution_count": 2,
   "source": [
    "from yikit.models import EnsembleRegressor, Objective\n",
    "from kennard_stone import train_test_split, KFold\n",
    "\n",
    "import pandas as pd\n",
    "from sklearn.metrics import mean_squared_error\n",
    "import optuna\n",
    "from lightgbm import LGBMRegressor"
   ],
   "outputs": [],
   "metadata": {}
  },
  {
   "cell_type": "code",
   "execution_count": 3,
   "source": [
    "SEED = 334\n",
    "kf = KFold(n_splits = 5)"
   ],
   "outputs": [],
   "metadata": {}
  },
  {
   "cell_type": "code",
   "execution_count": 4,
   "source": [
    "from sklearn.datasets import load_boston\n",
    "data = load_boston()\n",
    "X = pd.DataFrame(data.data, columns = data.feature_names)\n",
    "y = pd.Series(data.target, name = 'PRICE')"
   ],
   "outputs": [],
   "metadata": {}
  },
  {
   "cell_type": "code",
   "execution_count": 5,
   "source": [
    "X_train, X_test, y_train, y_test = train_test_split(X, y, test_size = 0.2)"
   ],
   "outputs": [],
   "metadata": {}
  },
  {
   "cell_type": "code",
   "execution_count": 6,
   "source": [
    "# rf = RandomForestRegressor(random_state = SEED, n_jobs = -1)\n",
    "lgbt = LGBMRegressor(random_state = SEED, n_jobs = -1)"
   ],
   "outputs": [],
   "metadata": {}
  },
  {
   "cell_type": "code",
   "execution_count": 7,
   "source": [
    "objective = Objective(lgbt, X_train, y_train, scoring = 'neg_root_mean_squared_error', cv = kf)\n",
    "study = optuna.create_study(sampler = objective.sampler, direction = 'maximize')\n",
    "study.optimize(objective, n_trials = 100)"
   ],
   "outputs": [
    {
     "output_type": "stream",
     "name": "stderr",
     "text": [
      "'colsample_bytree': 0.8652996355660826, 'subsample': 0.8088596171510801, 'num_leaves': 173}. Best is trial 35 with value: -3.5042669200709513.\u001b[0m\n",
      "\u001b[32m[I 2021-04-27 13:15:14,702]\u001b[0m Trial 36 finished with value: -3.5121524987547934 and parameters: {'n_estimators': 220, 'min_child_weight': 5.495743287971056, 'colsample_bytree': 0.8468975152669369, 'subsample': 0.8555245210356347, 'num_leaves': 500}. Best is trial 35 with value: -3.5042669200709513.\u001b[0m\n",
      "\u001b[32m[I 2021-04-27 13:15:23,059]\u001b[0m Trial 37 finished with value: -3.5175459215960414 and parameters: {'n_estimators': 307, 'min_child_weight': 2.55504196814523, 'colsample_bytree': 0.9222276860922412, 'subsample': 0.9194484093327067, 'num_leaves': 172}. Best is trial 35 with value: -3.5042669200709513.\u001b[0m\n",
      "\u001b[32m[I 2021-04-27 13:15:30,763]\u001b[0m Trial 38 finished with value: -3.510641389382589 and parameters: {'n_estimators': 432, 'min_child_weight': 0.7068705187514247, 'colsample_bytree': 0.8720536209002473, 'subsample': 0.7808042263978054, 'num_leaves': 209}. Best is trial 35 with value: -3.5042669200709513.\u001b[0m\n",
      "\u001b[32m[I 2021-04-27 13:15:37,265]\u001b[0m Trial 39 finished with value: -3.5392381913117914 and parameters: {'n_estimators': 364, 'min_child_weight': 0.395656002902927, 'colsample_bytree': 0.7739433352355415, 'subsample': 0.8371444648043761, 'num_leaves': 338}. Best is trial 35 with value: -3.5042669200709513.\u001b[0m\n",
      "\u001b[32m[I 2021-04-27 13:15:41,750]\u001b[0m Trial 40 finished with value: -3.517777073086117 and parameters: {'n_estimators': 272, 'min_child_weight': 0.12832961307823648, 'colsample_bytree': 0.8932278366279148, 'subsample': 0.6120437668171014, 'num_leaves': 125}. Best is trial 35 with value: -3.5042669200709513.\u001b[0m\n",
      "\u001b[32m[I 2021-04-27 13:15:46,409]\u001b[0m Trial 41 finished with value: -3.505425842880372 and parameters: {'n_estimators': 321, 'min_child_weight': 1.3486582099787, 'colsample_bytree': 0.821842492591174, 'subsample': 0.8107076753803217, 'num_leaves': 71}. Best is trial 35 with value: -3.5042669200709513.\u001b[0m\n",
      "\u001b[32m[I 2021-04-27 13:15:49,805]\u001b[0m Trial 42 finished with value: -3.5414538665338817 and parameters: {'n_estimators': 318, 'min_child_weight': 1.2666877262765441, 'colsample_bytree': 0.7882415499984765, 'subsample': 0.8095117743953782, 'num_leaves': 59}. Best is trial 35 with value: -3.5042669200709513.\u001b[0m\n",
      "\u001b[32m[I 2021-04-27 13:15:51,850]\u001b[0m Trial 43 finished with value: -3.5069201524375884 and parameters: {'n_estimators': 233, 'min_child_weight': 2.0738801581945565, 'colsample_bytree': 0.864165789488497, 'subsample': 0.7619551232174981, 'num_leaves': 70}. Best is trial 35 with value: -3.5042669200709513.\u001b[0m\n",
      "\u001b[32m[I 2021-04-27 13:15:54,349]\u001b[0m Trial 44 finished with value: -3.506373760817705 and parameters: {'n_estimators': 285, 'min_child_weight': 0.40938426119025256, 'colsample_bytree': 0.8368634057993323, 'subsample': 0.826142501094903, 'num_leaves': 150}. Best is trial 35 with value: -3.5042669200709513.\u001b[0m\n",
      "\u001b[32m[I 2021-04-27 13:15:56,903]\u001b[0m Trial 45 finished with value: -3.5171374777918487 and parameters: {'n_estimators': 359, 'min_child_weight': 5.14958268917212, 'colsample_bytree': 0.8832569980109892, 'subsample': 0.7912404857740125, 'num_leaves': 88}. Best is trial 35 with value: -3.5042669200709513.\u001b[0m\n",
      "\u001b[32m[I 2021-04-27 13:15:58,921]\u001b[0m Trial 46 finished with value: -3.502439222729919 and parameters: {'n_estimators': 263, 'min_child_weight': 2.8280329041008754, 'colsample_bytree': 0.8443739466242757, 'subsample': 0.8581657570250089, 'num_leaves': 113}. Best is trial 46 with value: -3.502439222729919.\u001b[0m\n",
      "\u001b[32m[I 2021-04-27 13:16:01,362]\u001b[0m Trial 47 finished with value: -3.518536835369558 and parameters: {'n_estimators': 325, 'min_child_weight': 2.7189375326364833, 'colsample_bytree': 0.9284231538898041, 'subsample': 0.8683666175727539, 'num_leaves': 36}. Best is trial 46 with value: -3.502439222729919.\u001b[0m\n",
      "\u001b[32m[I 2021-04-27 13:16:06,773]\u001b[0m Trial 48 finished with value: -3.552722767225812 and parameters: {'n_estimators': 261, 'min_child_weight': 5.843774486840408, 'colsample_bytree': 0.7721799787366619, 'subsample': 0.8436111501214861, 'num_leaves': 366}. Best is trial 46 with value: -3.502439222729919.\u001b[0m\n",
      "\u001b[32m[I 2021-04-27 13:16:13,710]\u001b[0m Trial 49 finished with value: -3.5682012570576376 and parameters: {'n_estimators': 152, 'min_child_weight': 1.5550728359567962, 'colsample_bytree': 0.7249283379154895, 'subsample': 0.8869623429184122, 'num_leaves': 51}. Best is trial 46 with value: -3.502439222729919.\u001b[0m\n",
      "\u001b[32m[I 2021-04-27 13:16:23,774]\u001b[0m Trial 50 finished with value: -3.5116673775900678 and parameters: {'n_estimators': 223, 'min_child_weight': 0.8359760059733092, 'colsample_bytree': 0.8633424746928412, 'subsample': 0.8128346089548164, 'num_leaves': 68}. Best is trial 46 with value: -3.502439222729919.\u001b[0m\n",
      "\u001b[32m[I 2021-04-27 13:16:37,296]\u001b[0m Trial 51 finished with value: -3.5071509804878565 and parameters: {'n_estimators': 302, 'min_child_weight': 2.6121268880685937, 'colsample_bytree': 0.8452298552407012, 'subsample': 0.9070501080528515, 'num_leaves': 118}. Best is trial 46 with value: -3.502439222729919.\u001b[0m\n",
      "\u001b[32m[I 2021-04-27 13:16:50,302]\u001b[0m Trial 52 finished with value: -3.507655415060976 and parameters: {'n_estimators': 291, 'min_child_weight': 1.6824010198592803, 'colsample_bytree': 0.8241195639362153, 'subsample': 0.8510340278775306, 'num_leaves': 149}. Best is trial 46 with value: -3.502439222729919.\u001b[0m\n",
      "\u001b[32m[I 2021-04-27 13:17:01,824]\u001b[0m Trial 53 finished with value: -3.504633563521023 and parameters: {'n_estimators': 259, 'min_child_weight': 0.5128775894248588, 'colsample_bytree': 0.8508515610338514, 'subsample': 0.8236185326634133, 'num_leaves': 101}. Best is trial 46 with value: -3.502439222729919.\u001b[0m\n",
      "\u001b[32m[I 2021-04-27 13:17:12,896]\u001b[0m Trial 54 finished with value: -3.5049159444995155 and parameters: {'n_estimators': 258, 'min_child_weight': 0.48331295358536275, 'colsample_bytree': 0.8168012882789071, 'subsample': 0.8316842718816176, 'num_leaves': 64}. Best is trial 46 with value: -3.502439222729919.\u001b[0m\n",
      "\u001b[32m[I 2021-04-27 13:17:24,444]\u001b[0m Trial 55 finished with value: -3.5411775707961666 and parameters: {'n_estimators': 252, 'min_child_weight': 0.19840620138991494, 'colsample_bytree': 0.80155744136716, 'subsample': 0.8272894572257852, 'num_leaves': 205}. Best is trial 46 with value: -3.502439222729919.\u001b[0m\n",
      "\u001b[32m[I 2021-04-27 13:17:32,918]\u001b[0m Trial 56 finished with value: -3.5183506421462463 and parameters: {'n_estimators': 202, 'min_child_weight': 0.0011028570646889463, 'colsample_bytree': 0.8204493563133268, 'subsample': 0.8167515221071365, 'num_leaves': 112}. Best is trial 46 with value: -3.502439222729919.\u001b[0m\n",
      "\u001b[32m[I 2021-04-27 13:17:46,185]\u001b[0m Trial 57 finished with value: -3.5186180303729606 and parameters: {'n_estimators': 261, 'min_child_weight': 0.45239477365325864, 'colsample_bytree': 0.9041797272828396, 'subsample': 0.7735699740122551, 'num_leaves': 84}. Best is trial 46 with value: -3.502439222729919.\u001b[0m\n",
      "\u001b[32m[I 2021-04-27 13:17:55,990]\u001b[0m Trial 58 finished with value: -3.517618975501455 and parameters: {'n_estimators': 189, 'min_child_weight': 0.5723331023530656, 'colsample_bytree': 0.8536714655559047, 'subsample': 0.7504732396152148, 'num_leaves': 51}. Best is trial 46 with value: -3.502439222729919.\u001b[0m\n",
      "\u001b[32m[I 2021-04-27 13:18:09,272]\u001b[0m Trial 59 finished with value: -3.5071352160499942 and parameters: {'n_estimators': 238, 'min_child_weight': 0.27826352428535595, 'colsample_bytree': 0.815352380749569, 'subsample': 0.8368268357617328, 'num_leaves': 138}. Best is trial 46 with value: -3.502439222729919.\u001b[0m\n",
      "\u001b[32m[I 2021-04-27 13:18:18,557]\u001b[0m Trial 60 finished with value: -3.5958528173656648 and parameters: {'n_estimators': 170, 'min_child_weight': 0.08294798502252157, 'colsample_bytree': 0.6625917505096389, 'subsample': 0.794921409853508, 'num_leaves': 104}. Best is trial 46 with value: -3.502439222729919.\u001b[0m\n",
      "\u001b[32m[I 2021-04-27 13:18:27,628]\u001b[0m Trial 61 finished with value: -3.507555713602406 and parameters: {'n_estimators': 315, 'min_child_weight': 0.8072652512472109, 'colsample_bytree': 0.8677196945024783, 'subsample': 0.8647072397096792, 'num_leaves': 66}. Best is trial 46 with value: -3.502439222729919.\u001b[0m\n",
      "\u001b[32m[I 2021-04-27 13:18:38,534]\u001b[0m Trial 62 finished with value: -3.506818932421628 and parameters: {'n_estimators': 344, 'min_child_weight': 1.5529634989484302, 'colsample_bytree': 0.8545540632556516, 'subsample': 0.8882414148893525, 'num_leaves': 39}. Best is trial 46 with value: -3.502439222729919.\u001b[0m\n",
      "\u001b[32m[I 2021-04-27 13:18:46,489]\u001b[0m Trial 63 finished with value: -3.5133492908913255 and parameters: {'n_estimators': 265, 'min_child_weight': 0.5277537600905023, 'colsample_bytree': 0.8842980925041248, 'subsample': 0.8610085367366183, 'num_leaves': 83}. Best is trial 46 with value: -3.502439222729919.\u001b[0m\n",
      "\u001b[32m[I 2021-04-27 13:18:53,853]\u001b[0m Trial 64 finished with value: -3.5074344838151688 and parameters: {'n_estimators': 292, 'min_child_weight': 1.0115127124796661, 'colsample_bytree': 0.8310881578322167, 'subsample': 0.8478441984458788, 'num_leaves': 56}. Best is trial 46 with value: -3.502439222729919.\u001b[0m\n",
      "\u001b[32m[I 2021-04-27 13:19:00,140]\u001b[0m Trial 65 finished with value: -3.5073779458366894 and parameters: {'n_estimators': 239, 'min_child_weight': 2.442385720414348, 'colsample_bytree': 0.8374867452008197, 'subsample': 0.8758825969948968, 'num_leaves': 43}. Best is trial 46 with value: -3.502439222729919.\u001b[0m\n",
      "\u001b[32m[I 2021-04-27 13:19:12,126]\u001b[0m Trial 66 finished with value: -3.510379543826768 and parameters: {'n_estimators': 385, 'min_child_weight': 4.063872007959449, 'colsample_bytree': 0.8142689287182456, 'subsample': 0.832730195475183, 'num_leaves': 73}. Best is trial 46 with value: -3.502439222729919.\u001b[0m\n",
      "\u001b[32m[I 2021-04-27 13:19:18,767]\u001b[0m Trial 67 finished with value: -3.5478738030972052 and parameters: {'n_estimators': 203, 'min_child_weight': 0.6894194582822555, 'colsample_bytree': 0.7907270472706444, 'subsample': 0.8043327963790486, 'num_leaves': 101}. Best is trial 46 with value: -3.502439222729919.\u001b[0m\n",
      "\u001b[32m[I 2021-04-27 13:19:25,593]\u001b[0m Trial 68 finished with value: -3.5066994291789313 and parameters: {'n_estimators': 251, 'min_child_weight': 6.418441105315969, 'colsample_bytree': 0.8494068747953724, 'subsample': 0.8140066044056582, 'num_leaves': 183}. Best is trial 46 with value: -3.502439222729919.\u001b[0m\n",
      "\u001b[32m[I 2021-04-27 13:19:32,975]\u001b[0m Trial 69 finished with value: -3.5177537336609404 and parameters: {'n_estimators': 297, 'min_child_weight': 0.2186905627382448, 'colsample_bytree': 0.8750575216648652, 'subsample': 0.8555425789269483, 'num_leaves': 63}. Best is trial 46 with value: -3.502439222729919.\u001b[0m\n",
      "\u001b[32m[I 2021-04-27 13:19:39,474]\u001b[0m Trial 70 finished with value: -3.5377083527355815 and parameters: {'n_estimators': 276, 'min_child_weight': 0.04896707828438757, 'colsample_bytree': 0.800181302187029, 'subsample': 0.8886638027241863, 'num_leaves': 271}. Best is trial 46 with value: -3.502439222729919.\u001b[0m\n",
      "\u001b[32m[I 2021-04-27 13:19:47,999]\u001b[0m Trial 71 finished with value: -3.506896204917105 and parameters: {'n_estimators': 317, 'min_child_weight': 1.1340529620167017, 'colsample_bytree': 0.8312790791526854, 'subsample': 0.7820910559782404, 'num_leaves': 96}. Best is trial 46 with value: -3.502439222729919.\u001b[0m\n",
      "\u001b[32m[I 2021-04-27 13:19:56,554]\u001b[0m Trial 72 finished with value: -3.5065345069979785 and parameters: {'n_estimators': 340, 'min_child_weight': 2.9831728471722134, 'colsample_bytree': 0.8438600097773636, 'subsample': 0.8206479559898077, 'num_leaves': 84}. Best is trial 46 with value: -3.502439222729919.\u001b[0m\n",
      "\u001b[32m[I 2021-04-27 13:20:02,320]\u001b[0m Trial 73 finished with value: -3.5075521458492083 and parameters: {'n_estimators': 228, 'min_child_weight': 1.9397138106317917, 'colsample_bytree': 0.8601031766856074, 'subsample': 0.8416009062202123, 'num_leaves': 30}. Best is trial 46 with value: -3.502439222729919.\u001b[0m\n",
      "\u001b[32m[I 2021-04-27 13:20:08,867]\u001b[0m Trial 74 finished with value: -3.5030809222455987 and parameters: {'n_estimators': 271, 'min_child_weight': 0.8587414999733777, 'colsample_bytree': 0.8414283896043885, 'subsample': 0.9018617355310022, 'num_leaves': 116}. Best is trial 46 with value: -3.502439222729919.\u001b[0m\n",
      "\u001b[32m[I 2021-04-27 13:20:14,113]\u001b[0m Trial 75 finished with value: -3.503073148255659 and parameters: {'n_estimators': 269, 'min_child_weight': 1.3865773846932368, 'colsample_bytree': 0.8242219844306504, 'subsample': 0.9175137383955787, 'num_leaves': 136}. Best is trial 46 with value: -3.502439222729919.\u001b[0m\n",
      "\u001b[32m[I 2021-04-27 13:20:18,521]\u001b[0m Trial 76 finished with value: -3.5518054911722077 and parameters: {'n_estimators': 262, 'min_child_weight': 1.4193114870668757, 'colsample_bytree': 0.7806246574848106, 'subsample': 0.9194235138679602, 'num_leaves': 138}. Best is trial 46 with value: -3.502439222729919.\u001b[0m\n",
      "\u001b[32m[I 2021-04-27 13:20:22,804]\u001b[0m Trial 77 finished with value: -3.5177517633648763 and parameters: {'n_estimators': 210, 'min_child_weight': 0.7984442193550032, 'colsample_bytree': 0.8148609212380776, 'subsample': 0.9279048567233817, 'num_leaves': 115}. Best is trial 46 with value: -3.502439222729919.\u001b[0m\n",
      "\u001b[32m[I 2021-04-27 13:20:27,361]\u001b[0m Trial 78 finished with value: -3.5032446149294594 and parameters: {'n_estimators': 272, 'min_child_weight': 0.308466591195598, 'colsample_bytree': 0.8235137263558899, 'subsample': 0.8981124225516893, 'num_leaves': 156}. Best is trial 46 with value: -3.502439222729919.\u001b[0m\n",
      "\u001b[32m[I 2021-04-27 13:20:30,764]\u001b[0m Trial 79 finished with value: -3.5167335872100622 and parameters: {'n_estimators': 273, 'min_child_weight': 0.29571964995906835, 'colsample_bytree': 0.8871797672483448, 'subsample': 0.9387886185752562, 'num_leaves': 239}. Best is trial 46 with value: -3.502439222729919.\u001b[0m\n",
      "\u001b[32m[I 2021-04-27 13:20:33,761]\u001b[0m Trial 80 finished with value: -3.5413582088782514 and parameters: {'n_estimators': 244, 'min_child_weight': 0.525764202197212, 'colsample_bytree': 0.796411935084998, 'subsample': 0.9091921854227657, 'num_leaves': 192}. Best is trial 46 with value: -3.502439222729919.\u001b[0m\n",
      "\u001b[32m[I 2021-04-27 13:20:37,813]\u001b[0m Trial 81 finished with value: -3.508124790161973 and parameters: {'n_estimators': 307, 'min_child_weight': 0.3435931719264605, 'colsample_bytree': 0.8261487908336529, 'subsample': 0.8973409804243487, 'num_leaves': 159}. Best is trial 46 with value: -3.502439222729919.\u001b[0m\n",
      "\u001b[32m[I 2021-04-27 13:20:40,872]\u001b[0m Trial 82 finished with value: -3.505328597651043 and parameters: {'n_estimators': 331, 'min_child_weight': 1.192318079796856, 'colsample_bytree': 0.8576706526764912, 'subsample': 0.8994239052342485, 'num_leaves': 135}. Best is trial 46 with value: -3.502439222729919.\u001b[0m\n",
      "\u001b[32m[I 2021-04-27 13:20:43,415]\u001b[0m Trial 83 finished with value: -3.507959630098268 and parameters: {'n_estimators': 294, 'min_child_weight': 0.6359497906255087, 'colsample_bytree': 0.8603150151857527, 'subsample': 0.8983647233758778, 'num_leaves': 135}. Best is trial 46 with value: -3.502439222729919.\u001b[0m\n",
      "\u001b[32m[I 2021-04-27 13:20:46,624]\u001b[0m Trial 84 finished with value: -3.5198437570987293 and parameters: {'n_estimators': 372, 'min_child_weight': 0.16550343311332147, 'colsample_bytree': 0.8767858945857568, 'subsample': 0.9149067138402417, 'num_leaves': 161}. Best is trial 46 with value: -3.502439222729919.\u001b[0m\n",
      "\u001b[32m[I 2021-04-27 13:20:49,135]\u001b[0m Trial 85 finished with value: -3.5431971624280196 and parameters: {'n_estimators': 330, 'min_child_weight': 0.9012690276593048, 'colsample_bytree': 0.7652568793894337, 'subsample': 0.8796553918687855, 'num_leaves': 123}. Best is trial 46 with value: -3.502439222729919.\u001b[0m\n",
      "\u001b[32m[I 2021-04-27 13:20:51,907]\u001b[0m Trial 86 finished with value: -3.507657638312729 and parameters: {'n_estimators': 350, 'min_child_weight': 1.9085657414363395, 'colsample_bytree': 0.8432964449416956, 'subsample': 0.9378083473345417, 'num_leaves': 226}. Best is trial 46 with value: -3.502439222729919.\u001b[0m\n",
      "\u001b[32m[I 2021-04-27 13:20:52,841]\u001b[0m Trial 87 finished with value: -3.5025668080282166 and parameters: {'n_estimators': 273, 'min_child_weight': 1.1543102869779454, 'colsample_bytree': 0.8077008054555391, 'subsample': 0.872589904235211, 'num_leaves': 291}. Best is trial 46 with value: -3.502439222729919.\u001b[0m\n",
      "\u001b[32m[I 2021-04-27 13:20:53,712]\u001b[0m Trial 88 finished with value: -3.504568217131034 and parameters: {'n_estimators': 277, 'min_child_weight': 0.47283871133383454, 'colsample_bytree': 0.8115434464084016, 'subsample': 0.883157769671979, 'num_leaves': 274}. Best is trial 46 with value: -3.502439222729919.\u001b[0m\n",
      "\u001b[32m[I 2021-04-27 13:20:54,795]\u001b[0m Trial 89 finished with value: -3.5059239002940608 and parameters: {'n_estimators': 279, 'min_child_weight': 0.7253633213717033, 'colsample_bytree': 0.8344348000074329, 'subsample': 0.8679568445071087, 'num_leaves': 287}. Best is trial 46 with value: -3.502439222729919.\u001b[0m\n",
      "\u001b[32m[I 2021-04-27 13:20:56,185]\u001b[0m Trial 90 finished with value: -3.503100854152065 and parameters: {'n_estimators': 268, 'min_child_weight': 3.3693494353568036, 'colsample_bytree': 0.8092030532919836, 'subsample': 0.8740007783386609, 'num_leaves': 384}. Best is trial 46 with value: -3.502439222729919.\u001b[0m\n",
      "\u001b[32m[I 2021-04-27 13:20:57,194]\u001b[0m Trial 91 finished with value: -3.5343018532894677 and parameters: {'n_estimators': 270, 'min_child_weight': 3.267915802426383, 'colsample_bytree': 0.8057310954011747, 'subsample': 0.8874160377686507, 'num_leaves': 404}. Best is trial 46 with value: -3.502439222729919.\u001b[0m\n",
      "\u001b[32m[I 2021-04-27 13:20:58,129]\u001b[0m Trial 92 finished with value: -3.5366579115614107 and parameters: {'n_estimators': 230, 'min_child_weight': 4.495059249241172, 'colsample_bytree': 0.7943138831897036, 'subsample': 0.8709066720224792, 'num_leaves': 329}. Best is trial 46 with value: -3.502439222729919.\u001b[0m\n",
      "\u001b[32m[I 2021-04-27 13:20:59,347]\u001b[0m Trial 93 finished with value: -3.5068237246860696 and parameters: {'n_estimators': 248, 'min_child_weight': 2.235981948054255, 'colsample_bytree': 0.8099145593856514, 'subsample': 0.8825614148410068, 'num_leaves': 389}. Best is trial 46 with value: -3.502439222729919.\u001b[0m\n",
      "\u001b[32m[I 2021-04-27 13:21:01,592]\u001b[0m Trial 94 finished with value: -3.5061172786730106 and parameters: {'n_estimators': 286, 'min_child_weight': 7.293401601212386, 'colsample_bytree': 0.8268097246264459, 'subsample': 0.9080565381847462, 'num_leaves': 456}. Best is trial 46 with value: -3.502439222729919.\u001b[0m\n",
      "\u001b[32m[I 2021-04-27 13:21:02,577]\u001b[0m Trial 95 finished with value: -3.5071509804878565 and parameters: {'n_estimators': 302, 'min_child_weight': 1.6382343735411056, 'colsample_bytree': 0.8689214038282197, 'subsample': 0.8556529270582192, 'num_leaves': 264}. Best is trial 46 with value: -3.502439222729919.\u001b[0m\n",
      "\u001b[32m[I 2021-04-27 13:21:03,477]\u001b[0m Trial 96 finished with value: -3.5545162300810347 and parameters: {'n_estimators': 256, 'min_child_weight': 0.9833817654455675, 'colsample_bytree': 0.7833044791427499, 'subsample': 0.9246877340445312, 'num_leaves': 313}. Best is trial 46 with value: -3.502439222729919.\u001b[0m\n",
      "\u001b[32m[I 2021-04-27 13:21:04,361]\u001b[0m Trial 97 finished with value: -3.5121524987547934 and parameters: {'n_estimators': 220, 'min_child_weight': 0.2316804388556915, 'colsample_bytree': 0.8395514599503856, 'subsample': 0.8933622296757423, 'num_leaves': 507}. Best is trial 46 with value: -3.502439222729919.\u001b[0m\n",
      "\u001b[32m[I 2021-04-27 13:21:05,508]\u001b[0m Trial 98 finished with value: -3.506670348838628 and parameters: {'n_estimators': 280, 'min_child_weight': 0.3817320409962091, 'colsample_bytree': 0.8473072804825479, 'subsample': 0.8792158198204586, 'num_leaves': 302}. Best is trial 46 with value: -3.502439222729919.\u001b[0m\n",
      "\u001b[32m[I 2021-04-27 13:21:06,646]\u001b[0m Trial 99 finished with value: -3.5027934077412732 and parameters: {'n_estimators': 267, 'min_child_weight': 1.2843809372824129, 'colsample_bytree': 0.822376007961612, 'subsample': 0.8609242773137222, 'num_leaves': 441}. Best is trial 46 with value: -3.502439222729919.\u001b[0m\n"
     ]
    }
   ],
   "metadata": {
    "tags": [
     "outputPrepend"
    ]
   }
  },
  {
   "cell_type": "code",
   "execution_count": 8,
   "source": [
    "best_estimator = objective.model(**objective.fixed_params_, **study.best_params).fit(X_train, y_train)"
   ],
   "outputs": [],
   "metadata": {}
  },
  {
   "cell_type": "code",
   "execution_count": 9,
   "source": [
    "mean_squared_error(best_estimator.predict(X_test), y_test, squared = False)"
   ],
   "outputs": [
    {
     "output_type": "execute_result",
     "data": {
      "text/plain": [
       "2.2117068343094943"
      ]
     },
     "metadata": {},
     "execution_count": 9
    }
   ],
   "metadata": {}
  },
  {
   "cell_type": "markdown",
   "source": [
    "同じ条件にするために```boruta```を```False```に．"
   ],
   "metadata": {}
  },
  {
   "cell_type": "code",
   "execution_count": 10,
   "source": [
    "er = EnsembleRegressor([lgbt], random_state = SEED, n_jobs = -1, boruta = False, scoring = 'neg_root_mean_squared_error', verbose = 0, cv = kf)"
   ],
   "outputs": [],
   "metadata": {}
  },
  {
   "cell_type": "code",
   "execution_count": 11,
   "source": [
    "er.fit(X_train, y_train)"
   ],
   "outputs": [
    {
     "output_type": "execute_result",
     "data": {
      "text/plain": [
       "EnsembleRegressor(boruta=False, cv=KFold(n_splits=5),\n",
       "                  estimators=[LGBMRegressor(random_state=334)],\n",
       "                  random_state=334, scoring='neg_root_mean_squared_error')"
      ]
     },
     "metadata": {},
     "execution_count": 11
    }
   ],
   "metadata": {}
  },
  {
   "cell_type": "code",
   "execution_count": 12,
   "source": [
    "mean_squared_error(er.predict(X_test), y_test, squared = False)"
   ],
   "outputs": [
    {
     "output_type": "execute_result",
     "data": {
      "text/plain": [
       "2.2069190623240944"
      ]
     },
     "metadata": {},
     "execution_count": 12
    }
   ],
   "metadata": {}
  },
  {
   "cell_type": "code",
   "execution_count": 13,
   "source": [
    "for estimators in er.results_.estimators:\n",
    "    print(mean_squared_error(estimators[0].predict(X_test), y_test, squared = False))"
   ],
   "outputs": [
    {
     "output_type": "stream",
     "name": "stdout",
     "text": [
      "2.2709687427038596\n",
      "2.4313735019283906\n",
      "2.4736068439802765\n",
      "2.570243958202424\n",
      "2.6610604053071283\n"
     ]
    }
   ],
   "metadata": {}
  }
 ]
}