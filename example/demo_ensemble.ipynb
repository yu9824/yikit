{
 "metadata": {
  "language_info": {
   "codemirror_mode": {
    "name": "ipython",
    "version": 3
   },
   "file_extension": ".py",
   "mimetype": "text/x-python",
   "name": "python",
   "nbconvert_exporter": "python",
   "pygments_lexer": "ipython3",
   "version": "3.8.10"
  },
  "orig_nbformat": 2,
  "kernelspec": {
   "name": "python3",
   "display_name": "Python 3.8.10 64-bit ('yikit': conda)"
  },
  "metadata": {
   "interpreter": {
    "hash": "aef1f1c6d6494a954552c4d3b3b802cf10d2b71861e5c864fe3bae3d265d2422"
   }
  },
  "interpreter": {
   "hash": "59a1c5d23aaa5b62e7da8e61f7ed4a1241269c6c2d4056de487f3c29a0c2933b"
  }
 },
 "nbformat": 4,
 "nbformat_minor": 2,
 "cells": [
  {
   "cell_type": "code",
   "execution_count": 1,
   "source": [
    "from yikit.models import EnsembleRegressor, Objective\n",
    "from kennard_stone import train_test_split, KFold\n",
    "\n",
    "import pandas as pd\n",
    "from sklearn.metrics import mean_squared_error\n",
    "import optuna\n",
    "from lightgbm import LGBMRegressor"
   ],
   "outputs": [],
   "metadata": {}
  },
  {
   "cell_type": "code",
   "execution_count": 2,
   "source": [
    "SEED = 334\n",
    "kf = KFold(n_splits = 5)"
   ],
   "outputs": [],
   "metadata": {}
  },
  {
   "cell_type": "code",
   "execution_count": 3,
   "source": [
    "from sklearn.datasets import load_boston\n",
    "data = load_boston()\n",
    "X = pd.DataFrame(data.data, columns = data.feature_names)\n",
    "y = pd.Series(data.target, name = 'PRICE')"
   ],
   "outputs": [],
   "metadata": {}
  },
  {
   "cell_type": "code",
   "execution_count": 4,
   "source": [
    "X_train, X_test, y_train, y_test = train_test_split(X, y, test_size = 0.2)"
   ],
   "outputs": [],
   "metadata": {}
  },
  {
   "cell_type": "code",
   "execution_count": 5,
   "source": [
    "# rf = RandomForestRegressor(random_state = SEED, n_jobs = -1)\n",
    "lgbt = LGBMRegressor(random_state = SEED, n_jobs = -1)"
   ],
   "outputs": [],
   "metadata": {}
  },
  {
   "cell_type": "code",
   "execution_count": 6,
   "source": [
    "objective = Objective(lgbt, X_train, y_train, scoring = 'neg_root_mean_squared_error', cv = kf)\n",
    "study = optuna.create_study(sampler = objective.sampler, direction = 'maximize')\n",
    "study.optimize(objective, n_trials = 100)"
   ],
   "outputs": [
    {
     "output_type": "stream",
     "name": "stderr",
     "text": [
      "\u001b[32m[I 2021-08-06 17:13:23,833]\u001b[0m A new study created in memory with name: no-name-9a7435bc-8470-4998-a50b-a990af8f9b7b\u001b[0m\n",
      "\u001b[32m[I 2021-08-06 17:25:33,716]\u001b[0m Trial 0 finished with value: -3.5747749861853073 and parameters: {'n_estimators': 149, 'min_child_weight': 4.73466341291026, 'colsample_bytree': 0.7692344530914099, 'subsample': 0.747430109551545, 'num_leaves': 20}. Best is trial 0 with value: -3.5747749861853073.\u001b[0m\n",
      "\u001b[32m[I 2021-08-06 17:29:26,746]\u001b[0m Trial 1 finished with value: -3.5664334932591215 and parameters: {'n_estimators': 303, 'min_child_weight': 0.024010365232285977, 'colsample_bytree': 0.7952766305226454, 'subsample': 0.6875360485342359, 'num_leaves': 16}. Best is trial 1 with value: -3.5664334932591215.\u001b[0m\n",
      "\u001b[32m[I 2021-08-06 17:29:39,804]\u001b[0m Trial 2 finished with value: -3.937805111716314 and parameters: {'n_estimators': 29, 'min_child_weight': 0.001153830380700728, 'colsample_bytree': 0.7403753198055126, 'subsample': 0.9106266950327273, 'num_leaves': 49}. Best is trial 1 with value: -3.5664334932591215.\u001b[0m\n",
      "\u001b[32m[I 2021-08-06 17:30:58,144]\u001b[0m Trial 3 finished with value: -3.530588265809583 and parameters: {'n_estimators': 186, 'min_child_weight': 0.02095321897221084, 'colsample_bytree': 0.7001298236697826, 'subsample': 0.6850312816862762, 'num_leaves': 60}. Best is trial 3 with value: -3.530588265809583.\u001b[0m\n",
      "\u001b[32m[I 2021-08-06 17:33:18,432]\u001b[0m Trial 4 finished with value: -3.5408541938218887 and parameters: {'n_estimators': 289, 'min_child_weight': 2.985188537576327, 'colsample_bytree': 0.8444134227881751, 'subsample': 0.6058417202956112, 'num_leaves': 385}. Best is trial 3 with value: -3.530588265809583.\u001b[0m\n",
      "\u001b[32m[I 2021-08-06 17:34:32,891]\u001b[0m Trial 5 finished with value: -3.5082667763376234 and parameters: {'n_estimators': 383, 'min_child_weight': 0.17773255104047686, 'colsample_bytree': 0.6273531051071796, 'subsample': 0.6784857969712804, 'num_leaves': 167}. Best is trial 5 with value: -3.5082667763376234.\u001b[0m\n",
      "\u001b[32m[I 2021-08-06 17:34:34,804]\u001b[0m Trial 6 finished with value: -4.453472660050947 and parameters: {'n_estimators': 17, 'min_child_weight': 0.5236085512701694, 'colsample_bytree': 0.810715622233264, 'subsample': 0.7520553504608442, 'num_leaves': 132}. Best is trial 5 with value: -3.5082667763376234.\u001b[0m\n",
      "\u001b[32m[I 2021-08-06 17:34:38,296]\u001b[0m Trial 7 finished with value: -3.637649249539878 and parameters: {'n_estimators': 51, 'min_child_weight': 8.051364983943564, 'colsample_bytree': 0.9315976975197992, 'subsample': 0.7096360327369918, 'num_leaves': 70}. Best is trial 5 with value: -3.5082667763376234.\u001b[0m\n",
      "\u001b[32m[I 2021-08-06 17:34:44,331]\u001b[0m Trial 8 finished with value: -3.5616625356672387 and parameters: {'n_estimators': 110, 'min_child_weight': 0.05990703036682046, 'colsample_bytree': 0.9187456608885317, 'subsample': 0.6265242706565224, 'num_leaves': 13}. Best is trial 5 with value: -3.5082667763376234.\u001b[0m\n",
      "\u001b[32m[I 2021-08-06 17:35:02,094]\u001b[0m Trial 9 finished with value: -3.570529370335609 and parameters: {'n_estimators': 369, 'min_child_weight': 1.5286016479553546, 'colsample_bytree': 0.7810991397744007, 'subsample': 0.7281745637912063, 'num_leaves': 38}. Best is trial 5 with value: -3.5082667763376234.\u001b[0m\n",
      "\u001b[32m[I 2021-08-06 17:35:25,572]\u001b[0m Trial 10 finished with value: -3.5332591974000587 and parameters: {'n_estimators': 491, 'min_child_weight': 0.3445726028989215, 'colsample_bytree': 0.6157732467268728, 'subsample': 0.8498416834109749, 'num_leaves': 462}. Best is trial 5 with value: -3.5082667763376234.\u001b[0m\n",
      "\u001b[32m[I 2021-08-06 17:35:34,649]\u001b[0m Trial 11 finished with value: -3.512214760600803 and parameters: {'n_estimators': 184, 'min_child_weight': 0.010583403167002493, 'colsample_bytree': 0.6416361411155078, 'subsample': 0.6651742793275501, 'num_leaves': 166}. Best is trial 5 with value: -3.5082667763376234.\u001b[0m\n",
      "\u001b[32m[I 2021-08-06 17:35:53,740]\u001b[0m Trial 12 finished with value: -3.5243114817347987 and parameters: {'n_estimators': 401, 'min_child_weight': 0.0036222245505022023, 'colsample_bytree': 0.6047437948064697, 'subsample': 0.8088624635805872, 'num_leaves': 189}. Best is trial 5 with value: -3.5082667763376234.\u001b[0m\n",
      "\u001b[32m[I 2021-08-06 17:36:03,503]\u001b[0m Trial 13 finished with value: -3.524021548476415 and parameters: {'n_estimators': 216, 'min_child_weight': 0.16121850133996024, 'colsample_bytree': 0.6649874038427697, 'subsample': 0.6541578231021306, 'num_leaves': 241}. Best is trial 5 with value: -3.5082667763376234.\u001b[0m\n",
      "\u001b[32m[I 2021-08-06 17:36:20,075]\u001b[0m Trial 14 finished with value: -3.528253657280486 and parameters: {'n_estimators': 369, 'min_child_weight': 0.009528319734463222, 'colsample_bytree': 0.6647013884625281, 'subsample': 0.8040632213502298, 'num_leaves': 103}. Best is trial 5 with value: -3.5082667763376234.\u001b[0m\n",
      "\u001b[32m[I 2021-08-06 17:36:32,920]\u001b[0m Trial 15 finished with value: -3.517852204355185 and parameters: {'n_estimators': 252, 'min_child_weight': 0.09026478018727577, 'colsample_bytree': 0.6586686925053172, 'subsample': 0.6662974544097322, 'num_leaves': 210}. Best is trial 5 with value: -3.5082667763376234.\u001b[0m\n",
      "\u001b[32m[I 2021-08-06 17:36:50,796]\u001b[0m Trial 16 finished with value: -3.57843138032855 and parameters: {'n_estimators': 496, 'min_child_weight': 0.004832272571444147, 'colsample_bytree': 0.7223259313588604, 'subsample': 0.6442389291418957, 'num_leaves': 8}. Best is trial 5 with value: -3.5082667763376234.\u001b[0m\n",
      "\u001b[32m[I 2021-08-06 17:37:00,533]\u001b[0m Trial 17 finished with value: -3.5275441493842727 and parameters: {'n_estimators': 118, 'min_child_weight': 0.030404440039889694, 'colsample_bytree': 0.6357681405325875, 'subsample': 0.600624849909526, 'num_leaves': 118}. Best is trial 5 with value: -3.5082667763376234.\u001b[0m\n",
      "\u001b[32m[I 2021-08-06 17:37:24,446]\u001b[0m Trial 18 finished with value: -3.528527142235029 and parameters: {'n_estimators': 433, 'min_child_weight': 0.6910199641932537, 'colsample_bytree': 0.6860723858847786, 'subsample': 0.9490465902396361, 'num_leaves': 33}. Best is trial 5 with value: -3.5082667763376234.\u001b[0m\n",
      "\u001b[32m[I 2021-08-06 17:37:42,647]\u001b[0m Trial 19 finished with value: -3.5405660110637527 and parameters: {'n_estimators': 314, 'min_child_weight': 0.0017784166315017963, 'colsample_bytree': 0.8727670859106261, 'subsample': 0.7864270504728904, 'num_leaves': 366}. Best is trial 5 with value: -3.5082667763376234.\u001b[0m\n",
      "\u001b[32m[I 2021-08-06 17:37:51,597]\u001b[0m Trial 20 finished with value: -3.5173082573244145 and parameters: {'n_estimators': 233, 'min_child_weight': 0.19172091786049453, 'colsample_bytree': 0.6341273448809488, 'subsample': 0.7069777884886703, 'num_leaves': 90}. Best is trial 5 with value: -3.5082667763376234.\u001b[0m\n",
      "\u001b[32m[I 2021-08-06 17:37:59,796]\u001b[0m Trial 21 finished with value: -3.5145932575272996 and parameters: {'n_estimators': 222, 'min_child_weight': 0.19145560809486298, 'colsample_bytree': 0.6430333587504581, 'subsample': 0.6962847303827374, 'num_leaves': 101}. Best is trial 5 with value: -3.5082667763376234.\u001b[0m\n",
      "\u001b[32m[I 2021-08-06 17:38:06,750]\u001b[0m Trial 22 finished with value: -3.554317069261664 and parameters: {'n_estimators': 179, 'min_child_weight': 0.05118276623477342, 'colsample_bytree': 0.7088247403113302, 'subsample': 0.6625361178273448, 'num_leaves': 176}. Best is trial 5 with value: -3.5082667763376234.\u001b[0m\n",
      "\u001b[32m[I 2021-08-06 17:38:19,164]\u001b[0m Trial 23 finished with value: -3.517434426110937 and parameters: {'n_estimators': 337, 'min_child_weight': 1.1851066796197036, 'colsample_bytree': 0.6026621269313752, 'subsample': 0.6970556366997067, 'num_leaves': 247}. Best is trial 5 with value: -3.5082667763376234.\u001b[0m\n",
      "\u001b[32m[I 2021-08-06 17:38:28,829]\u001b[0m Trial 24 finished with value: -3.5107836385180535 and parameters: {'n_estimators': 269, 'min_child_weight': 0.17110216548111765, 'colsample_bytree': 0.6410866069054294, 'subsample': 0.7293266847328693, 'num_leaves': 141}. Best is trial 5 with value: -3.5082667763376234.\u001b[0m\n",
      "\u001b[32m[I 2021-08-06 17:38:37,230]\u001b[0m Trial 25 finished with value: -3.5220110620989176 and parameters: {'n_estimators': 278, 'min_child_weight': 0.010458022098966116, 'colsample_bytree': 0.683376835580315, 'subsample': 0.7470833124736649, 'num_leaves': 144}. Best is trial 5 with value: -3.5082667763376234.\u001b[0m\n",
      "\u001b[32m[I 2021-08-06 17:38:48,156]\u001b[0m Trial 26 finished with value: -3.5755296547498068 and parameters: {'n_estimators': 436, 'min_child_weight': 0.30423967819510495, 'colsample_bytree': 0.7373028742335638, 'subsample': 0.8419057019465427, 'num_leaves': 294}. Best is trial 5 with value: -3.5082667763376234.\u001b[0m\n",
      "\u001b[32m[I 2021-08-06 17:38:50,648]\u001b[0m Trial 27 finished with value: -3.5733264809196945 and parameters: {'n_estimators': 76, 'min_child_weight': 0.11389059341748037, 'colsample_bytree': 0.6289081778078662, 'subsample': 0.7251691183074077, 'num_leaves': 72}. Best is trial 5 with value: -3.5082667763376234.\u001b[0m\n",
      "\u001b[32m[I 2021-08-06 17:38:56,641]\u001b[0m Trial 28 finished with value: -3.5227646047171604 and parameters: {'n_estimators': 349, 'min_child_weight': 0.0438882902328925, 'colsample_bytree': 0.6770906928838819, 'subsample': 0.634743281845807, 'num_leaves': 141}. Best is trial 5 with value: -3.5082667763376234.\u001b[0m\n",
      "\u001b[32m[I 2021-08-06 17:38:58,885]\u001b[0m Trial 29 finished with value: -3.5818585998803805 and parameters: {'n_estimators': 139, 'min_child_weight': 0.011895058085810942, 'colsample_bytree': 0.7616200031184883, 'subsample': 0.7614007729401867, 'num_leaves': 321}. Best is trial 5 with value: -3.5082667763376234.\u001b[0m\n",
      "\u001b[32m[I 2021-08-06 17:39:01,528]\u001b[0m Trial 30 finished with value: -3.512925886144829 and parameters: {'n_estimators': 187, 'min_child_weight': 0.0048117508470260275, 'colsample_bytree': 0.6498072106986775, 'subsample': 0.7284438263045157, 'num_leaves': 168}. Best is trial 5 with value: -3.5082667763376234.\u001b[0m\n",
      "\u001b[32m[I 2021-08-06 17:39:04,236]\u001b[0m Trial 31 finished with value: -3.513288557898553 and parameters: {'n_estimators': 191, 'min_child_weight': 0.003572542372043746, 'colsample_bytree': 0.649344137377912, 'subsample': 0.7244960612166351, 'num_leaves': 182}. Best is trial 5 with value: -3.5082667763376234.\u001b[0m\n",
      "\u001b[32m[I 2021-08-06 17:39:06,576]\u001b[0m Trial 32 finished with value: -3.5127370070190667 and parameters: {'n_estimators': 149, 'min_child_weight': 0.0056544644026001655, 'colsample_bytree': 0.6236661091387882, 'subsample': 0.6757934228667033, 'num_leaves': 160}. Best is trial 5 with value: -3.5082667763376234.\u001b[0m\n",
      "\u001b[32m[I 2021-08-06 17:39:08,908]\u001b[0m Trial 33 finished with value: -3.5092735708846954 and parameters: {'n_estimators': 157, 'min_child_weight': 0.01883059993984865, 'colsample_bytree': 0.6155986174392758, 'subsample': 0.675713430610701, 'num_leaves': 89}. Best is trial 5 with value: -3.5082667763376234.\u001b[0m\n",
      "\u001b[32m[I 2021-08-06 17:39:12,312]\u001b[0m Trial 34 finished with value: -3.5149539415961293 and parameters: {'n_estimators': 254, 'min_child_weight': 0.019572691180860722, 'colsample_bytree': 0.6006662919574517, 'subsample': 0.6217479655419934, 'num_leaves': 87}. Best is trial 5 with value: -3.5082667763376234.\u001b[0m\n",
      "\u001b[32m[I 2021-08-06 17:39:13,962]\u001b[0m Trial 35 finished with value: -3.5933496090455095 and parameters: {'n_estimators': 83, 'min_child_weight': 0.06743238742111769, 'colsample_bytree': 0.7012633944558101, 'subsample': 0.6791668410012203, 'num_leaves': 54}. Best is trial 5 with value: -3.5082667763376234.\u001b[0m\n",
      "\u001b[32m[I 2021-08-06 17:39:16,156]\u001b[0m Trial 36 finished with value: -3.5115565495091046 and parameters: {'n_estimators': 162, 'min_child_weight': 0.029307281125049104, 'colsample_bytree': 0.6276104874492886, 'subsample': 0.6514681298527716, 'num_leaves': 34}. Best is trial 5 with value: -3.5082667763376234.\u001b[0m\n",
      "\u001b[32m[I 2021-08-06 17:39:19,879]\u001b[0m Trial 37 finished with value: -3.514131946452794 and parameters: {'n_estimators': 286, 'min_child_weight': 0.030617113933466295, 'colsample_bytree': 0.6175170412364149, 'subsample': 0.6376740170634558, 'num_leaves': 22}. Best is trial 5 with value: -3.5082667763376234.\u001b[0m\n",
      "\u001b[32m[I 2021-08-06 17:39:22,299]\u001b[0m Trial 38 finished with value: -3.560369504421103 and parameters: {'n_estimators': 156, 'min_child_weight': 0.11458636892785595, 'colsample_bytree': 0.8314079703323832, 'subsample': 0.6868084059352924, 'num_leaves': 44}. Best is trial 5 with value: -3.5082667763376234.\u001b[0m\n",
      "\u001b[32m[I 2021-08-06 17:39:23,901]\u001b[0m Trial 39 finished with value: -3.5691670432664155 and parameters: {'n_estimators': 102, 'min_child_weight': 0.021816344005616176, 'colsample_bytree': 0.6726205408647032, 'subsample': 0.6230710907700717, 'num_leaves': 31}. Best is trial 5 with value: -3.5082667763376234.\u001b[0m\n",
      "\u001b[32m[I 2021-08-06 17:39:24,915]\u001b[0m Trial 40 finished with value: -3.7483090542556496 and parameters: {'n_estimators': 38, 'min_child_weight': 0.5316875731635325, 'colsample_bytree': 0.8839613391483735, 'subsample': 0.740986951467665, 'num_leaves': 21}. Best is trial 5 with value: -3.5082667763376234.\u001b[0m\n",
      "\u001b[32m[I 2021-08-06 17:39:27,923]\u001b[0m Trial 41 finished with value: -3.5105284995897152 and parameters: {'n_estimators': 209, 'min_child_weight': 0.014141160580469922, 'colsample_bytree': 0.6257735794142084, 'subsample': 0.6601398947151772, 'num_leaves': 61}. Best is trial 5 with value: -3.5082667763376234.\u001b[0m\n",
      "\u001b[32m[I 2021-08-06 17:39:30,425]\u001b[0m Trial 42 finished with value: -3.5080202950544837 and parameters: {'n_estimators': 160, 'min_child_weight': 0.01573481808594445, 'colsample_bytree': 0.6225160044017486, 'subsample': 0.6491087678294152, 'num_leaves': 69}. Best is trial 42 with value: -3.5080202950544837.\u001b[0m\n",
      "\u001b[32m[I 2021-08-06 17:39:33,362]\u001b[0m Trial 43 finished with value: -3.5185230196659583 and parameters: {'n_estimators': 216, 'min_child_weight': 0.001640978643586585, 'colsample_bytree': 0.614347714170256, 'subsample': 0.6141285564785056, 'num_leaves': 61}. Best is trial 42 with value: -3.5080202950544837.\u001b[0m\n",
      "\u001b[32m[I 2021-08-06 17:39:35,174]\u001b[0m Trial 44 finished with value: -3.5234907859803686 and parameters: {'n_estimators': 130, 'min_child_weight': 0.01634327587563237, 'colsample_bytree': 0.6538278504487427, 'subsample': 0.7724411792895888, 'num_leaves': 74}. Best is trial 42 with value: -3.5080202950544837.\u001b[0m\n",
      "\u001b[32m[I 2021-08-06 17:39:40,574]\u001b[0m Trial 45 finished with value: -3.529595578496285 and parameters: {'n_estimators': 465, 'min_child_weight': 0.37784047712194346, 'colsample_bytree': 0.6001265092482444, 'subsample': 0.7166472991831663, 'num_leaves': 118}. Best is trial 42 with value: -3.5080202950544837.\u001b[0m\n",
      "\u001b[32m[I 2021-08-06 17:39:44,175]\u001b[0m Trial 46 finished with value: -3.522173003753467 and parameters: {'n_estimators': 305, 'min_child_weight': 0.007319085570646797, 'colsample_bytree': 0.6943201592461944, 'subsample': 0.7026022893781382, 'num_leaves': 44}. Best is trial 42 with value: -3.5080202950544837.\u001b[0m\n",
      "\u001b[32m[I 2021-08-06 17:39:46,686]\u001b[0m Trial 47 finished with value: -3.5093767481731213 and parameters: {'n_estimators': 205, 'min_child_weight': 0.0441919040552957, 'colsample_bytree': 0.6188203583063407, 'subsample': 0.6749164596646444, 'num_leaves': 81}. Best is trial 42 with value: -3.5080202950544837.\u001b[0m\n",
      "\u001b[32m[I 2021-08-06 17:39:49,556]\u001b[0m Trial 48 finished with value: -3.521508261006531 and parameters: {'n_estimators': 236, 'min_child_weight': 0.015859309648201484, 'colsample_bytree': 0.6133147830167152, 'subsample': 0.6713507077848996, 'num_leaves': 81}. Best is trial 42 with value: -3.5080202950544837.\u001b[0m\n",
      "\u001b[32m[I 2021-08-06 17:39:52,538]\u001b[0m Trial 49 finished with value: -3.52248587416693 and parameters: {'n_estimators': 208, 'min_child_weight': 0.05340474359470561, 'colsample_bytree': 0.6652049856289857, 'subsample': 0.6506097864675807, 'num_leaves': 61}. Best is trial 42 with value: -3.5080202950544837.\u001b[0m\n",
      "\u001b[32m[I 2021-08-06 17:39:54,838]\u001b[0m Trial 50 finished with value: -3.5059751019340615 and parameters: {'n_estimators': 168, 'min_child_weight': 0.038146601253719686, 'colsample_bytree': 0.9457169357391705, 'subsample': 0.6873486048581853, 'num_leaves': 26}. Best is trial 50 with value: -3.5059751019340615.\u001b[0m\n",
      "\u001b[32m[I 2021-08-06 17:39:57,198]\u001b[0m Trial 51 finished with value: -3.506155816515953 and parameters: {'n_estimators': 171, 'min_child_weight': 0.0774035224616209, 'colsample_bytree': 0.933757297798292, 'subsample': 0.6844599253019927, 'num_leaves': 17}. Best is trial 50 with value: -3.5059751019340615.\u001b[0m\n",
      "\u001b[32m[I 2021-08-06 17:39:59,738]\u001b[0m Trial 52 finished with value: -3.4957507754707806 and parameters: {'n_estimators': 173, 'min_child_weight': 0.07934677854278674, 'colsample_bytree': 0.9393523148488521, 'subsample': 0.6818672094186282, 'num_leaves': 12}. Best is trial 52 with value: -3.4957507754707806.\u001b[0m\n",
      "\u001b[32m[I 2021-08-06 17:40:01,963]\u001b[0m Trial 53 finished with value: -3.5016330531862097 and parameters: {'n_estimators': 164, 'min_child_weight': 0.07992312450468181, 'colsample_bytree': 0.9434754016704342, 'subsample': 0.6932205048998923, 'num_leaves': 16}. Best is trial 52 with value: -3.4957507754707806.\u001b[0m\n",
      "\u001b[32m[I 2021-08-06 17:40:04,291]\u001b[0m Trial 54 finished with value: -3.541401561621818 and parameters: {'n_estimators': 171, 'min_child_weight': 0.08175651714015948, 'colsample_bytree': 0.9455201778232524, 'subsample': 0.6918875092569663, 'num_leaves': 11}. Best is trial 52 with value: -3.4957507754707806.\u001b[0m\n",
      "\u001b[32m[I 2021-08-06 17:40:05,646]\u001b[0m Trial 55 finished with value: -3.540509247784313 and parameters: {'n_estimators': 98, 'min_child_weight': 0.25137896932069903, 'colsample_bytree': 0.9122805108594757, 'subsample': 0.7081393733883176, 'num_leaves': 16}. Best is trial 52 with value: -3.4957507754707806.\u001b[0m\n",
      "\u001b[32m[I 2021-08-06 17:40:07,455]\u001b[0m Trial 56 finished with value: -3.5416545182034156 and parameters: {'n_estimators': 120, 'min_child_weight': 0.12291807035703119, 'colsample_bytree': 0.9153854010521622, 'subsample': 0.6385862616881413, 'num_leaves': 25}. Best is trial 52 with value: -3.4957507754707806.\u001b[0m\n",
      "\u001b[32m[I 2021-08-06 17:40:09,136]\u001b[0m Trial 57 finished with value: -3.544015620306422 and parameters: {'n_estimators': 140, 'min_child_weight': 0.028635082846557608, 'colsample_bytree': 0.9494864286339435, 'subsample': 0.6866045135100388, 'num_leaves': 13}. Best is trial 52 with value: -3.4957507754707806.\u001b[0m\n",
      "\u001b[32m[I 2021-08-06 17:40:10,150]\u001b[0m Trial 58 finished with value: -3.6141332125479493 and parameters: {'n_estimators': 74, 'min_child_weight': 0.07573352857665444, 'colsample_bytree': 0.9350709372341389, 'subsample': 0.7126030039079677, 'num_leaves': 8}. Best is trial 52 with value: -3.4957507754707806.\u001b[0m\n",
      "\u001b[32m[I 2021-08-06 17:40:12,820]\u001b[0m Trial 59 finished with value: -3.4895707302459003 and parameters: {'n_estimators': 239, 'min_child_weight': 0.039428566037947865, 'colsample_bytree': 0.8998819798278259, 'subsample': 0.8946981670822857, 'num_leaves': 17}. Best is trial 59 with value: -3.4895707302459003.\u001b[0m\n",
      "\u001b[32m[I 2021-08-06 17:40:15,145]\u001b[0m Trial 60 finished with value: -3.5057327256473627 and parameters: {'n_estimators': 172, 'min_child_weight': 0.038786257743105755, 'colsample_bytree': 0.8992563890946859, 'subsample': 0.886666914014295, 'num_leaves': 17}. Best is trial 59 with value: -3.4895707302459003.\u001b[0m\n",
      "\u001b[32m[I 2021-08-06 17:40:17,423]\u001b[0m Trial 61 finished with value: -3.497307753182399 and parameters: {'n_estimators': 195, 'min_child_weight': 0.03420094902675872, 'colsample_bytree': 0.8969005419974185, 'subsample': 0.8963543259712629, 'num_leaves': 17}. Best is trial 59 with value: -3.4895707302459003.\u001b[0m\n",
      "\u001b[32m[I 2021-08-06 17:40:19,988]\u001b[0m Trial 62 finished with value: -3.4977926983434626 and parameters: {'n_estimators': 194, 'min_child_weight': 0.05874816464953922, 'colsample_bytree': 0.8937446141125254, 'subsample': 0.8994471212625199, 'num_leaves': 15}. Best is trial 59 with value: -3.4895707302459003.\u001b[0m\n",
      "\u001b[32m[I 2021-08-06 17:40:22,760]\u001b[0m Trial 63 finished with value: -3.5285613382902774 and parameters: {'n_estimators': 236, 'min_child_weight': 0.036371100774524295, 'colsample_bytree': 0.9003213624939942, 'subsample': 0.8937652207169602, 'num_leaves': 11}. Best is trial 59 with value: -3.4895707302459003.\u001b[0m\n",
      "\u001b[32m[I 2021-08-06 17:40:25,076]\u001b[0m Trial 64 finished with value: -3.5575161188322126 and parameters: {'n_estimators': 196, 'min_child_weight': 0.040606349772082294, 'colsample_bytree': 0.8645296282994466, 'subsample': 0.9001047249315752, 'num_leaves': 18}. Best is trial 59 with value: -3.4895707302459003.\u001b[0m\n",
      "\u001b[32m[I 2021-08-06 17:40:28,118]\u001b[0m Trial 65 finished with value: -3.4917363143634383 and parameters: {'n_estimators': 264, 'min_child_weight': 0.061903839063741736, 'colsample_bytree': 0.8970081801624371, 'subsample': 0.8760364479697909, 'num_leaves': 14}. Best is trial 59 with value: -3.4895707302459003.\u001b[0m\n",
      "\u001b[32m[I 2021-08-06 17:40:32,203]\u001b[0m Trial 66 finished with value: -3.515245134130926 and parameters: {'n_estimators': 265, 'min_child_weight': 0.05921918308953092, 'colsample_bytree': 0.8966674480635961, 'subsample': 0.8698647605226546, 'num_leaves': 13}. Best is trial 59 with value: -3.4895707302459003.\u001b[0m\n",
      "\u001b[32m[I 2021-08-06 17:40:35,044]\u001b[0m Trial 67 finished with value: -3.5191342198677633 and parameters: {'n_estimators': 244, 'min_child_weight': 0.13808054206534953, 'colsample_bytree': 0.8543912922105469, 'subsample': 0.9332218089851185, 'num_leaves': 10}. Best is trial 59 with value: -3.4895707302459003.\u001b[0m\n",
      "\u001b[32m[I 2021-08-06 17:40:38,055]\u001b[0m Trial 68 finished with value: -3.498859777671336 and parameters: {'n_estimators': 230, 'min_child_weight': 0.08717534806470113, 'colsample_bytree': 0.8867779096928822, 'subsample': 0.8745116258634948, 'num_leaves': 14}. Best is trial 59 with value: -3.4895707302459003.\u001b[0m\n",
      "\u001b[32m[I 2021-08-06 17:40:41,782]\u001b[0m Trial 69 finished with value: -3.4988083628393563 and parameters: {'n_estimators': 325, 'min_child_weight': 0.09687307272676245, 'colsample_bytree': 0.8835297840715766, 'subsample': 0.8439991256011504, 'num_leaves': 14}. Best is trial 59 with value: -3.4895707302459003.\u001b[0m\n",
      "\u001b[32m[I 2021-08-06 17:40:44,483]\u001b[0m Trial 70 finished with value: -3.509067588785824 and parameters: {'n_estimators': 325, 'min_child_weight': 0.25983751551491907, 'colsample_bytree': 0.8801340868441178, 'subsample': 0.8440106248612079, 'num_leaves': 9}. Best is trial 59 with value: -3.4895707302459003.\u001b[0m\n",
      "\u001b[32m[I 2021-08-06 17:40:47,516]\u001b[0m Trial 71 finished with value: -3.4977827943793507 and parameters: {'n_estimators': 225, 'min_child_weight': 0.11117817103455567, 'colsample_bytree': 0.9243399999642198, 'subsample': 0.8622232445791229, 'num_leaves': 14}. Best is trial 59 with value: -3.4895707302459003.\u001b[0m\n",
      "\u001b[32m[I 2021-08-06 17:40:51,970]\u001b[0m Trial 72 finished with value: -3.491002728856615 and parameters: {'n_estimators': 295, 'min_child_weight': 0.10176670711287499, 'colsample_bytree': 0.9226165966279691, 'subsample': 0.8605481350065821, 'num_leaves': 14}. Best is trial 59 with value: -3.4895707302459003.\u001b[0m\n",
      "\u001b[32m[I 2021-08-06 17:40:55,380]\u001b[0m Trial 73 finished with value: -3.4915108842838065 and parameters: {'n_estimators': 297, 'min_child_weight': 0.15298517530257258, 'colsample_bytree': 0.9086423287197646, 'subsample': 0.831355001761608, 'num_leaves': 14}. Best is trial 59 with value: -3.4895707302459003.\u001b[0m\n",
      "\u001b[32m[I 2021-08-06 17:40:58,849]\u001b[0m Trial 74 finished with value: -3.481952769680779 and parameters: {'n_estimators': 297, 'min_child_weight': 0.20491169464798634, 'colsample_bytree': 0.924439364288274, 'subsample': 0.8244195758927192, 'num_leaves': 19}. Best is trial 74 with value: -3.481952769680779.\u001b[0m\n",
      "\u001b[32m[I 2021-08-06 17:41:02,010]\u001b[0m Trial 75 finished with value: -3.476424670494275 and parameters: {'n_estimators': 295, 'min_child_weight': 0.1590251626063189, 'colsample_bytree': 0.9200546987227047, 'subsample': 0.8304089887244951, 'num_leaves': 12}. Best is trial 75 with value: -3.476424670494275.\u001b[0m\n",
      "\u001b[32m[I 2021-08-06 17:41:05,509]\u001b[0m Trial 76 finished with value: -3.4847599070380824 and parameters: {'n_estimators': 286, 'min_child_weight': 0.19725044520585888, 'colsample_bytree': 0.909463409356724, 'subsample': 0.8206941738055384, 'num_leaves': 19}. Best is trial 75 with value: -3.476424670494275.\u001b[0m\n",
      "\u001b[32m[I 2021-08-06 17:41:08,774]\u001b[0m Trial 77 finished with value: -3.51498496405135 and parameters: {'n_estimators': 292, 'min_child_weight': 0.9679896903444873, 'colsample_bytree': 0.9092780077278396, 'subsample': 0.8134768115425665, 'num_leaves': 11}. Best is trial 75 with value: -3.476424670494275.\u001b[0m\n",
      "\u001b[32m[I 2021-08-06 17:41:12,724]\u001b[0m Trial 78 finished with value: -3.480634668817726 and parameters: {'n_estimators': 354, 'min_child_weight': 0.16147750791246204, 'colsample_bytree': 0.9269366455347156, 'subsample': 0.8247141084242805, 'num_leaves': 20}. Best is trial 75 with value: -3.476424670494275.\u001b[0m\n",
      "\u001b[32m[I 2021-08-06 17:41:16,907]\u001b[0m Trial 79 finished with value: -3.4803740984500733 and parameters: {'n_estimators': 358, 'min_child_weight': 0.19514976446026433, 'colsample_bytree': 0.9206080526442506, 'subsample': 0.8227542932112623, 'num_leaves': 19}. Best is trial 75 with value: -3.476424670494275.\u001b[0m\n",
      "\u001b[32m[I 2021-08-06 17:41:21,509]\u001b[0m Trial 80 finished with value: -3.4796396862179506 and parameters: {'n_estimators': 360, 'min_child_weight': 0.4256399358480774, 'colsample_bytree': 0.9216300731180068, 'subsample': 0.8220482113792805, 'num_leaves': 19}. Best is trial 75 with value: -3.476424670494275.\u001b[0m\n",
      "\u001b[32m[I 2021-08-06 17:41:26,077]\u001b[0m Trial 81 finished with value: -3.4802306959788374 and parameters: {'n_estimators': 359, 'min_child_weight': 0.4458266511876649, 'colsample_bytree': 0.9241546790574573, 'subsample': 0.8246561761689968, 'num_leaves': 23}. Best is trial 75 with value: -3.476424670494275.\u001b[0m\n",
      "\u001b[32m[I 2021-08-06 17:41:30,658]\u001b[0m Trial 82 finished with value: -3.479332212582791 and parameters: {'n_estimators': 361, 'min_child_weight': 0.41308573170039364, 'colsample_bytree': 0.9261234974101846, 'subsample': 0.8220594263642593, 'num_leaves': 24}. Best is trial 75 with value: -3.476424670494275.\u001b[0m\n",
      "\u001b[32m[I 2021-08-06 17:41:35,911]\u001b[0m Trial 83 finished with value: -3.4798113841977596 and parameters: {'n_estimators': 392, 'min_child_weight': 0.41608313528029595, 'colsample_bytree': 0.9271123736891591, 'subsample': 0.8237120391313186, 'num_leaves': 24}. Best is trial 75 with value: -3.476424670494275.\u001b[0m\n",
      "\u001b[32m[I 2021-08-06 17:41:40,403]\u001b[0m Trial 84 finished with value: -3.4802611451483885 and parameters: {'n_estimators': 394, 'min_child_weight': 0.43726646808011455, 'colsample_bytree': 0.9292949627444704, 'subsample': 0.8232107570573493, 'num_leaves': 25}. Best is trial 75 with value: -3.476424670494275.\u001b[0m\n",
      "\u001b[32m[I 2021-08-06 17:41:44,788]\u001b[0m Trial 85 finished with value: -3.4798113841977596 and parameters: {'n_estimators': 392, 'min_child_weight': 1.9744818756905926, 'colsample_bytree': 0.9276586328242779, 'subsample': 0.8026209360333986, 'num_leaves': 24}. Best is trial 75 with value: -3.476424670494275.\u001b[0m\n",
      "\u001b[32m[I 2021-08-06 17:41:49,002]\u001b[0m Trial 86 finished with value: -3.4794230926194536 and parameters: {'n_estimators': 387, 'min_child_weight': 2.825132513639309, 'colsample_bytree': 0.9297464633826528, 'subsample': 0.794989559194276, 'num_leaves': 25}. Best is trial 75 with value: -3.476424670494275.\u001b[0m\n",
      "\u001b[32m[I 2021-08-06 17:41:53,583]\u001b[0m Trial 87 finished with value: -3.480693265867911 and parameters: {'n_estimators': 395, 'min_child_weight': 2.870725973204744, 'colsample_bytree': 0.9340124084090887, 'subsample': 0.7960468406021095, 'num_leaves': 28}. Best is trial 75 with value: -3.476424670494275.\u001b[0m\n",
      "\u001b[32m[I 2021-08-06 17:41:58,048]\u001b[0m Trial 88 finished with value: -3.4804791959046453 and parameters: {'n_estimators': 410, 'min_child_weight': 2.1863060921812147, 'colsample_bytree': 0.917123469706819, 'subsample': 0.7963616491564922, 'num_leaves': 24}. Best is trial 75 with value: -3.476424670494275.\u001b[0m\n",
      "\u001b[32m[I 2021-08-06 17:42:02,156]\u001b[0m Trial 89 finished with value: -3.478370241320963 and parameters: {'n_estimators': 380, 'min_child_weight': 4.492114324168918, 'colsample_bytree': 0.929508786503597, 'subsample': 0.7747701456687567, 'num_leaves': 30}. Best is trial 75 with value: -3.476424670494275.\u001b[0m\n",
      "\u001b[32m[I 2021-08-06 17:42:06,276]\u001b[0m Trial 90 finished with value: -3.5724192509327075 and parameters: {'n_estimators': 377, 'min_child_weight': 6.6469468565884595, 'colsample_bytree': 0.7951678026150601, 'subsample': 0.78105106193345, 'num_leaves': 35}. Best is trial 75 with value: -3.476424670494275.\u001b[0m\n",
      "\u001b[32m[I 2021-08-06 17:42:10,869]\u001b[0m Trial 91 finished with value: -3.4808940928401113 and parameters: {'n_estimators': 422, 'min_child_weight': 0.4253419187983576, 'colsample_bytree': 0.9304063616996883, 'subsample': 0.8052317551423402, 'num_leaves': 29}. Best is trial 75 with value: -3.476424670494275.\u001b[0m\n",
      "\u001b[32m[I 2021-08-06 17:42:14,960]\u001b[0m Trial 92 finished with value: -3.4796396862179506 and parameters: {'n_estimators': 360, 'min_child_weight': 0.6963190806422683, 'colsample_bytree': 0.9375022569993215, 'subsample': 0.8324505745834542, 'num_leaves': 23}. Best is trial 75 with value: -3.476424670494275.\u001b[0m\n",
      "\u001b[32m[I 2021-08-06 17:42:19,065]\u001b[0m Trial 93 finished with value: -3.477929261733672 and parameters: {'n_estimators': 381, 'min_child_weight': 0.6551384453094539, 'colsample_bytree': 0.9380589088019602, 'subsample': 0.8367772806095242, 'num_leaves': 23}. Best is trial 75 with value: -3.476424670494275.\u001b[0m\n",
      "\u001b[32m[I 2021-08-06 17:42:23,255]\u001b[0m Trial 94 finished with value: -3.480086265875994 and parameters: {'n_estimators': 368, 'min_child_weight': 0.7338957728584551, 'colsample_bytree': 0.9388972960623826, 'subsample': 0.8319447609288495, 'num_leaves': 22}. Best is trial 75 with value: -3.476424670494275.\u001b[0m\n",
      "\u001b[32m[I 2021-08-06 17:42:27,505]\u001b[0m Trial 95 finished with value: -3.4775387595788914 and parameters: {'n_estimators': 382, 'min_child_weight': 0.7461952710936985, 'colsample_bytree': 0.9429049507584542, 'subsample': 0.8325238567964656, 'num_leaves': 37}. Best is trial 75 with value: -3.476424670494275.\u001b[0m\n",
      "\u001b[32m[I 2021-08-06 17:42:32,410]\u001b[0m Trial 96 finished with value: -3.4811919228253396 and parameters: {'n_estimators': 451, 'min_child_weight': 1.5470868241970293, 'colsample_bytree': 0.9494988647699982, 'subsample': 0.7620007165280145, 'num_leaves': 44}. Best is trial 75 with value: -3.476424670494275.\u001b[0m\n",
      "\u001b[32m[I 2021-08-06 17:42:36,203]\u001b[0m Trial 97 finished with value: -3.480215971172368 and parameters: {'n_estimators': 343, 'min_child_weight': 4.554091137834556, 'colsample_bytree': 0.9400258812395975, 'subsample': 0.7920345360975545, 'num_leaves': 38}. Best is trial 75 with value: -3.476424670494275.\u001b[0m\n",
      "\u001b[32m[I 2021-08-06 17:42:39,268]\u001b[0m Trial 98 finished with value: -3.4775387595788914 and parameters: {'n_estimators': 382, 'min_child_weight': 0.6320673845590227, 'colsample_bytree': 0.9043903013763028, 'subsample': 0.8113057334362249, 'num_leaves': 28}. Best is trial 75 with value: -3.476424670494275.\u001b[0m\n",
      "\u001b[32m[I 2021-08-06 17:42:44,637]\u001b[0m Trial 99 finished with value: -3.48068025895678 and parameters: {'n_estimators': 407, 'min_child_weight': 0.6285065814657633, 'colsample_bytree': 0.9134187189489751, 'subsample': 0.8121626113949728, 'num_leaves': 32}. Best is trial 75 with value: -3.476424670494275.\u001b[0m\n"
     ]
    }
   ],
   "metadata": {
    "tags": [
     "outputPrepend"
    ]
   }
  },
  {
   "cell_type": "code",
   "execution_count": 7,
   "source": [
    "best_estimator = objective.model(**objective.fixed_params_, **study.best_params).fit(X_train, y_train)"
   ],
   "outputs": [],
   "metadata": {}
  },
  {
   "cell_type": "code",
   "execution_count": 8,
   "source": [
    "mean_squared_error(best_estimator.predict(X_test), y_test, squared = False)"
   ],
   "outputs": [
    {
     "output_type": "execute_result",
     "data": {
      "text/plain": [
       "2.2107845218078226"
      ]
     },
     "metadata": {},
     "execution_count": 8
    }
   ],
   "metadata": {}
  },
  {
   "cell_type": "markdown",
   "source": [
    "同じ条件にするために```boruta```を```False```に．"
   ],
   "metadata": {}
  },
  {
   "cell_type": "code",
   "execution_count": 9,
   "source": [
    "er = EnsembleRegressor([lgbt], random_state = SEED, n_jobs = -1, boruta = False, scoring = 'neg_root_mean_squared_error', verbose = 0, cv = kf)"
   ],
   "outputs": [],
   "metadata": {}
  },
  {
   "cell_type": "code",
   "execution_count": 10,
   "source": [
    "er.fit(X_train, y_train)"
   ],
   "outputs": [
    {
     "output_type": "execute_result",
     "data": {
      "text/plain": [
       "EnsembleRegressor(boruta=False, cv=KFold(n_splits=5),\n",
       "                  estimators=[LGBMRegressor(random_state=334)],\n",
       "                  random_state=334, scoring='neg_root_mean_squared_error')"
      ]
     },
     "metadata": {},
     "execution_count": 10
    }
   ],
   "metadata": {}
  },
  {
   "cell_type": "code",
   "execution_count": 11,
   "source": [
    "mean_squared_error(er.predict(X_test), y_test, squared = False)"
   ],
   "outputs": [
    {
     "output_type": "execute_result",
     "data": {
      "text/plain": [
       "2.201786106532741"
      ]
     },
     "metadata": {},
     "execution_count": 11
    }
   ],
   "metadata": {}
  },
  {
   "cell_type": "code",
   "execution_count": 12,
   "source": [
    "for estimators in er.results_.estimators:\n",
    "    print(mean_squared_error(estimators[0].predict(X_test), y_test, squared = False))"
   ],
   "outputs": [
    {
     "output_type": "stream",
     "name": "stdout",
     "text": [
      "2.293632129832008\n",
      "2.4323930765702557\n",
      "2.449809279179175\n",
      "2.578067528470058\n",
      "2.66576030132261\n"
     ]
    }
   ],
   "metadata": {}
  }
 ]
}