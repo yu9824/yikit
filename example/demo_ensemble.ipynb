{
 "metadata": {
  "language_info": {
   "codemirror_mode": {
    "name": "ipython",
    "version": 3
   },
   "file_extension": ".py",
   "mimetype": "text/x-python",
   "name": "python",
   "nbconvert_exporter": "python",
   "pygments_lexer": "ipython3",
   "version": "3.7.9-final"
  },
  "orig_nbformat": 2,
  "kernelspec": {
   "name": "python3",
   "display_name": "Python 3",
   "language": "python"
  }
 },
 "nbformat": 4,
 "nbformat_minor": 2,
 "cells": [
  {
   "cell_type": "code",
   "execution_count": 1,
   "metadata": {},
   "outputs": [],
   "source": [
    "import sys, os\n",
    "sys.path.insert(0, os.path.dirname(os.getcwd()))"
   ]
  },
  {
   "cell_type": "code",
   "execution_count": 2,
   "metadata": {},
   "outputs": [
    {
     "output_type": "stream",
     "name": "stderr",
     "text": [
      "Using TensorFlow backend.\n"
     ]
    }
   ],
   "source": [
    "from models import EnsembleRegressor, Objective\n",
    "from kennard_stone import train_test_split, KFold\n",
    "\n",
    "import pandas as pd\n",
    "from sklearn.metrics import mean_squared_error\n",
    "import optuna\n",
    "from lightgbm import LGBMRegressor"
   ]
  },
  {
   "cell_type": "code",
   "execution_count": 3,
   "metadata": {},
   "outputs": [],
   "source": [
    "SEED = 334\n",
    "kf = KFold(n_splits = 5)"
   ]
  },
  {
   "cell_type": "code",
   "execution_count": 4,
   "metadata": {},
   "outputs": [],
   "source": [
    "from sklearn.datasets import load_boston\n",
    "data = load_boston()\n",
    "X = pd.DataFrame(data.data, columns = data.feature_names)\n",
    "y = pd.Series(data.target, name = 'PRICE')"
   ]
  },
  {
   "cell_type": "code",
   "execution_count": 5,
   "metadata": {},
   "outputs": [],
   "source": [
    "X_train, X_test, y_train, y_test = train_test_split(X, y, test_size = 0.2)"
   ]
  },
  {
   "cell_type": "code",
   "execution_count": 6,
   "metadata": {},
   "outputs": [],
   "source": [
    "# rf = RandomForestRegressor(random_state = SEED, n_jobs = -1)\n",
    "lgbt = LGBMRegressor(random_state = SEED, n_jobs = -1)"
   ]
  },
  {
   "cell_type": "code",
   "execution_count": 7,
   "metadata": {},
   "outputs": [
    {
     "output_type": "stream",
     "name": "stderr",
     "text": [
      "\u001b[32m[I 2021-02-07 17:19:40,995]\u001b[0m A new study created in memory with name: no-name-521805c7-30de-45f0-93c2-8acba0db982b\u001b[0m\n",
      "\u001b[32m[I 2021-02-07 17:19:48,068]\u001b[0m Trial 6 finished with value: -3.567279269006864 and parameters: {'n_estimators': 95, 'min_child_weight': 2.558862944027569, 'colsample_bytree': 0.7606326525490008, 'subsample': 0.8962686806585287, 'num_leaves': 20}. Best is trial 6 with value: -3.567279269006864.\u001b[0m\n",
      "\u001b[32m[I 2021-02-07 17:19:49,586]\u001b[0m Trial 5 finished with value: -3.5372776701075646 and parameters: {'n_estimators': 127, 'min_child_weight': 5.125183076186909, 'colsample_bytree': 0.7854826377750047, 'subsample': 0.7813464753756487, 'num_leaves': 171}. Best is trial 5 with value: -3.5372776701075646.\u001b[0m\n",
      "\u001b[32m[I 2021-02-07 17:19:50,468]\u001b[0m Trial 8 finished with value: -4.295417174169678 and parameters: {'n_estimators': 19, 'min_child_weight': 0.05139603452316137, 'colsample_bytree': 0.6568578507067135, 'subsample': 0.8815713236474993, 'num_leaves': 16}. Best is trial 5 with value: -3.5372776701075646.\u001b[0m\n",
      "\u001b[32m[I 2021-02-07 17:19:53,399]\u001b[0m Trial 3 finished with value: -3.462261471808799 and parameters: {'n_estimators': 181, 'min_child_weight': 0.12620743143664562, 'colsample_bytree': 0.6342074055826729, 'subsample': 0.7814830659170944, 'num_leaves': 56}. Best is trial 3 with value: -3.462261471808799.\u001b[0m\n",
      "\u001b[32m[I 2021-02-07 17:19:56,275]\u001b[0m Trial 9 finished with value: -3.5971554791092273 and parameters: {'n_estimators': 73, 'min_child_weight': 0.0027767517623412345, 'colsample_bytree': 0.7722830581770112, 'subsample': 0.8591486120758053, 'num_leaves': 484}. Best is trial 3 with value: -3.462261471808799.\u001b[0m\n",
      "\u001b[32m[I 2021-02-07 17:19:58,442]\u001b[0m Trial 4 finished with value: -3.5244801313497924 and parameters: {'n_estimators': 261, 'min_child_weight': 0.31163450017348115, 'colsample_bytree': 0.8623885355362129, 'subsample': 0.7130846418118222, 'num_leaves': 477}. Best is trial 3 with value: -3.462261471808799.\u001b[0m\n",
      "\u001b[32m[I 2021-02-07 17:20:00,109]\u001b[0m Trial 0 finished with value: -3.5013935193121064 and parameters: {'n_estimators': 310, 'min_child_weight': 0.006678805936074548, 'colsample_bytree': 0.7360509228699539, 'subsample': 0.8730323584937494, 'num_leaves': 12}. Best is trial 3 with value: -3.462261471808799.\u001b[0m\n",
      "\u001b[32m[I 2021-02-07 17:20:00,756]\u001b[0m Trial 2 finished with value: -3.521868878627823 and parameters: {'n_estimators': 301, 'min_child_weight': 0.24210058057714529, 'colsample_bytree': 0.9438447403883751, 'subsample': 0.9033640461995769, 'num_leaves': 377}. Best is trial 3 with value: -3.462261471808799.\u001b[0m\n",
      "\u001b[32m[I 2021-02-07 17:20:01,189]\u001b[0m Trial 10 finished with value: -3.54122026128004 and parameters: {'n_estimators': 155, 'min_child_weight': 0.01258833978987121, 'colsample_bytree': 0.7957812936384581, 'subsample': 0.8050999576995626, 'num_leaves': 29}. Best is trial 3 with value: -3.462261471808799.\u001b[0m\n",
      "\u001b[32m[I 2021-02-07 17:20:04,332]\u001b[0m Trial 7 finished with value: -3.5176231110533536 and parameters: {'n_estimators': 366, 'min_child_weight': 7.615561796945348, 'colsample_bytree': 0.9396947861640994, 'subsample': 0.7335629932436167, 'num_leaves': 78}. Best is trial 3 with value: -3.462261471808799.\u001b[0m\n",
      "\u001b[32m[I 2021-02-07 17:20:04,448]\u001b[0m Trial 15 finished with value: -3.650084120629111 and parameters: {'n_estimators': 45, 'min_child_weight': 6.960837632648765, 'colsample_bytree': 0.6909713772233296, 'subsample': 0.742250182883479, 'num_leaves': 23}. Best is trial 3 with value: -3.462261471808799.\u001b[0m\n",
      "\u001b[32m[I 2021-02-07 17:20:05,266]\u001b[0m Trial 1 finished with value: -3.499907102371413 and parameters: {'n_estimators': 412, 'min_child_weight': 7.123614776897794, 'colsample_bytree': 0.755220887518738, 'subsample': 0.6583823159271672, 'num_leaves': 12}. Best is trial 3 with value: -3.462261471808799.\u001b[0m\n",
      "\u001b[32m[I 2021-02-07 17:20:05,483]\u001b[0m Trial 16 finished with value: -3.606259433835979 and parameters: {'n_estimators': 62, 'min_child_weight': 0.10071225753659005, 'colsample_bytree': 0.8451860312060983, 'subsample': 0.619303519725543, 'num_leaves': 16}. Best is trial 3 with value: -3.462261471808799.\u001b[0m\n",
      "\u001b[32m[I 2021-02-07 17:20:09,346]\u001b[0m Trial 12 finished with value: -3.5170352723968414 and parameters: {'n_estimators': 205, 'min_child_weight': 2.0247165799937084, 'colsample_bytree': 0.8030511258701913, 'subsample': 0.8672315369079602, 'num_leaves': 416}. Best is trial 3 with value: -3.462261471808799.\u001b[0m\n",
      "\u001b[32m[I 2021-02-07 17:20:17,286]\u001b[0m Trial 13 finished with value: -3.5042686096492672 and parameters: {'n_estimators': 234, 'min_child_weight': 0.009924503618171333, 'colsample_bytree': 0.8794509578535985, 'subsample': 0.8584257908388985, 'num_leaves': 19}. Best is trial 3 with value: -3.462261471808799.\u001b[0m\n",
      "\u001b[32m[I 2021-02-07 17:20:28,178]\u001b[0m Trial 11 finished with value: -3.458158388038316 and parameters: {'n_estimators': 377, 'min_child_weight': 0.6211266668918292, 'colsample_bytree': 0.6951146720798596, 'subsample': 0.7064554932691598, 'num_leaves': 58}. Best is trial 11 with value: -3.458158388038316.\u001b[0m\n",
      "\u001b[32m[I 2021-02-07 17:20:54,748]\u001b[0m Trial 19 finished with value: -3.499328048708398 and parameters: {'n_estimators': 456, 'min_child_weight': 0.5214809296994449, 'colsample_bytree': 0.6058922878690127, 'subsample': 0.6230058270451996, 'num_leaves': 8}. Best is trial 11 with value: -3.458158388038316.\u001b[0m\n",
      "\u001b[32m[I 2021-02-07 17:20:58,317]\u001b[0m Trial 20 finished with value: -3.497779227872486 and parameters: {'n_estimators': 483, 'min_child_weight': 0.9711841470934405, 'colsample_bytree': 0.6017011462096413, 'subsample': 0.6325542530379169, 'num_leaves': 8}. Best is trial 11 with value: -3.458158388038316.\u001b[0m\n",
      "\u001b[32m[I 2021-02-07 17:20:58,873]\u001b[0m Trial 18 finished with value: -3.492464495257181 and parameters: {'n_estimators': 457, 'min_child_weight': 0.0017238035570439673, 'colsample_bytree': 0.6162848019264502, 'subsample': 0.6408996858676463, 'num_leaves': 9}. Best is trial 11 with value: -3.458158388038316.\u001b[0m\n",
      "\u001b[32m[I 2021-02-07 17:21:03,196]\u001b[0m Trial 14 finished with value: -3.505280998638581 and parameters: {'n_estimators': 471, 'min_child_weight': 0.03213096264390945, 'colsample_bytree': 0.8813803278661114, 'subsample': 0.6563850964478114, 'num_leaves': 40}. Best is trial 11 with value: -3.458158388038316.\u001b[0m\n",
      "\u001b[32m[I 2021-02-07 17:21:08,892]\u001b[0m Trial 21 finished with value: -3.4978836458951754 and parameters: {'n_estimators': 472, 'min_child_weight': 0.9967253486917156, 'colsample_bytree': 0.6043520103630009, 'subsample': 0.6467590057721618, 'num_leaves': 8}. Best is trial 11 with value: -3.458158388038316.\u001b[0m\n",
      "\u001b[32m[I 2021-02-07 17:21:27,652]\u001b[0m Trial 17 finished with value: -3.502268185487645 and parameters: {'n_estimators': 486, 'min_child_weight': 0.9836132608435526, 'colsample_bytree': 0.6003279975087652, 'subsample': 0.6089365250173944, 'num_leaves': 50}. Best is trial 11 with value: -3.458158388038316.\u001b[0m\n",
      "\u001b[32m[I 2021-02-07 17:21:53,155]\u001b[0m Trial 22 finished with value: -3.503275013073316 and parameters: {'n_estimators': 492, 'min_child_weight': 0.7967726906833242, 'colsample_bytree': 0.6056668556793293, 'subsample': 0.6509658327263151, 'num_leaves': 49}. Best is trial 11 with value: -3.458158388038316.\u001b[0m\n",
      "\u001b[32m[I 2021-02-07 17:22:09,155]\u001b[0m Trial 23 finished with value: -3.5037606524449103 and parameters: {'n_estimators': 498, 'min_child_weight': 0.8362346000132199, 'colsample_bytree': 0.6240623198125578, 'subsample': 0.6715211074987918, 'num_leaves': 56}. Best is trial 11 with value: -3.458158388038316.\u001b[0m\n",
      "\u001b[32m[I 2021-02-07 17:22:19,124]\u001b[0m Trial 26 finished with value: -3.4587049891490387 and parameters: {'n_estimators': 368, 'min_child_weight': 0.04444516987515883, 'colsample_bytree': 0.6997590920608583, 'subsample': 0.6876061166783785, 'num_leaves': 45}. Best is trial 11 with value: -3.458158388038316.\u001b[0m\n",
      "\u001b[32m[I 2021-02-07 17:22:20,034]\u001b[0m Trial 27 finished with value: -3.4606584151049526 and parameters: {'n_estimators': 354, 'min_child_weight': 0.1297328945192796, 'colsample_bytree': 0.6728808381397667, 'subsample': 0.6883633971865638, 'num_leaves': 88}. Best is trial 11 with value: -3.458158388038316.\u001b[0m\n",
      "\u001b[32m[I 2021-02-07 17:22:24,807]\u001b[0m Trial 25 finished with value: -3.477147926333368 and parameters: {'n_estimators': 378, 'min_child_weight': 0.045061173704375776, 'colsample_bytree': 0.6458584815701638, 'subsample': 0.6845877076756602, 'num_leaves': 52}. Best is trial 11 with value: -3.458158388038316.\u001b[0m\n",
      "\u001b[32m[I 2021-02-07 17:22:34,972]\u001b[0m Trial 28 finished with value: -3.4590457330368083 and parameters: {'n_estimators': 382, 'min_child_weight': 0.10550356422875842, 'colsample_bytree': 0.6570476366062158, 'subsample': 0.6907815957073984, 'num_leaves': 79}. Best is trial 11 with value: -3.458158388038316.\u001b[0m\n",
      "\u001b[32m[I 2021-02-07 17:22:59,058]\u001b[0m Trial 24 finished with value: -3.503275013073316 and parameters: {'n_estimators': 492, 'min_child_weight': 0.8012199562691302, 'colsample_bytree': 0.6075979086430359, 'subsample': 0.6818262980493817, 'num_leaves': 50}. Best is trial 11 with value: -3.458158388038316.\u001b[0m\n",
      "\u001b[32m[I 2021-02-07 17:23:05,795]\u001b[0m Trial 29 finished with value: -3.459437932745287 and parameters: {'n_estimators': 393, 'min_child_weight': 0.0013864331706747652, 'colsample_bytree': 0.6539098222152735, 'subsample': 0.6943849134307437, 'num_leaves': 91}. Best is trial 11 with value: -3.458158388038316.\u001b[0m\n",
      "\u001b[32m[I 2021-02-07 17:23:46,438]\u001b[0m Trial 30 finished with value: -3.4765008301609894 and parameters: {'n_estimators': 393, 'min_child_weight': 0.1346541295299577, 'colsample_bytree': 0.6508353231292853, 'subsample': 0.6928769557574628, 'num_leaves': 106}. Best is trial 11 with value: -3.458158388038316.\u001b[0m\n",
      "\u001b[32m[I 2021-02-07 17:24:01,249]\u001b[0m Trial 31 finished with value: -3.4597191903311932 and parameters: {'n_estimators': 394, 'min_child_weight': 0.0010993837400363787, 'colsample_bytree': 0.68741104161306, 'subsample': 0.698442830612497, 'num_leaves': 93}. Best is trial 11 with value: -3.458158388038316.\u001b[0m\n",
      "\u001b[32m[I 2021-02-07 17:24:02,153]\u001b[0m Trial 34 finished with value: -3.459937535800738 and parameters: {'n_estimators': 342, 'min_child_weight': 0.186810110692648, 'colsample_bytree': 0.6993621245954701, 'subsample': 0.7001448228475117, 'num_leaves': 97}. Best is trial 11 with value: -3.458158388038316.\u001b[0m\n",
      "\u001b[32m[I 2021-02-07 17:24:05,079]\u001b[0m Trial 33 finished with value: -3.4587049891490387 and parameters: {'n_estimators': 368, 'min_child_weight': 0.04299928749579233, 'colsample_bytree': 0.7019731990412793, 'subsample': 0.6954461602806358, 'num_leaves': 99}. Best is trial 11 with value: -3.458158388038316.\u001b[0m\n",
      "\u001b[32m[I 2021-02-07 17:24:10,501]\u001b[0m Trial 32 finished with value: -3.4589396636195273 and parameters: {'n_estimators': 380, 'min_child_weight': 0.0945815192738288, 'colsample_bytree': 0.6992917892121462, 'subsample': 0.697302237918747, 'num_leaves': 90}. Best is trial 11 with value: -3.458158388038316.\u001b[0m\n",
      "\u001b[32m[I 2021-02-07 17:24:33,379]\u001b[0m Trial 36 finished with value: -3.48368023499957 and parameters: {'n_estimators': 315, 'min_child_weight': 0.02153006083170798, 'colsample_bytree': 0.7143988149801466, 'subsample': 0.7099537640425195, 'num_leaves': 121}. Best is trial 11 with value: -3.458158388038316.\u001b[0m\n",
      "\u001b[32m[I 2021-02-07 17:24:41,781]\u001b[0m Trial 37 finished with value: -3.4605462128323685 and parameters: {'n_estimators': 322, 'min_child_weight': 0.0246046178624847, 'colsample_bytree': 0.6961386467725753, 'subsample': 0.7434737304129249, 'num_leaves': 140}. Best is trial 11 with value: -3.458158388038316.\u001b[0m\n",
      "\u001b[32m[I 2021-02-07 17:24:42,036]\u001b[0m Trial 35 finished with value: -3.4855358173139317 and parameters: {'n_estimators': 414, 'min_child_weight': 0.0232913640389142, 'colsample_bytree': 0.7112988807776798, 'subsample': 0.7092749594471953, 'num_leaves': 141}. Best is trial 11 with value: -3.458158388038316.\u001b[0m\n",
      "\u001b[32m[I 2021-02-07 17:25:26,153]\u001b[0m Trial 38 finished with value: -3.4796341948727374 and parameters: {'n_estimators': 331, 'min_child_weight': 0.004125994455278531, 'colsample_bytree': 0.7113206879681387, 'subsample': 0.7251724525283668, 'num_leaves': 135}. Best is trial 11 with value: -3.458158388038316.\u001b[0m\n",
      "\u001b[32m[I 2021-02-07 17:25:38,020]\u001b[0m Trial 41 finished with value: -3.4839177737687583 and parameters: {'n_estimators': 303, 'min_child_weight': 0.021026114279144484, 'colsample_bytree': 0.7315396384961261, 'subsample': 0.7381168720060053, 'num_leaves': 145}. Best is trial 11 with value: -3.458158388038316.\u001b[0m\n",
      "\u001b[32m[I 2021-02-07 17:25:39,466]\u001b[0m Trial 42 finished with value: -3.4807327487088373 and parameters: {'n_estimators': 304, 'min_child_weight': 0.02540137859456457, 'colsample_bytree': 0.7228811535236449, 'subsample': 0.7331826086632076, 'num_leaves': 153}. Best is trial 11 with value: -3.458158388038316.\u001b[0m\n",
      "\u001b[32m[I 2021-02-07 17:25:39,817]\u001b[0m Trial 39 finished with value: -3.479613747158772 and parameters: {'n_estimators': 329, 'min_child_weight': 0.02949564509679504, 'colsample_bytree': 0.7222344658008973, 'subsample': 0.7312118290536613, 'num_leaves': 148}. Best is trial 11 with value: -3.458158388038316.\u001b[0m\n",
      "\u001b[32m[I 2021-02-07 17:25:58,576]\u001b[0m Trial 45 finished with value: -3.4778383171749367 and parameters: {'n_estimators': 282, 'min_child_weight': 0.3142952579517798, 'colsample_bytree': 0.7281562995505556, 'subsample': 0.7243480282525664, 'num_leaves': 253}. Best is trial 11 with value: -3.458158388038316.\u001b[0m\n",
      "\u001b[32m[I 2021-02-07 17:26:00,951]\u001b[0m Trial 40 finished with value: -3.4850240398206096 and parameters: {'n_estimators': 421, 'min_child_weight': 0.01627841905519394, 'colsample_bytree': 0.7241795730846985, 'subsample': 0.7355928213239992, 'num_leaves': 142}. Best is trial 11 with value: -3.458158388038316.\u001b[0m\n",
      "\u001b[32m[I 2021-02-07 17:26:22,944]\u001b[0m Trial 43 finished with value: -3.485732109914539 and parameters: {'n_estimators': 422, 'min_child_weight': 0.0626549811355339, 'colsample_bytree': 0.7327695450636589, 'subsample': 0.7502671537196448, 'num_leaves': 167}. Best is trial 11 with value: -3.458158388038316.\u001b[0m\n",
      "\u001b[32m[I 2021-02-07 17:26:28,371]\u001b[0m Trial 44 finished with value: -3.4859731418062276 and parameters: {'n_estimators': 424, 'min_child_weight': 0.07095159544721753, 'colsample_bytree': 0.7383515923624142, 'subsample': 0.7582943074793336, 'num_leaves': 291}. Best is trial 11 with value: -3.458158388038316.\u001b[0m\n",
      "\u001b[32m[I 2021-02-07 17:26:35,800]\u001b[0m Trial 47 finished with value: -3.483939823400534 and parameters: {'n_estimators': 267, 'min_child_weight': 0.07076057504591364, 'colsample_bytree': 0.7437751170357547, 'subsample': 0.7998435390140615, 'num_leaves': 195}. Best is trial 11 with value: -3.458158388038316.\u001b[0m\n",
      "\u001b[32m[I 2021-02-07 17:26:36,447]\u001b[0m Trial 48 finished with value: -3.482358430177763 and parameters: {'n_estimators': 274, 'min_child_weight': 0.3163831974668983, 'colsample_bytree': 0.741682994461537, 'subsample': 0.6708069755821813, 'num_leaves': 221}. Best is trial 11 with value: -3.458158388038316.\u001b[0m\n",
      "\u001b[32m[I 2021-02-07 17:26:39,227]\u001b[0m Trial 49 finished with value: -3.482358430177763 and parameters: {'n_estimators': 274, 'min_child_weight': 0.2686830800122311, 'colsample_bytree': 0.7503890908564966, 'subsample': 0.7616713197145868, 'num_leaves': 217}. Best is trial 11 with value: -3.458158388038316.\u001b[0m\n",
      "\u001b[32m[I 2021-02-07 17:27:01,647]\u001b[0m Trial 46 finished with value: -3.4859731418062276 and parameters: {'n_estimators': 424, 'min_child_weight': 0.37646428483731, 'colsample_bytree': 0.7394940932115708, 'subsample': 0.7711114542717139, 'num_leaves': 220}. Best is trial 11 with value: -3.458158388038316.\u001b[0m\n",
      "\u001b[32m[I 2021-02-07 17:27:20,994]\u001b[0m Trial 53 finished with value: -3.4564288526602147 and parameters: {'n_estimators': 272, 'min_child_weight': 0.20442839369784938, 'colsample_bytree': 0.6743309865508494, 'subsample': 0.6689592564081845, 'num_leaves': 70}. Best is trial 53 with value: -3.4564288526602147.\u001b[0m\n",
      "\u001b[32m[I 2021-02-07 17:27:21,978]\u001b[0m Trial 50 finished with value: -3.4859731418062276 and parameters: {'n_estimators': 424, 'min_child_weight': 0.08660391774741377, 'colsample_bytree': 0.7467365366904555, 'subsample': 0.6675154020948842, 'num_leaves': 70}. Best is trial 53 with value: -3.4564288526602147.\u001b[0m\n",
      "\u001b[32m[I 2021-02-07 17:27:26,078]\u001b[0m Trial 51 finished with value: -3.4891858631518473 and parameters: {'n_estimators': 436, 'min_child_weight': 0.058315390706322794, 'colsample_bytree': 0.7568731586292226, 'subsample': 0.7628637089265611, 'num_leaves': 69}. Best is trial 53 with value: -3.4564288526602147.\u001b[0m\n",
      "\u001b[32m[I 2021-02-07 17:27:41,545]\u001b[0m Trial 55 finished with value: -3.4619773482388903 and parameters: {'n_estimators': 358, 'min_child_weight': 0.008629963050113274, 'colsample_bytree': 0.67695544023494, 'subsample': 0.7678157772302949, 'num_leaves': 69}. Best is trial 53 with value: -3.4564288526602147.\u001b[0m\n",
      "\u001b[32m[I 2021-02-07 17:27:43,810]\u001b[0m Trial 54 finished with value: -3.461091246053292 and parameters: {'n_estimators': 364, 'min_child_weight': 0.2571532875322042, 'colsample_bytree': 0.6758483356031673, 'subsample': 0.7672951508922233, 'num_leaves': 36}. Best is trial 53 with value: -3.4564288526602147.\u001b[0m\n",
      "\u001b[32m[I 2021-02-07 17:27:44,726]\u001b[0m Trial 56 finished with value: -3.461091246053292 and parameters: {'n_estimators': 364, 'min_child_weight': 0.006940810558828848, 'colsample_bytree': 0.6727485201172934, 'subsample': 0.6621300224065001, 'num_leaves': 33}. Best is trial 53 with value: -3.4564288526602147.\u001b[0m\n",
      "\u001b[32m[I 2021-02-07 17:27:45,260]\u001b[0m Trial 52 finished with value: -3.4890406891237165 and parameters: {'n_estimators': 440, 'min_child_weight': 0.08445167401768053, 'colsample_bytree': 0.7490204341547355, 'subsample': 0.6694434255840734, 'num_leaves': 68}. Best is trial 53 with value: -3.4564288526602147.\u001b[0m\n",
      "\u001b[32m[I 2021-02-07 17:27:57,485]\u001b[0m Trial 58 finished with value: -3.458294919738995 and parameters: {'n_estimators': 235, 'min_child_weight': 0.1867037426733689, 'colsample_bytree': 0.672907107584109, 'subsample': 0.6579108022745932, 'num_leaves': 70}. Best is trial 53 with value: -3.4564288526602147.\u001b[0m\n",
      "\u001b[32m[I 2021-02-07 17:28:00,607]\u001b[0m Trial 57 finished with value: -3.459702914146469 and parameters: {'n_estimators': 367, 'min_child_weight': 0.009450496843821446, 'colsample_bytree': 0.6755499167948937, 'subsample': 0.6708735124874186, 'num_leaves': 68}. Best is trial 53 with value: -3.4564288526602147.\u001b[0m\n",
      "\u001b[32m[I 2021-02-07 17:28:14,050]\u001b[0m Trial 61 finished with value: -3.457512031942266 and parameters: {'n_estimators': 237, 'min_child_weight': 0.16602512559753493, 'colsample_bytree': 0.669154673939098, 'subsample': 0.6020769948861202, 'num_leaves': 40}. Best is trial 53 with value: -3.4564288526602147.\u001b[0m\n",
      "\u001b[32m[I 2021-02-07 17:28:14,455]\u001b[0m Trial 59 finished with value: -3.4613281278084314 and parameters: {'n_estimators': 360, 'min_child_weight': 0.19278098211877573, 'colsample_bytree': 0.6710630489795859, 'subsample': 0.663787893923145, 'num_leaves': 37}. Best is trial 53 with value: -3.4564288526602147.\u001b[0m\n",
      "\u001b[32m[I 2021-02-07 17:28:18,341]\u001b[0m Trial 64 finished with value: -3.4679632674689573 and parameters: {'n_estimators': 237, 'min_child_weight': 0.041946697624764905, 'colsample_bytree': 0.6313198463598194, 'subsample': 0.6008007310931065, 'num_leaves': 43}. Best is trial 53 with value: -3.4564288526602147.\u001b[0m\n",
      "\u001b[32m[I 2021-02-07 17:28:18,630]\u001b[0m Trial 63 finished with value: -3.4703805316745275 and parameters: {'n_estimators': 241, 'min_child_weight': 2.2557795674252916, 'colsample_bytree': 0.6326365717550381, 'subsample': 0.6768879101029817, 'num_leaves': 44}. Best is trial 53 with value: -3.4564288526602147.\u001b[0m\n",
      "\u001b[32m[I 2021-02-07 17:28:20,099]\u001b[0m Trial 60 finished with value: -3.4601103556437742 and parameters: {'n_estimators': 365, 'min_child_weight': 0.14976518457177523, 'colsample_bytree': 0.6735558577804188, 'subsample': 0.6627152143111361, 'num_leaves': 36}. Best is trial 53 with value: -3.4564288526602147.\u001b[0m\n",
      "\u001b[32m[I 2021-02-07 17:28:31,362]\u001b[0m Trial 65 finished with value: -3.4677378021094327 and parameters: {'n_estimators': 236, 'min_child_weight': 0.18821631345085468, 'colsample_bytree': 0.6296047096919264, 'subsample': 0.6350016431265694, 'num_leaves': 42}. Best is trial 53 with value: -3.4564288526602147.\u001b[0m\n",
      "\u001b[32m[I 2021-02-07 17:28:32,731]\u001b[0m Trial 66 finished with value: -3.4572317566565554 and parameters: {'n_estimators': 231, 'min_child_weight': 0.04020724325638798, 'colsample_bytree': 0.7052911870764165, 'subsample': 0.6066858147222612, 'num_leaves': 44}. Best is trial 53 with value: -3.4564288526602147.\u001b[0m\n",
      "\u001b[32m[I 2021-02-07 17:28:37,873]\u001b[0m Trial 62 finished with value: -3.477187680534693 and parameters: {'n_estimators': 375, 'min_child_weight': 0.1606961232819384, 'colsample_bytree': 0.6384873109177979, 'subsample': 0.9401875482910094, 'num_leaves': 78}. Best is trial 53 with value: -3.4564288526602147.\u001b[0m\n",
      "\u001b[32m[I 2021-02-07 17:28:42,600]\u001b[0m Trial 70 finished with value: -3.464661870396012 and parameters: {'n_estimators': 166, 'min_child_weight': 1.4872339000775823, 'colsample_bytree': 0.7045066023338228, 'subsample': 0.6307618513077534, 'num_leaves': 60}. Best is trial 53 with value: -3.4564288526602147.\u001b[0m\n",
      "\u001b[32m[I 2021-02-07 17:28:46,461]\u001b[0m Trial 69 finished with value: -3.4543219448653004 and parameters: {'n_estimators': 193, 'min_child_weight': 1.753919038803604, 'colsample_bytree': 0.7012170809295116, 'subsample': 0.6350598300675362, 'num_leaves': 59}. Best is trial 69 with value: -3.4543219448653004.\u001b[0m\n",
      "\u001b[32m[I 2021-02-07 17:28:49,693]\u001b[0m Trial 67 finished with value: -3.468448424723884 and parameters: {'n_estimators': 238, 'min_child_weight': 0.48635866123875754, 'colsample_bytree': 0.63064744056135, 'subsample': 0.6116100849846415, 'num_leaves': 42}. Best is trial 69 with value: -3.4543219448653004.\u001b[0m\n",
      "\u001b[32m[I 2021-02-07 17:28:49,968]\u001b[0m Trial 68 finished with value: -3.469197343428116 and parameters: {'n_estimators': 239, 'min_child_weight': 0.04018745407428679, 'colsample_bytree': 0.6304316127149311, 'subsample': 0.6319813310417751, 'num_leaves': 42}. Best is trial 69 with value: -3.4543219448653004.\u001b[0m\n",
      "\u001b[32m[I 2021-02-07 17:28:51,099]\u001b[0m Trial 71 finished with value: -3.487226081180225 and parameters: {'n_estimators': 214, 'min_child_weight': 0.03908169561299497, 'colsample_bytree': 0.7698065393499262, 'subsample': 0.6312901454385146, 'num_leaves': 25}. Best is trial 69 with value: -3.4543219448653004.\u001b[0m\n",
      "\u001b[32m[I 2021-02-07 17:29:00,258]\u001b[0m Trial 73 finished with value: -3.456922461637551 and parameters: {'n_estimators': 188, 'min_child_weight': 0.5407947136958811, 'colsample_bytree': 0.6636378700706498, 'subsample': 0.6211379156201673, 'num_leaves': 31}. Best is trial 69 with value: -3.4543219448653004.\u001b[0m\n",
      "\u001b[32m[I 2021-02-07 17:29:01,658]\u001b[0m Trial 72 finished with value: -3.4532421742715855 and parameters: {'n_estimators': 206, 'min_child_weight': 0.414575751943678, 'colsample_bytree': 0.7020448939497177, 'subsample': 0.6218278839692015, 'num_leaves': 26}. Best is trial 72 with value: -3.4532421742715855.\u001b[0m\n",
      "\u001b[32m[I 2021-02-07 17:29:08,517]\u001b[0m Trial 74 finished with value: -3.457728219933223 and parameters: {'n_estimators': 209, 'min_child_weight': 0.4643110535384422, 'colsample_bytree': 0.662114316471969, 'subsample': 0.6243829877404877, 'num_leaves': 27}. Best is trial 72 with value: -3.4532421742715855.\u001b[0m\n",
      "\u001b[32m[I 2021-02-07 17:29:11,872]\u001b[0m Trial 75 finished with value: -3.4932329764019108 and parameters: {'n_estimators': 200, 'min_child_weight': 0.4934096602653683, 'colsample_bytree': 0.7743029347383621, 'subsample': 0.6172087760969216, 'num_leaves': 26}. Best is trial 72 with value: -3.4532421742715855.\u001b[0m\n",
      "\u001b[32m[I 2021-02-07 17:29:17,964]\u001b[0m Trial 76 finished with value: -3.455733848145394 and parameters: {'n_estimators': 208, 'min_child_weight': 0.5692057695642795, 'colsample_bytree': 0.6878505494166776, 'subsample': 0.6166656778040834, 'num_leaves': 28}. Best is trial 72 with value: -3.4532421742715855.\u001b[0m\n",
      "\u001b[32m[I 2021-02-07 17:29:20,855]\u001b[0m Trial 77 finished with value: -3.4550006847137773 and parameters: {'n_estimators': 204, 'min_child_weight': 3.6591522262125697, 'colsample_bytree': 0.6862184580637986, 'subsample': 0.6001688736223502, 'num_leaves': 29}. Best is trial 72 with value: -3.4532421742715855.\u001b[0m\n",
      "\u001b[32m[I 2021-02-07 17:29:20,900]\u001b[0m Trial 79 finished with value: -3.4550768153593125 and parameters: {'n_estimators': 198, 'min_child_weight': 4.428749904212894, 'colsample_bytree': 0.6875207802779737, 'subsample': 0.6491596700715716, 'num_leaves': 55}. Best is trial 72 with value: -3.4532421742715855.\u001b[0m\n",
      "\u001b[32m[I 2021-02-07 17:29:21,445]\u001b[0m Trial 80 finished with value: -3.4817499011607635 and parameters: {'n_estimators': 133, 'min_child_weight': 4.75772664532837, 'colsample_bytree': 0.661424729678175, 'subsample': 0.6448226837055199, 'num_leaves': 29}. Best is trial 72 with value: -3.4532421742715855.\u001b[0m\n",
      "\u001b[32m[I 2021-02-07 17:29:22,217]\u001b[0m Trial 81 finished with value: -3.474892856860433 and parameters: {'n_estimators': 129, 'min_child_weight': 4.57260373429327, 'colsample_bytree': 0.6859595474368184, 'subsample': 0.6174593554781153, 'num_leaves': 31}. Best is trial 72 with value: -3.4532421742715855.\u001b[0m\n",
      "\u001b[32m[I 2021-02-07 17:29:22,738]\u001b[0m Trial 78 finished with value: -3.4566891802323476 and parameters: {'n_estimators': 214, 'min_child_weight': 0.5907332765686486, 'colsample_bytree': 0.6877043847644032, 'subsample': 0.6488875238388474, 'num_leaves': 57}. Best is trial 72 with value: -3.4532421742715855.\u001b[0m\n",
      "\u001b[32m[I 2021-02-07 17:29:36,973]\u001b[0m Trial 83 finished with value: -3.4710960020904396 and parameters: {'n_estimators': 149, 'min_child_weight': 4.151409045403507, 'colsample_bytree': 0.658187401012866, 'subsample': 0.647285121691962, 'num_leaves': 18}. Best is trial 72 with value: -3.4532421742715855.\u001b[0m\n",
      "\u001b[32m[I 2021-02-07 17:29:39,157]\u001b[0m Trial 84 finished with value: -3.477075938870501 and parameters: {'n_estimators': 130, 'min_child_weight': 1.3169362213440992, 'colsample_bytree': 0.6595897671446698, 'subsample': 0.6091817359314291, 'num_leaves': 20}. Best is trial 72 with value: -3.4532421742715855.\u001b[0m\n",
      "\u001b[32m[I 2021-02-07 17:29:40,678]\u001b[0m Trial 85 finished with value: -3.4712657208364583 and parameters: {'n_estimators': 119, 'min_child_weight': 3.9465787328962265, 'colsample_bytree': 0.6838135920145585, 'subsample': 0.6042836167665891, 'num_leaves': 20}. Best is trial 72 with value: -3.4532421742715855.\u001b[0m\n",
      "\u001b[32m[I 2021-02-07 17:29:40,897]\u001b[0m Trial 82 finished with value: -3.4590102800028704 and parameters: {'n_estimators': 200, 'min_child_weight': 3.3461147654123944, 'colsample_bytree': 0.6614504159933233, 'subsample': 0.6032020972433222, 'num_leaves': 28}. Best is trial 72 with value: -3.4532421742715855.\u001b[0m\n",
      "\u001b[32m[I 2021-02-07 17:29:42,245]\u001b[0m Trial 86 finished with value: -3.4817499011607635 and parameters: {'n_estimators': 133, 'min_child_weight': 3.9041134561515687, 'colsample_bytree': 0.6858394931741724, 'subsample': 0.6447134824930143, 'num_leaves': 20}. Best is trial 72 with value: -3.4532421742715855.\u001b[0m\n",
      "\u001b[32m[I 2021-02-07 17:29:47,349]\u001b[0m Trial 87 finished with value: -3.468023040183052 and parameters: {'n_estimators': 174, 'min_child_weight': 3.4157881155847427, 'colsample_bytree': 0.6844715982130246, 'subsample': 0.6109662818639514, 'num_leaves': 19}. Best is trial 72 with value: -3.4532421742715855.\u001b[0m\n",
      "\u001b[32m[I 2021-02-07 17:29:48,645]\u001b[0m Trial 88 finished with value: -3.463910306911857 and parameters: {'n_estimators': 178, 'min_child_weight': 3.064244603587362, 'colsample_bytree': 0.6864610804713305, 'subsample': 0.6075530873451441, 'num_leaves': 21}. Best is trial 72 with value: -3.4532421742715855.\u001b[0m\n",
      "\u001b[32m[I 2021-02-07 17:29:49,961]\u001b[0m Trial 89 finished with value: -3.456922461637551 and parameters: {'n_estimators': 188, 'min_child_weight': 3.356431207508678, 'colsample_bytree': 0.6871662026448302, 'subsample': 0.6065146757024213, 'num_leaves': 18}. Best is trial 72 with value: -3.4532421742715855.\u001b[0m\n",
      "\u001b[32m[I 2021-02-07 17:30:05,219]\u001b[0m Trial 90 finished with value: -3.459231759835487 and parameters: {'n_estimators': 191, 'min_child_weight': 1.6783275036406518, 'colsample_bytree': 0.6432220535671634, 'subsample': 0.6016487822764234, 'num_leaves': 20}. Best is trial 72 with value: -3.4532421742715855.\u001b[0m\n",
      "\u001b[32m[I 2021-02-07 17:30:06,337]\u001b[0m Trial 91 finished with value: -3.4563023527087706 and parameters: {'n_estimators': 189, 'min_child_weight': 2.9551190488708294, 'colsample_bytree': 0.686205819117774, 'subsample': 0.6015500902830091, 'num_leaves': 22}. Best is trial 72 with value: -3.4532421742715855.\u001b[0m\n",
      "\u001b[32m[I 2021-02-07 17:30:08,079]\u001b[0m Trial 93 finished with value: -3.4625170537897754 and parameters: {'n_estimators': 184, 'min_child_weight': 6.049571270481368, 'colsample_bytree': 0.644184156080449, 'subsample': 0.640879739462259, 'num_leaves': 24}. Best is trial 72 with value: -3.4532421742715855.\u001b[0m\n",
      "\u001b[32m[I 2021-02-07 17:30:08,198]\u001b[0m Trial 92 finished with value: -3.459931113296554 and parameters: {'n_estimators': 185, 'min_child_weight': 9.962003030868479, 'colsample_bytree': 0.6435592013211539, 'subsample': 0.6431226497727635, 'num_leaves': 22}. Best is trial 72 with value: -3.4532421742715855.\u001b[0m\n",
      "\u001b[32m[I 2021-02-07 17:30:08,548]\u001b[0m Trial 94 finished with value: -3.4625908146244555 and parameters: {'n_estimators': 182, 'min_child_weight': 9.738013727531944, 'colsample_bytree': 0.6443573613933012, 'subsample': 0.6227203251359056, 'num_leaves': 23}. Best is trial 72 with value: -3.4532421742715855.\u001b[0m\n",
      "\u001b[32m[I 2021-02-07 17:30:11,215]\u001b[0m Trial 95 finished with value: -3.460185669373901 and parameters: {'n_estimators': 190, 'min_child_weight': 6.498179428024153, 'colsample_bytree': 0.6440854063470642, 'subsample': 0.6237252382963513, 'num_leaves': 22}. Best is trial 72 with value: -3.4532421742715855.\u001b[0m\n",
      "\u001b[32m[I 2021-02-07 17:30:11,515]\u001b[0m Trial 96 finished with value: -3.4601521582290644 and parameters: {'n_estimators': 190, 'min_child_weight': 8.69124714297677, 'colsample_bytree': 0.6420876377426789, 'subsample': 0.6526180799161426, 'num_leaves': 14}. Best is trial 72 with value: -3.4532421742715855.\u001b[0m\n",
      "\u001b[32m[I 2021-02-07 17:30:12,771]\u001b[0m Trial 97 finished with value: -3.4639792605778745 and parameters: {'n_estimators': 220, 'min_child_weight': 6.615090980336204, 'colsample_bytree': 0.6491494340555198, 'subsample': 0.6530100155105265, 'num_leaves': 23}. Best is trial 72 with value: -3.4532421742715855.\u001b[0m\n",
      "\u001b[32m[I 2021-02-07 17:30:14,364]\u001b[0m Trial 99 finished with value: -3.4906622897813393 and parameters: {'n_estimators': 219, 'min_child_weight': 0.6946856368939085, 'colsample_bytree': 0.6930956189896538, 'subsample': 0.623338239389475, 'num_leaves': 12}. Best is trial 72 with value: -3.4532421742715855.\u001b[0m\n",
      "\u001b[32m[I 2021-02-07 17:30:14,498]\u001b[0m Trial 98 finished with value: -3.4784176181615662 and parameters: {'n_estimators': 220, 'min_child_weight': 6.033578363035548, 'colsample_bytree': 0.7154167666418554, 'subsample': 0.6248537110204184, 'num_leaves': 13}. Best is trial 72 with value: -3.4532421742715855.\u001b[0m\n"
     ]
    }
   ],
   "source": [
    "objective = Objective(lgbt, X_train, y_train, scoring = 'neg_root_mean_squared_error', cv = kf)\n",
    "sampler = optuna.samplers.TPESampler(seed = SEED)\n",
    "study = optuna.create_study(sampler = sampler, direction = 'maximize')\n",
    "study.optimize(objective, n_trials = 100, n_jobs = -1)"
   ]
  },
  {
   "cell_type": "code",
   "execution_count": 8,
   "metadata": {},
   "outputs": [],
   "source": [
    "best_estimator = objective.model(**objective.fixed_params_, **study.best_params).fit(X_train, y_train)"
   ]
  },
  {
   "cell_type": "code",
   "execution_count": 9,
   "metadata": {},
   "outputs": [
    {
     "output_type": "execute_result",
     "data": {
      "text/plain": [
       "2.225033939760566"
      ]
     },
     "metadata": {},
     "execution_count": 9
    }
   ],
   "source": [
    "mean_squared_error(best_estimator.predict(X_test), y_test, squared = False)"
   ]
  },
  {
   "source": [
    "同じ条件にするために```boruta```を```False```に．"
   ],
   "cell_type": "markdown",
   "metadata": {}
  },
  {
   "cell_type": "code",
   "execution_count": 10,
   "metadata": {},
   "outputs": [],
   "source": [
    "er = EnsembleRegressor([lgbt], random_state = SEED, n_jobs = -1, boruta = False, scoring = 'neg_root_mean_squared_error', verbose = 0, cv = kf)"
   ]
  },
  {
   "cell_type": "code",
   "execution_count": 11,
   "metadata": {},
   "outputs": [
    {
     "output_type": "execute_result",
     "data": {
      "text/plain": [
       "EnsembleRegressor(boruta=False, cv=KFold(n_splits=5),\n",
       "                  estimators=[LGBMRegressor(random_state=334)],\n",
       "                  random_state=334, scoring='neg_root_mean_squared_error')"
      ]
     },
     "metadata": {},
     "execution_count": 11
    }
   ],
   "source": [
    "er.fit(X_train, y_train)"
   ]
  },
  {
   "cell_type": "code",
   "execution_count": 12,
   "metadata": {},
   "outputs": [
    {
     "output_type": "execute_result",
     "data": {
      "text/plain": [
       "2.189592488626531"
      ]
     },
     "metadata": {},
     "execution_count": 12
    }
   ],
   "source": [
    "mean_squared_error(er.predict(X_test), y_test, squared = False)"
   ]
  },
  {
   "cell_type": "code",
   "execution_count": 13,
   "metadata": {},
   "outputs": [
    {
     "output_type": "stream",
     "name": "stdout",
     "text": [
      "2.2958052728000737\n2.3917277246043858\n2.471371097501595\n2.5692955116163643\n2.66576030132261\n"
     ]
    }
   ],
   "source": [
    "for estimators in er.results_.estimators:\n",
    "    print(mean_squared_error(estimators[0].predict(X_test), y_test, squared = False))"
   ]
  }
 ]
}