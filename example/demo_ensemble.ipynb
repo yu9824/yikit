{
 "metadata": {
  "language_info": {
   "codemirror_mode": {
    "name": "ipython",
    "version": 3
   },
   "file_extension": ".py",
   "mimetype": "text/x-python",
   "name": "python",
   "nbconvert_exporter": "python",
   "pygments_lexer": "ipython3",
   "version": "3.7.9-final"
  },
  "orig_nbformat": 2,
  "kernelspec": {
   "name": "python3",
   "display_name": "Python 3",
   "language": "python"
  }
 },
 "nbformat": 4,
 "nbformat_minor": 2,
 "cells": [
  {
   "cell_type": "code",
   "execution_count": 1,
   "metadata": {},
   "outputs": [],
   "source": [
    "import sys, os\n",
    "sys.path.append(os.getcwd())"
   ]
  },
  {
   "cell_type": "code",
   "execution_count": 2,
   "metadata": {},
   "outputs": [
    {
     "output_type": "stream",
     "name": "stderr",
     "text": [
      "Using TensorFlow backend.\n"
     ]
    }
   ],
   "source": [
    "from models import EnsembleRegressor, Objective\n",
    "from kennard_stone import train_test_split, KFold\n",
    "\n",
    "import pandas as pd\n",
    "from sklearn.metrics import mean_squared_error\n",
    "import optuna\n",
    "from lightgbm import LGBMRegressor"
   ]
  },
  {
   "cell_type": "code",
   "execution_count": 3,
   "metadata": {},
   "outputs": [],
   "source": [
    "SEED = 334\n",
    "kf = KFold(n_splits = 5)"
   ]
  },
  {
   "cell_type": "code",
   "execution_count": 4,
   "metadata": {},
   "outputs": [],
   "source": [
    "from sklearn.datasets import load_boston\n",
    "data = load_boston()\n",
    "X = pd.DataFrame(data.data, columns = data.feature_names)\n",
    "y = pd.Series(data.target, name = 'PRICE')"
   ]
  },
  {
   "cell_type": "code",
   "execution_count": 5,
   "metadata": {},
   "outputs": [],
   "source": [
    "X_train, X_test, y_train, y_test = train_test_split(X, y, test_size = 0.2)"
   ]
  },
  {
   "cell_type": "code",
   "execution_count": 6,
   "metadata": {},
   "outputs": [],
   "source": [
    "# rf = RandomForestRegressor(random_state = SEED, n_jobs = -1)\n",
    "lgbt = LGBMRegressor(random_state = SEED, n_jobs = -1)"
   ]
  },
  {
   "cell_type": "code",
   "execution_count": 7,
   "metadata": {},
   "outputs": [
    {
     "output_type": "stream",
     "name": "stderr",
     "text": [
      "\u001b[32m[I 2021-01-31 21:16:31,709]\u001b[0m A new study created in memory with name: no-name-d428c36a-3403-48e4-960b-d70957280579\u001b[0m\n",
      "\u001b[32m[I 2021-01-31 21:16:38,664]\u001b[0m Trial 6 finished with value: -3.631742865049717 and parameters: {'n_estimators': 67, 'min_child_weight': 0.1344097977727346, 'colsample_bytree': 0.6834391857605651, 'subsample': 0.9357626252440614, 'num_leaves': 26}. Best is trial 6 with value: -3.631742865049717.\u001b[0m\n",
      "\u001b[32m[I 2021-01-31 21:16:39,319]\u001b[0m Trial 5 finished with value: -3.588805151049802 and parameters: {'n_estimators': 80, 'min_child_weight': 0.009796111638639676, 'colsample_bytree': 0.7880101867793383, 'subsample': 0.8220073969583326, 'num_leaves': 375}. Best is trial 5 with value: -3.588805151049802.\u001b[0m\n",
      "\u001b[32m[I 2021-01-31 21:16:44,690]\u001b[0m Trial 0 finished with value: -3.5375174187241045 and parameters: {'n_estimators': 164, 'min_child_weight': 0.002992655467502613, 'colsample_bytree': 0.909170757405618, 'subsample': 0.8116783246663085, 'num_leaves': 399}. Best is trial 0 with value: -3.5375174187241045.\u001b[0m\n",
      "\u001b[32m[I 2021-01-31 21:16:49,260]\u001b[0m Trial 10 finished with value: -3.702720788582347 and parameters: {'n_estimators': 47, 'min_child_weight': 6.267650249192986, 'colsample_bytree': 0.67396272497932, 'subsample': 0.6190363805931376, 'num_leaves': 220}. Best is trial 0 with value: -3.5375174187241045.\u001b[0m\n",
      "\u001b[32m[I 2021-01-31 21:16:49,262]\u001b[0m Trial 7 finished with value: -3.51229221308258 and parameters: {'n_estimators': 230, 'min_child_weight': 0.06989690220952413, 'colsample_bytree': 0.8145565053989645, 'subsample': 0.9023822522857519, 'num_leaves': 42}. Best is trial 7 with value: -3.51229221308258.\u001b[0m\n",
      "\u001b[32m[I 2021-01-31 21:16:52,639]\u001b[0m Trial 4 finished with value: -3.542400466675267 and parameters: {'n_estimators': 299, 'min_child_weight': 0.0063506068623167804, 'colsample_bytree': 0.7723159946346294, 'subsample': 0.7056330495172692, 'num_leaves': 12}. Best is trial 7 with value: -3.51229221308258.\u001b[0m\n",
      "\u001b[32m[I 2021-01-31 21:16:56,381]\u001b[0m Trial 3 finished with value: -3.513903536526789 and parameters: {'n_estimators': 341, 'min_child_weight': 0.002158055898333752, 'colsample_bytree': 0.8196951282805558, 'subsample': 0.8772823495412752, 'num_leaves': 159}. Best is trial 7 with value: -3.51229221308258.\u001b[0m\n",
      "\u001b[32m[I 2021-01-31 21:16:56,624]\u001b[0m Trial 9 finished with value: -3.5071255591562704 and parameters: {'n_estimators': 279, 'min_child_weight': 0.004496888553405665, 'colsample_bytree': 0.9230392045797888, 'subsample': 0.7497401180936113, 'num_leaves': 11}. Best is trial 9 with value: -3.5071255591562704.\u001b[0m\n",
      "\u001b[32m[I 2021-01-31 21:16:57,214]\u001b[0m Trial 1 finished with value: -3.5186677255282555 and parameters: {'n_estimators': 357, 'min_child_weight': 3.7001062934901796, 'colsample_bytree': 0.9005253305992913, 'subsample': 0.7453958729943799, 'num_leaves': 104}. Best is trial 9 with value: -3.5071255591562704.\u001b[0m\n",
      "\u001b[32m[I 2021-01-31 21:17:00,961]\u001b[0m Trial 8 finished with value: -3.5726475638609294 and parameters: {'n_estimators': 330, 'min_child_weight': 0.07186432520465308, 'colsample_bytree': 0.7754456915526848, 'subsample': 0.8448872894012125, 'num_leaves': 98}. Best is trial 9 with value: -3.5071255591562704.\u001b[0m\n",
      "\u001b[32m[I 2021-01-31 21:17:02,537]\u001b[0m Trial 11 finished with value: -3.547958581666238 and parameters: {'n_estimators': 180, 'min_child_weight': 0.19240993214524774, 'colsample_bytree': 0.8785184057411353, 'subsample': 0.9101033091298021, 'num_leaves': 39}. Best is trial 9 with value: -3.5071255591562704.\u001b[0m\n",
      "\u001b[32m[I 2021-01-31 21:17:04,187]\u001b[0m Trial 2 finished with value: -3.5184156081078877 and parameters: {'n_estimators': 463, 'min_child_weight': 0.3958822961016877, 'colsample_bytree': 0.8618827123464348, 'subsample': 0.7250267583054596, 'num_leaves': 39}. Best is trial 9 with value: -3.5071255591562704.\u001b[0m\n",
      "\u001b[32m[I 2021-01-31 21:17:04,663]\u001b[0m Trial 14 finished with value: -3.573479618414418 and parameters: {'n_estimators': 150, 'min_child_weight': 0.002684308180226582, 'colsample_bytree': 0.7939626987044202, 'subsample': 0.8005544773697524, 'num_leaves': 9}. Best is trial 9 with value: -3.5071255591562704.\u001b[0m\n",
      "\u001b[32m[I 2021-01-31 21:17:04,808]\u001b[0m Trial 15 finished with value: -3.5078542261138934 and parameters: {'n_estimators': 120, 'min_child_weight': 5.035373970155248, 'colsample_bytree': 0.9420684064478445, 'subsample': 0.6168207554990299, 'num_leaves': 12}. Best is trial 9 with value: -3.5071255591562704.\u001b[0m\n",
      "\u001b[32m[I 2021-01-31 21:17:17,259]\u001b[0m Trial 19 finished with value: -3.542546329228675 and parameters: {'n_estimators': 223, 'min_child_weight': 0.03284983732747062, 'colsample_bytree': 0.7194439879897071, 'subsample': 0.6522135496835031, 'num_leaves': 9}. Best is trial 9 with value: -3.5071255591562704.\u001b[0m\n",
      "\u001b[32m[I 2021-01-31 21:17:18,000]\u001b[0m Trial 13 finished with value: -3.6120811872335237 and parameters: {'n_estimators': 386, 'min_child_weight': 7.506009184066059, 'colsample_bytree': 0.7037106124824667, 'subsample': 0.7555865079533819, 'num_leaves': 14}. Best is trial 9 with value: -3.5071255591562704.\u001b[0m\n",
      "\u001b[32m[I 2021-01-31 21:17:19,387]\u001b[0m Trial 12 finished with value: -3.6003118208402194 and parameters: {'n_estimators': 434, 'min_child_weight': 0.003985087847263603, 'colsample_bytree': 0.6011778256240419, 'subsample': 0.6547452405924035, 'num_leaves': 21}. Best is trial 9 with value: -3.5071255591562704.\u001b[0m\n",
      "\u001b[32m[I 2021-01-31 21:17:22,113]\u001b[0m Trial 16 finished with value: -3.520052353355864 and parameters: {'n_estimators': 370, 'min_child_weight': 0.0016867020583493267, 'colsample_bytree': 0.8869092469642355, 'subsample': 0.7893931522498601, 'num_leaves': 428}. Best is trial 9 with value: -3.5071255591562704.\u001b[0m\n",
      "\u001b[32m[I 2021-01-31 21:17:22,754]\u001b[0m Trial 20 finished with value: -3.52140135811469 and parameters: {'n_estimators': 250, 'min_child_weight': 0.03195352471055068, 'colsample_bytree': 0.9360806048086816, 'subsample': 0.6345550385731599, 'num_leaves': 17}. Best is trial 9 with value: -3.5071255591562704.\u001b[0m\n",
      "\u001b[32m[I 2021-01-31 21:17:24,493]\u001b[0m Trial 18 finished with value: -3.5455722539099552 and parameters: {'n_estimators': 488, 'min_child_weight': 0.01992996846628089, 'colsample_bytree': 0.9464622824077512, 'subsample': 0.6866094873376917, 'num_leaves': 8}. Best is trial 9 with value: -3.5071255591562704.\u001b[0m\n",
      "\u001b[32m[I 2021-01-31 21:17:24,727]\u001b[0m Trial 17 finished with value: -3.539941741878276 and parameters: {'n_estimators': 477, 'min_child_weight': 0.3905287644086095, 'colsample_bytree': 0.9403114602279352, 'subsample': 0.6494731351780014, 'num_leaves': 9}. Best is trial 9 with value: -3.5071255591562704.\u001b[0m\n",
      "\u001b[32m[I 2021-01-31 21:17:30,252]\u001b[0m Trial 26 finished with value: -3.5472613882908464 and parameters: {'n_estimators': 141, 'min_child_weight': 1.3079058831541746, 'colsample_bytree': 0.9477404708544613, 'subsample': 0.6852872510855827, 'num_leaves': 8}. Best is trial 9 with value: -3.5071255591562704.\u001b[0m\n",
      "\u001b[32m[I 2021-01-31 21:17:33,667]\u001b[0m Trial 28 finished with value: -3.532562895948749 and parameters: {'n_estimators': 109, 'min_child_weight': 1.0562183661238551, 'colsample_bytree': 0.8438875282163738, 'subsample': 0.944817705609322, 'num_leaves': 34}. Best is trial 9 with value: -3.5071255591562704.\u001b[0m\n",
      "\u001b[32m[I 2021-01-31 21:17:34,078]\u001b[0m Trial 27 finished with value: -3.5794333501922138 and parameters: {'n_estimators': 115, 'min_child_weight': 1.3973845042366002, 'colsample_bytree': 0.9498455342566979, 'subsample': 0.6010713104606041, 'num_leaves': 27}. Best is trial 9 with value: -3.5071255591562704.\u001b[0m\n",
      "\u001b[32m[I 2021-01-31 21:17:34,239]\u001b[0m Trial 21 finished with value: -3.5223352328332824 and parameters: {'n_estimators': 419, 'min_child_weight': 1.2953327066469873, 'colsample_bytree': 0.9468446127140577, 'subsample': 0.6006634564415839, 'num_leaves': 17}. Best is trial 9 with value: -3.5071255591562704.\u001b[0m\n",
      "\u001b[32m[I 2021-01-31 21:17:38,577]\u001b[0m Trial 24 finished with value: -3.52173198598585 and parameters: {'n_estimators': 265, 'min_child_weight': 1.834668013763198, 'colsample_bytree': 0.9343313308958786, 'subsample': 0.6006499698194012, 'num_leaves': 17}. Best is trial 9 with value: -3.5071255591562704.\u001b[0m\n",
      "\u001b[32m[I 2021-01-31 21:17:42,083]\u001b[0m Trial 25 finished with value: -3.5205914833303638 and parameters: {'n_estimators': 274, 'min_child_weight': 1.2124579498014374, 'colsample_bytree': 0.9491195812638509, 'subsample': 0.6813188088454423, 'num_leaves': 18}. Best is trial 9 with value: -3.5071255591562704.\u001b[0m\n",
      "\u001b[32m[I 2021-01-31 21:17:52,134]\u001b[0m Trial 23 finished with value: -3.5237860689781164 and parameters: {'n_estimators': 452, 'min_child_weight': 0.5730484361436232, 'colsample_bytree': 0.9390217700838819, 'subsample': 0.6566949739982736, 'num_leaves': 19}. Best is trial 9 with value: -3.5071255591562704.\u001b[0m\n",
      "\u001b[32m[I 2021-01-31 21:17:52,467]\u001b[0m Trial 22 finished with value: -3.5231923945309647 and parameters: {'n_estimators': 449, 'min_child_weight': 0.8594599763003243, 'colsample_bytree': 0.9403463489945905, 'subsample': 0.6693965307399673, 'num_leaves': 16}. Best is trial 9 with value: -3.5071255591562704.\u001b[0m\n",
      "\u001b[32m[I 2021-01-31 21:17:53,153]\u001b[0m Trial 30 finished with value: -3.5147703781775235 and parameters: {'n_estimators': 214, 'min_child_weight': 0.06751061970284962, 'colsample_bytree': 0.9159813854964466, 'subsample': 0.8680783492908408, 'num_leaves': 52}. Best is trial 9 with value: -3.5071255591562704.\u001b[0m\n",
      "\u001b[32m[I 2021-01-31 21:17:53,440]\u001b[0m Trial 31 finished with value: -3.5111289280099243 and parameters: {'n_estimators': 216, 'min_child_weight': 0.0011173273700949532, 'colsample_bytree': 0.8408753789069774, 'subsample': 0.8855236138843781, 'num_leaves': 60}. Best is trial 9 with value: -3.5071255591562704.\u001b[0m\n",
      "\u001b[32m[I 2021-01-31 21:17:54,071]\u001b[0m Trial 29 finished with value: -3.5128200727988883 and parameters: {'n_estimators': 289, 'min_child_weight': 2.015253513652381, 'colsample_bytree': 0.8483715444781911, 'subsample': 0.8673166261461908, 'num_leaves': 39}. Best is trial 9 with value: -3.5071255591562704.\u001b[0m\n",
      "\u001b[32m[I 2021-01-31 21:17:54,144]\u001b[0m Trial 32 finished with value: -3.511938163060596 and parameters: {'n_estimators': 229, 'min_child_weight': 0.013057164418478949, 'colsample_bytree': 0.8291947517267202, 'subsample': 0.8753988726396195, 'num_leaves': 73}. Best is trial 9 with value: -3.5071255591562704.\u001b[0m\n",
      "\u001b[32m[I 2021-01-31 21:17:54,765]\u001b[0m Trial 36 finished with value: -5.267233088038958 and parameters: {'n_estimators': 10, 'min_child_weight': 0.05952990884986279, 'colsample_bytree': 0.9083389810918944, 'subsample': 0.8738873293687259, 'num_leaves': 56}. Best is trial 9 with value: -3.5071255591562704.\u001b[0m\n",
      "\u001b[32m[I 2021-01-31 21:17:55,422]\u001b[0m Trial 37 finished with value: -5.328540090572394 and parameters: {'n_estimators': 10, 'min_child_weight': 0.0011336188316646077, 'colsample_bytree': 0.8284009727518699, 'subsample': 0.7695079495149784, 'num_leaves': 69}. Best is trial 9 with value: -3.5071255591562704.\u001b[0m\n",
      "\u001b[32m[I 2021-01-31 21:17:56,400]\u001b[0m Trial 33 finished with value: -3.5111289280099243 and parameters: {'n_estimators': 216, 'min_child_weight': 0.0010434896234484113, 'colsample_bytree': 0.8328494787458356, 'subsample': 0.8741062551892511, 'num_leaves': 73}. Best is trial 9 with value: -3.5071255591562704.\u001b[0m\n",
      "\u001b[32m[I 2021-01-31 21:17:56,811]\u001b[0m Trial 39 finished with value: -4.571044558437626 and parameters: {'n_estimators': 15, 'min_child_weight': 0.001113887972800158, 'colsample_bytree': 0.9126806194076346, 'subsample': 0.9137978719403116, 'num_leaves': 73}. Best is trial 9 with value: -3.5071255591562704.\u001b[0m\n",
      "\u001b[32m[I 2021-01-31 21:17:59,803]\u001b[0m Trial 34 finished with value: -3.512776121743019 and parameters: {'n_estimators': 208, 'min_child_weight': 0.012852259334213514, 'colsample_bytree': 0.8311706789169255, 'subsample': 0.8556293834273486, 'num_leaves': 55}. Best is trial 9 with value: -3.5071255591562704.\u001b[0m\n",
      "\u001b[32m[I 2021-01-31 21:18:09,046]\u001b[0m Trial 38 finished with value: -3.5138681955624618 and parameters: {'n_estimators': 196, 'min_child_weight': 0.001276854431499442, 'colsample_bytree': 0.8429524281864558, 'subsample': 0.9007652295806574, 'num_leaves': 71}. Best is trial 9 with value: -3.5071255591562704.\u001b[0m\n",
      "\u001b[32m[I 2021-01-31 21:18:09,159]\u001b[0m Trial 35 finished with value: -3.5635243567590225 and parameters: {'n_estimators': 213, 'min_child_weight': 0.04938528949499784, 'colsample_bytree': 0.7433457025947887, 'subsample': 0.8660942337718921, 'num_leaves': 70}. Best is trial 9 with value: -3.5071255591562704.\u001b[0m\n",
      "\u001b[32m[I 2021-01-31 21:18:09,845]\u001b[0m Trial 40 finished with value: -3.52041573170537 and parameters: {'n_estimators': 198, 'min_child_weight': 0.0012416463159706233, 'colsample_bytree': 0.911552425113914, 'subsample': 0.8291350791608729, 'num_leaves': 79}. Best is trial 9 with value: -3.5071255591562704.\u001b[0m\n",
      "\u001b[32m[I 2021-01-31 21:18:10,149]\u001b[0m Trial 41 finished with value: -3.512695662258241 and parameters: {'n_estimators': 192, 'min_child_weight': 0.0010898834196023549, 'colsample_bytree': 0.8283885959075112, 'subsample': 0.8312247304332575, 'num_leaves': 87}. Best is trial 9 with value: -3.5071255591562704.\u001b[0m\n",
      "\u001b[32m[I 2021-01-31 21:18:10,525]\u001b[0m Trial 42 finished with value: -3.512695662258241 and parameters: {'n_estimators': 192, 'min_child_weight': 0.0010032130188525118, 'colsample_bytree': 0.8705305125816798, 'subsample': 0.8337264514475788, 'num_leaves': 82}. Best is trial 9 with value: -3.5071255591562704.\u001b[0m\n",
      "\u001b[32m[I 2021-01-31 21:18:10,733]\u001b[0m Trial 43 finished with value: -3.5157042224010695 and parameters: {'n_estimators': 188, 'min_child_weight': 0.0011162201424907913, 'colsample_bytree': 0.8644405951877232, 'subsample': 0.8256761131420144, 'num_leaves': 157}. Best is trial 9 with value: -3.5071255591562704.\u001b[0m\n",
      "\u001b[32m[I 2021-01-31 21:18:12,058]\u001b[0m Trial 44 finished with value: -3.513535166161988 and parameters: {'n_estimators': 211, 'min_child_weight': 0.0045778004359724326, 'colsample_bytree': 0.8707883016664892, 'subsample': 0.8230897877257495, 'num_leaves': 148}. Best is trial 9 with value: -3.5071255591562704.\u001b[0m\n",
      "\u001b[32m[I 2021-01-31 21:18:23,012]\u001b[0m Trial 45 finished with value: -3.5112570404616674 and parameters: {'n_estimators': 314, 'min_child_weight': 0.0035766350281374757, 'colsample_bytree': 0.8660124914516578, 'subsample': 0.7316622640462459, 'num_leaves': 109}. Best is trial 9 with value: -3.5071255591562704.\u001b[0m\n",
      "\u001b[32m[I 2021-01-31 21:18:30,125]\u001b[0m Trial 50 finished with value: -3.5437947555555334 and parameters: {'n_estimators': 247, 'min_child_weight': 0.005824097204615908, 'colsample_bytree': 0.7994012920417314, 'subsample': 0.7360162420933459, 'num_leaves': 126}. Best is trial 9 with value: -3.5071255591562704.\u001b[0m\n",
      "\u001b[32m[I 2021-01-31 21:18:31,908]\u001b[0m Trial 47 finished with value: -3.5146709844693427 and parameters: {'n_estimators': 303, 'min_child_weight': 0.004596323459944493, 'colsample_bytree': 0.8746941393968137, 'subsample': 0.728514060530719, 'num_leaves': 161}. Best is trial 9 with value: -3.5071255591562704.\u001b[0m\n",
      "\u001b[32m[I 2021-01-31 21:18:32,981]\u001b[0m Trial 46 finished with value: -3.5114121612039737 and parameters: {'n_estimators': 321, 'min_child_weight': 0.005272813300554351, 'colsample_bytree': 0.8744964245433811, 'subsample': 0.7273731113127403, 'num_leaves': 201}. Best is trial 9 with value: -3.5071255591562704.\u001b[0m\n",
      "\u001b[32m[I 2021-01-31 21:18:34,136]\u001b[0m Trial 48 finished with value: -3.5126311664252006 and parameters: {'n_estimators': 328, 'min_child_weight': 0.004368458447156022, 'colsample_bytree': 0.8097813344426713, 'subsample': 0.7268823701310618, 'num_leaves': 142}. Best is trial 9 with value: -3.5071255591562704.\u001b[0m\n",
      "\u001b[32m[I 2021-01-31 21:18:34,321]\u001b[0m Trial 49 finished with value: -3.5306972162521975 and parameters: {'n_estimators': 325, 'min_child_weight': 0.0036432341569073916, 'colsample_bytree': 0.8766607889461288, 'subsample': 0.7222273124285506, 'num_leaves': 141}. Best is trial 9 with value: -3.5071255591562704.\u001b[0m\n",
      "\u001b[32m[I 2021-01-31 21:18:34,779]\u001b[0m Trial 51 finished with value: -3.544121055667182 and parameters: {'n_estimators': 327, 'min_child_weight': 0.004608856123565062, 'colsample_bytree': 0.8010523796379262, 'subsample': 0.7222656089805805, 'num_leaves': 137}. Best is trial 9 with value: -3.5071255591562704.\u001b[0m\n",
      "\u001b[32m[I 2021-01-31 21:18:35,614]\u001b[0m Trial 52 finished with value: -3.5732360550323428 and parameters: {'n_estimators': 318, 'min_child_weight': 0.005508754341111913, 'colsample_bytree': 0.7877288325762464, 'subsample': 0.7157618355017833, 'num_leaves': 123}. Best is trial 9 with value: -3.5071255591562704.\u001b[0m\n",
      "\u001b[32m[I 2021-01-31 21:18:46,247]\u001b[0m Trial 53 finished with value: -3.545015601639611 and parameters: {'n_estimators': 335, 'min_child_weight': 0.0070482700234500185, 'colsample_bytree': 0.8018831823008642, 'subsample': 0.7146551945002193, 'num_leaves': 278}. Best is trial 9 with value: -3.5071255591562704.\u001b[0m\n",
      "\u001b[32m[I 2021-01-31 21:18:47,143]\u001b[0m Trial 57 finished with value: -3.5355714845638473 and parameters: {'n_estimators': 171, 'min_child_weight': 0.0022358259580092157, 'colsample_bytree': 0.8959957696141904, 'subsample': 0.7860736251754595, 'num_leaves': 328}. Best is trial 9 with value: -3.5071255591562704.\u001b[0m\n",
      "\u001b[32m[I 2021-01-31 21:18:50,851]\u001b[0m Trial 54 finished with value: -3.515629549483422 and parameters: {'n_estimators': 306, 'min_child_weight': 0.0021195314996712514, 'colsample_bytree': 0.8922338479241604, 'subsample': 0.7188203011393003, 'num_leaves': 190}. Best is trial 9 with value: -3.5071255591562704.\u001b[0m\n",
      "\u001b[32m[I 2021-01-31 21:18:54,019]\u001b[0m Trial 55 finished with value: -3.513253532300267 and parameters: {'n_estimators': 325, 'min_child_weight': 0.002177905335502202, 'colsample_bytree': 0.8927529345510332, 'subsample': 0.7135121385598652, 'num_leaves': 255}. Best is trial 9 with value: -3.5071255591562704.\u001b[0m\n",
      "\u001b[32m[I 2021-01-31 21:18:55,823]\u001b[0m Trial 56 finished with value: -3.4991562790066277 and parameters: {'n_estimators': 345, 'min_child_weight': 0.001728693413626958, 'colsample_bytree': 0.8956563135463952, 'subsample': 0.7554491762643507, 'num_leaves': 13}. Best is trial 56 with value: -3.4991562790066277.\u001b[0m\n",
      "\u001b[32m[I 2021-01-31 21:18:56,141]\u001b[0m Trial 59 finished with value: -3.515629549483422 and parameters: {'n_estimators': 306, 'min_child_weight': 0.0021857158196931055, 'colsample_bytree': 0.8918734558019756, 'subsample': 0.7578831080965658, 'num_leaves': 229}. Best is trial 56 with value: -3.4991562790066277.\u001b[0m\n",
      "\u001b[32m[I 2021-01-31 21:18:59,391]\u001b[0m Trial 58 finished with value: -3.5193175780572004 and parameters: {'n_estimators': 356, 'min_child_weight': 0.002104625207253711, 'colsample_bytree': 0.8944741245182947, 'subsample': 0.7066011360767473, 'num_leaves': 282}. Best is trial 56 with value: -3.4991562790066277.\u001b[0m\n",
      "\u001b[32m[I 2021-01-31 21:19:02,806]\u001b[0m Trial 60 finished with value: -3.5216933761812053 and parameters: {'n_estimators': 384, 'min_child_weight': 0.002182518410519524, 'colsample_bytree': 0.9012262218702891, 'subsample': 0.7522516585043784, 'num_leaves': 289}. Best is trial 56 with value: -3.4991562790066277.\u001b[0m\n",
      "\u001b[32m[I 2021-01-31 21:19:10,390]\u001b[0m Trial 62 finished with value: -3.478855223941956 and parameters: {'n_estimators': 356, 'min_child_weight': 0.0020235901648075027, 'colsample_bytree': 0.8939073413655927, 'subsample': 0.7523569980669852, 'num_leaves': 12}. Best is trial 62 with value: -3.478855223941956.\u001b[0m\n",
      "\u001b[32m[I 2021-01-31 21:19:12,099]\u001b[0m Trial 61 finished with value: -3.5191510782334086 and parameters: {'n_estimators': 365, 'min_child_weight': 0.002445480255404762, 'colsample_bytree': 0.8978226898253827, 'subsample': 0.7509404746076418, 'num_leaves': 214}. Best is trial 62 with value: -3.478855223941956.\u001b[0m\n",
      "\u001b[32m[I 2021-01-31 21:19:15,925]\u001b[0m Trial 63 finished with value: -3.501255288217925 and parameters: {'n_estimators': 362, 'min_child_weight': 0.001805711916047122, 'colsample_bytree': 0.9260463495479541, 'subsample': 0.7564655080573247, 'num_leaves': 13}. Best is trial 62 with value: -3.478855223941956.\u001b[0m\n",
      "\u001b[32m[I 2021-01-31 21:19:18,954]\u001b[0m Trial 64 finished with value: -3.544031224493682 and parameters: {'n_estimators': 358, 'min_child_weight': 0.008784054112020339, 'colsample_bytree': 0.854338932207365, 'subsample': 0.7634881209301203, 'num_leaves': 13}. Best is trial 62 with value: -3.478855223941956.\u001b[0m\n",
      "\u001b[32m[I 2021-01-31 21:19:19,607]\u001b[0m Trial 66 finished with value: -3.5102088545409353 and parameters: {'n_estimators': 363, 'min_child_weight': 0.1695501153659244, 'colsample_bytree': 0.9234853761601456, 'subsample': 0.8080272844072283, 'num_leaves': 11}. Best is trial 62 with value: -3.478855223941956.\u001b[0m\n",
      "\u001b[32m[I 2021-01-31 21:19:20,766]\u001b[0m Trial 65 finished with value: -3.4802587172877493 and parameters: {'n_estimators': 370, 'min_child_weight': 0.0016451022218129095, 'colsample_bytree': 0.9252448134516741, 'subsample': 0.7576504734723358, 'num_leaves': 12}. Best is trial 62 with value: -3.478855223941956.\u001b[0m\n",
      "\u001b[32m[I 2021-01-31 21:19:22,776]\u001b[0m Trial 68 finished with value: -3.5359187530983633 and parameters: {'n_estimators': 282, 'min_child_weight': 0.009085417886190453, 'colsample_bytree': 0.8568615166252063, 'subsample': 0.774345116914697, 'num_leaves': 13}. Best is trial 62 with value: -3.478855223941956.\u001b[0m\n",
      "\u001b[32m[I 2021-01-31 21:19:26,710]\u001b[0m Trial 67 finished with value: -3.479051038559568 and parameters: {'n_estimators': 389, 'min_child_weight': 4.692926581429582, 'colsample_bytree': 0.9288127685767155, 'subsample': 0.8086748969589351, 'num_leaves': 12}. Best is trial 62 with value: -3.478855223941956.\u001b[0m\n",
      "\u001b[32m[I 2021-01-31 21:19:32,080]\u001b[0m Trial 69 finished with value: -3.5025522094156485 and parameters: {'n_estimators': 353, 'min_child_weight': 0.0029660176283332423, 'colsample_bytree': 0.8519767796061035, 'subsample': 0.8087505173219455, 'num_leaves': 11}. Best is trial 62 with value: -3.478855223941956.\u001b[0m\n",
      "\u001b[32m[I 2021-01-31 21:19:33,536]\u001b[0m Trial 71 finished with value: -3.5072379428019778 and parameters: {'n_estimators': 283, 'min_child_weight': 0.0014938147792241316, 'colsample_bytree': 0.9211889081518277, 'subsample': 0.8066583768741804, 'num_leaves': 11}. Best is trial 62 with value: -3.478855223941956.\u001b[0m\n",
      "\u001b[32m[I 2021-01-31 21:19:36,510]\u001b[0m Trial 70 finished with value: -3.508456012993734 and parameters: {'n_estimators': 399, 'min_child_weight': 0.001544362489891895, 'colsample_bytree': 0.927797887626462, 'subsample': 0.8090892853239509, 'num_leaves': 11}. Best is trial 62 with value: -3.478855223941956.\u001b[0m\n",
      "\u001b[32m[I 2021-01-31 21:19:45,999]\u001b[0m Trial 73 finished with value: -3.5134570540658956 and parameters: {'n_estimators': 423, 'min_child_weight': 0.15446177387019353, 'colsample_bytree': 0.9270093027258579, 'subsample': 0.78107740643026, 'num_leaves': 11}. Best is trial 62 with value: -3.478855223941956.\u001b[0m\n",
      "\u001b[32m[I 2021-01-31 21:19:46,065]\u001b[0m Trial 72 finished with value: -3.5126357358518625 and parameters: {'n_estimators': 419, 'min_child_weight': 0.001581684717677673, 'colsample_bytree': 0.92540932352681, 'subsample': 0.8071090363534179, 'num_leaves': 11}. Best is trial 62 with value: -3.478855223941956.\u001b[0m\n",
      "\u001b[32m[I 2021-01-31 21:19:46,668]\u001b[0m Trial 74 finished with value: -3.5113743945267357 and parameters: {'n_estimators': 411, 'min_child_weight': 0.2753092714804138, 'colsample_bytree': 0.9273189380545267, 'subsample': 0.8065623240789237, 'num_leaves': 11}. Best is trial 62 with value: -3.478855223941956.\u001b[0m\n",
      "\u001b[32m[I 2021-01-31 21:19:48,758]\u001b[0m Trial 75 finished with value: -3.5104866153740737 and parameters: {'n_estimators': 408, 'min_child_weight': 0.13516439584966441, 'colsample_bytree': 0.9201213621499807, 'subsample': 0.8057988837955741, 'num_leaves': 11}. Best is trial 62 with value: -3.478855223941956.\u001b[0m\n",
      "\u001b[32m[I 2021-01-31 21:19:51,426]\u001b[0m Trial 76 finished with value: -3.5092159870894832 and parameters: {'n_estimators': 396, 'min_child_weight': 3.1304473857046515, 'colsample_bytree': 0.9255946012256759, 'subsample': 0.7889849642852674, 'num_leaves': 11}. Best is trial 62 with value: -3.478855223941956.\u001b[0m\n",
      "\u001b[32m[I 2021-01-31 21:19:55,597]\u001b[0m Trial 77 finished with value: -3.5329480443343195 and parameters: {'n_estimators': 412, 'min_child_weight': 0.001506872303206844, 'colsample_bytree': 0.9241470208408933, 'subsample': 0.7892419680442764, 'num_leaves': 10}. Best is trial 62 with value: -3.478855223941956.\u001b[0m\n",
      "\u001b[32m[I 2021-01-31 21:19:59,505]\u001b[0m Trial 78 finished with value: -3.512012496283478 and parameters: {'n_estimators': 415, 'min_child_weight': 0.0015804484670512327, 'colsample_bytree': 0.9247141999673903, 'subsample': 0.7891152900546875, 'num_leaves': 11}. Best is trial 62 with value: -3.478855223941956.\u001b[0m\n",
      "\u001b[32m[I 2021-01-31 21:20:00,469]\u001b[0m Trial 79 finished with value: -3.531319202072422 and parameters: {'n_estimators': 416, 'min_child_weight': 0.002996038265220782, 'colsample_bytree': 0.9224329298591885, 'subsample': 0.7944085751913591, 'num_leaves': 10}. Best is trial 62 with value: -3.478855223941956.\u001b[0m\n",
      "\u001b[32m[I 2021-01-31 21:20:15,259]\u001b[0m Trial 80 finished with value: -3.520206386968637 and parameters: {'n_estimators': 393, 'min_child_weight': 0.0030980447745904013, 'colsample_bytree': 0.9202416619266349, 'subsample': 0.742330677111873, 'num_leaves': 22}. Best is trial 62 with value: -3.478855223941956.\u001b[0m\n",
      "\u001b[32m[I 2021-01-31 21:20:15,497]\u001b[0m Trial 81 finished with value: -3.5214977971117785 and parameters: {'n_estimators': 396, 'min_child_weight': 0.26650674770935573, 'colsample_bytree': 0.9186042330839814, 'subsample': 0.7947865702973312, 'num_leaves': 23}. Best is trial 62 with value: -3.478855223941956.\u001b[0m\n",
      "\u001b[32m[I 2021-01-31 21:20:15,746]\u001b[0m Trial 82 finished with value: -3.522337784611829 and parameters: {'n_estimators': 386, 'min_child_weight': 0.0030853626433991603, 'colsample_bytree': 0.9050459436704485, 'subsample': 0.7948199362274407, 'num_leaves': 22}. Best is trial 62 with value: -3.478855223941956.\u001b[0m\n",
      "\u001b[32m[I 2021-01-31 21:20:16,579]\u001b[0m Trial 84 finished with value: -3.5165746493072305 and parameters: {'n_estimators': 346, 'min_child_weight': 0.0030065748996463094, 'colsample_bytree': 0.9049976394340133, 'subsample': 0.745681085444665, 'num_leaves': 23}. Best is trial 62 with value: -3.478855223941956.\u001b[0m\n",
      "\u001b[32m[I 2021-01-31 21:20:18,498]\u001b[0m Trial 83 finished with value: -3.5213971337002548 and parameters: {'n_estimators': 398, 'min_child_weight': 0.002994198228668544, 'colsample_bytree': 0.9064928476434383, 'subsample': 0.7908376985310008, 'num_leaves': 15}. Best is trial 62 with value: -3.478855223941956.\u001b[0m\n",
      "\u001b[32m[I 2021-01-31 21:20:20,973]\u001b[0m Trial 85 finished with value: -3.516139426385125 and parameters: {'n_estimators': 344, 'min_child_weight': 0.0031928114843428, 'colsample_bytree': 0.9077898361272204, 'subsample': 0.7716939748983235, 'num_leaves': 15}. Best is trial 62 with value: -3.478855223941956.\u001b[0m\n",
      "\u001b[32m[I 2021-01-31 21:20:25,455]\u001b[0m Trial 86 finished with value: -3.515475565613458 and parameters: {'n_estimators': 345, 'min_child_weight': 0.002915386101135443, 'colsample_bytree': 0.9083400973804721, 'subsample': 0.7413845189092813, 'num_leaves': 22}. Best is trial 62 with value: -3.478855223941956.\u001b[0m\n",
      "\u001b[32m[I 2021-01-31 21:20:25,485]\u001b[0m Trial 87 finished with value: -3.532722016996724 and parameters: {'n_estimators': 344, 'min_child_weight': 0.003142346790430709, 'colsample_bytree': 0.8843675844830969, 'subsample': 0.742740554207606, 'num_leaves': 23}. Best is trial 62 with value: -3.478855223941956.\u001b[0m\n",
      "\u001b[32m[I 2021-01-31 21:20:38,997]\u001b[0m Trial 93 finished with value: -3.5415713704864786 and parameters: {'n_estimators': 373, 'min_child_weight': 4.280848811573236, 'colsample_bytree': 0.9384969711278129, 'subsample': 0.8166249788699305, 'num_leaves': 8}. Best is trial 62 with value: -3.478855223941956.\u001b[0m\n",
      "\u001b[32m[I 2021-01-31 21:20:39,128]\u001b[0m Trial 94 finished with value: -3.5371351678212237 and parameters: {'n_estimators': 263, 'min_child_weight': 3.6968269040825508, 'colsample_bytree': 0.9356133457621775, 'subsample': 0.8173845406388268, 'num_leaves': 8}. Best is trial 62 with value: -3.478855223941956.\u001b[0m\n",
      "\u001b[32m[I 2021-01-31 21:20:39,301]\u001b[0m Trial 95 finished with value: -3.538336219414886 and parameters: {'n_estimators': 260, 'min_child_weight': 6.432462546645352, 'colsample_bytree': 0.9388963380374464, 'subsample': 0.8491374991022078, 'num_leaves': 8}. Best is trial 62 with value: -3.478855223941956.\u001b[0m\n",
      "\u001b[32m[I 2021-01-31 21:20:39,995]\u001b[0m Trial 88 finished with value: -3.5157921708322655 and parameters: {'n_estimators': 342, 'min_child_weight': 9.640540573513782, 'colsample_bytree': 0.9056158485097474, 'subsample': 0.8435667906758825, 'num_leaves': 15}. Best is trial 62 with value: -3.478855223941956.\u001b[0m\n",
      "\u001b[32m[I 2021-01-31 21:20:40,137]\u001b[0m Trial 89 finished with value: -3.5165746493072305 and parameters: {'n_estimators': 346, 'min_child_weight': 6.579713106217309, 'colsample_bytree': 0.9370177250046763, 'subsample': 0.8454844059973627, 'num_leaves': 15}. Best is trial 62 with value: -3.478855223941956.\u001b[0m\n",
      "\u001b[32m[I 2021-01-31 21:20:40,334]\u001b[0m Trial 90 finished with value: -3.5170537844487173 and parameters: {'n_estimators': 350, 'min_child_weight': 5.325536124930271, 'colsample_bytree': 0.8846218326954497, 'subsample': 0.8415815082350114, 'num_leaves': 16}. Best is trial 62 with value: -3.478855223941956.\u001b[0m\n",
      "\u001b[32m[I 2021-01-31 21:20:41,191]\u001b[0m Trial 92 finished with value: -3.515475565613458 and parameters: {'n_estimators': 345, 'min_child_weight': 9.405349046679644, 'colsample_bytree': 0.9422544761287042, 'subsample': 0.7652405094807863, 'num_leaves': 15}. Best is trial 62 with value: -3.478855223941956.\u001b[0m\n",
      "\u001b[32m[I 2021-01-31 21:20:41,198]\u001b[0m Trial 91 finished with value: -3.5089672388763327 and parameters: {'n_estimators': 374, 'min_child_weight': 8.270642793561107, 'colsample_bytree': 0.9376739580419167, 'subsample': 0.8424075017888414, 'num_leaves': 14}. Best is trial 62 with value: -3.478855223941956.\u001b[0m\n",
      "\u001b[32m[I 2021-01-31 21:20:44,184]\u001b[0m Trial 97 finished with value: -3.5235033527930155 and parameters: {'n_estimators': 245, 'min_child_weight': 7.4184516871338015, 'colsample_bytree': 0.9491862521448101, 'subsample': 0.8428210676928973, 'num_leaves': 9}. Best is trial 62 with value: -3.478855223941956.\u001b[0m\n",
      "\u001b[32m[I 2021-01-31 21:20:44,633]\u001b[0m Trial 96 finished with value: -3.531756885336283 and parameters: {'n_estimators': 289, 'min_child_weight': 8.939332962273681, 'colsample_bytree': 0.9483913196186478, 'subsample': 0.8377319569729889, 'num_leaves': 9}. Best is trial 62 with value: -3.478855223941956.\u001b[0m\n",
      "\u001b[32m[I 2021-01-31 21:20:45,873]\u001b[0m Trial 98 finished with value: -3.479426632322064 and parameters: {'n_estimators': 378, 'min_child_weight': 0.0016530367510464968, 'colsample_bytree': 0.9499344724532127, 'subsample': 0.8372111463318694, 'num_leaves': 12}. Best is trial 62 with value: -3.478855223941956.\u001b[0m\n",
      "\u001b[32m[I 2021-01-31 21:20:46,235]\u001b[0m Trial 99 finished with value: -3.505496177085372 and parameters: {'n_estimators': 440, 'min_child_weight': 0.0017707937233771738, 'colsample_bytree': 0.9329576019320633, 'subsample': 0.7612694609733895, 'num_leaves': 13}. Best is trial 62 with value: -3.478855223941956.\u001b[0m\n"
     ]
    }
   ],
   "source": [
    "objective = Objective(lgbt, X_train, y_train, scoring = 'neg_root_mean_squared_error', cv = kf)\n",
    "sampler = optuna.samplers.TPESampler(seed = SEED)\n",
    "study = optuna.create_study(sampler = sampler, direction = 'maximize')\n",
    "study.optimize(objective, n_trials = 100, n_jobs = -1)"
   ]
  },
  {
   "cell_type": "code",
   "execution_count": 8,
   "metadata": {},
   "outputs": [],
   "source": [
    "best_estimator = objective.model(**objective.fixed_params_, **study.best_params).fit(X_train, y_train)"
   ]
  },
  {
   "cell_type": "code",
   "execution_count": 9,
   "metadata": {},
   "outputs": [
    {
     "output_type": "execute_result",
     "data": {
      "text/plain": [
       "2.279936228259161"
      ]
     },
     "metadata": {},
     "execution_count": 9
    }
   ],
   "source": [
    "mean_squared_error(besNNt_estimator.predict(X_test), y_test, squared = False)"
   ]
  },
  {
   "source": [
    "同じ条件にするために```boruta```を```False```に．"
   ],
   "cell_type": "markdown",
   "metadata": {}
  },
  {
   "cell_type": "code",
   "execution_count": 10,
   "metadata": {},
   "outputs": [],
   "source": [
    "er = EnsembleRegressor([lgbt], random_state = SEED, n_jobs = -1, boruta = False, scoring = 'neg_root_mean_squared_error', verbose = 0, cv = kf)"
   ]
  },
  {
   "cell_type": "code",
   "execution_count": 11,
   "metadata": {},
   "outputs": [
    {
     "output_type": "execute_result",
     "data": {
      "text/plain": [
       "EnsembleRegressor(boruta=False, cv=KFold(n_splits=5),\n",
       "                  estimators=[LGBMRegressor(random_state=334)],\n",
       "                  random_state=334, scoring='neg_root_mean_squared_error',\n",
       "                  verbose=0)"
      ]
     },
     "metadata": {},
     "execution_count": 11
    }
   ],
   "source": [
    "er.fit(X_train, y_train)"
   ]
  },
  {
   "cell_type": "code",
   "execution_count": 12,
   "metadata": {},
   "outputs": [
    {
     "output_type": "execute_result",
     "data": {
      "text/plain": [
       "2.189592488626531"
      ]
     },
     "metadata": {},
     "execution_count": 12
    }
   ],
   "source": [
    "mean_squared_error(er.predict(X_test), y_test, squared = False)"
   ]
  },
  {
   "cell_type": "code",
   "execution_count": 13,
   "metadata": {},
   "outputs": [
    {
     "output_type": "stream",
     "name": "stdout",
     "text": [
      "2.2958052728000737\n2.3917277246043858\n2.471371097501595\n2.5692955116163643\n2.66576030132261\n"
     ]
    }
   ],
   "source": [
    "for estimators in er.results_.estimators:\n",
    "    print(mean_squared_error(estimators[0].predict(X_test), y_test, squared = False))"
   ]
  }
 ]
}