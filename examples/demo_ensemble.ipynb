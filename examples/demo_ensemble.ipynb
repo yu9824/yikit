{
 "cells": [
  {
   "cell_type": "code",
   "execution_count": 1,
   "metadata": {},
   "outputs": [],
   "source": [
    "from yikit.models import EnsembleRegressor, Objective\n",
    "\n",
    "import pandas as pd\n",
    "from sklearn.model_selection import train_test_split, KFold\n",
    "from sklearn.metrics import mean_squared_error\n",
    "from sklearn.datasets import load_diabetes\n",
    "import optuna\n",
    "from lightgbm import LGBMRegressor"
   ]
  },
  {
   "cell_type": "code",
   "execution_count": 2,
   "metadata": {},
   "outputs": [],
   "source": [
    "SEED = 334\n",
    "kf = KFold(n_splits = 5, shuffle=True, random_state=SEED)"
   ]
  },
  {
   "cell_type": "code",
   "execution_count": 3,
   "metadata": {},
   "outputs": [],
   "source": [
    "data = load_diabetes()\n",
    "X = pd.DataFrame(data.data, columns = data.feature_names)\n",
    "y = pd.Series(data.target, name = 'PRICE')"
   ]
  },
  {
   "cell_type": "code",
   "execution_count": 4,
   "metadata": {},
   "outputs": [],
   "source": [
    "X_train, X_test, y_train, y_test = train_test_split(X, y, test_size = 0.2, random_state=SEED)"
   ]
  },
  {
   "cell_type": "code",
   "execution_count": 5,
   "metadata": {},
   "outputs": [],
   "source": [
    "# rf = RandomForestRegressor(random_state = SEED, n_jobs = -1)\n",
    "lgbt = LGBMRegressor(random_state = SEED, n_jobs = -1)"
   ]
  },
  {
   "cell_type": "code",
   "execution_count": 6,
   "metadata": {
    "tags": [
     "outputPrepend"
    ]
   },
   "outputs": [
    {
     "name": "stderr",
     "output_type": "stream",
     "text": [
      "\u001b[32m[I 2022-06-27 21:06:40,363]\u001b[0m A new study created in memory with name: no-name-8597b58b-01f3-49ed-b8d5-d4b6e50c5f37\u001b[0m\n",
      "\u001b[32m[I 2022-06-27 21:08:52,973]\u001b[0m Trial 0 finished with value: -63.891728772288765 and parameters: {'n_estimators': 285, 'min_child_weight': 0.0032162822843555513, 'colsample_bytree': 0.9416332990063434, 'subsample': 0.6960045690722916, 'num_leaves': 241}. Best is trial 0 with value: -63.891728772288765.\u001b[0m\n",
      "\u001b[32m[I 2022-06-27 21:08:57,310]\u001b[0m Trial 1 finished with value: -57.30781496850794 and parameters: {'n_estimators': 18, 'min_child_weight': 2.3886939058278256, 'colsample_bytree': 0.94602736228968, 'subsample': 0.8213569936576139, 'num_leaves': 38}. Best is trial 1 with value: -57.30781496850794.\u001b[0m\n",
      "\u001b[32m[I 2022-06-27 21:09:19,603]\u001b[0m Trial 2 finished with value: -65.05323586360112 and parameters: {'n_estimators': 871, 'min_child_weight': 0.3154694608147225, 'colsample_bytree': 0.8647883796553751, 'subsample': 0.8072018624816005, 'num_leaves': 159}. Best is trial 1 with value: -57.30781496850794.\u001b[0m\n",
      "\u001b[32m[I 2022-06-27 21:09:19,646]\u001b[0m Trial 3 finished with value: -59.59533428684831 and parameters: {'n_estimators': 10, 'min_child_weight': 0.0010105895123623191, 'colsample_bytree': 0.848960698861869, 'subsample': 0.6824104334973702, 'num_leaves': 20}. Best is trial 1 with value: -57.30781496850794.\u001b[0m\n",
      "\u001b[32m[I 2022-06-27 21:09:20,053]\u001b[0m Trial 4 finished with value: -63.265057643733236 and parameters: {'n_estimators': 206, 'min_child_weight': 0.38236932526229495, 'colsample_bytree': 0.61812036010339, 'subsample': 0.7802855632989993, 'num_leaves': 148}. Best is trial 1 with value: -57.30781496850794.\u001b[0m\n",
      "\u001b[32m[I 2022-06-27 21:09:21,127]\u001b[0m Trial 5 finished with value: -65.83107655798679 and parameters: {'n_estimators': 451, 'min_child_weight': 0.7568871507511197, 'colsample_bytree': 0.8474234128855505, 'subsample': 0.8597317353323122, 'num_leaves': 236}. Best is trial 1 with value: -57.30781496850794.\u001b[0m\n",
      "\u001b[32m[I 2022-06-27 21:09:21,194]\u001b[0m Trial 6 finished with value: -57.376400005377626 and parameters: {'n_estimators': 34, 'min_child_weight': 0.0030221807180012823, 'colsample_bytree': 0.8283320933004837, 'subsample': 0.7971423445812484, 'num_leaves': 14}. Best is trial 1 with value: -57.30781496850794.\u001b[0m\n",
      "\u001b[32m[I 2022-06-27 21:09:21,239]\u001b[0m Trial 7 finished with value: -57.29568366420053 and parameters: {'n_estimators': 18, 'min_child_weight': 0.00704797034686515, 'colsample_bytree': 0.6790895530849599, 'subsample': 0.7051429167336059, 'num_leaves': 8}. Best is trial 7 with value: -57.29568366420053.\u001b[0m\n",
      "\u001b[32m[I 2022-06-27 21:09:21,950]\u001b[0m Trial 8 finished with value: -64.69673163610656 and parameters: {'n_estimators': 487, 'min_child_weight': 0.01163996484040258, 'colsample_bytree': 0.9177382743177266, 'subsample': 0.8538457717307997, 'num_leaves': 146}. Best is trial 7 with value: -57.29568366420053.\u001b[0m\n",
      "\u001b[32m[I 2022-06-27 21:09:23,774]\u001b[0m Trial 9 finished with value: -65.27607304227016 and parameters: {'n_estimators': 974, 'min_child_weight': 0.16798280499588122, 'colsample_bytree': 0.9332291815227334, 'subsample': 0.940208897989901, 'num_leaves': 10}. Best is trial 7 with value: -57.29568366420053.\u001b[0m\n",
      "\u001b[32m[I 2022-06-27 21:09:23,961]\u001b[0m Trial 10 finished with value: -60.291019898936256 and parameters: {'n_estimators': 76, 'min_child_weight': 0.06139752308446205, 'colsample_bytree': 0.6825584844677556, 'subsample': 0.6027350899988256, 'num_leaves': 55}. Best is trial 7 with value: -57.29568366420053.\u001b[0m\n",
      "\u001b[32m[I 2022-06-27 21:09:24,019]\u001b[0m Trial 11 finished with value: -58.59789528856042 and parameters: {'n_estimators': 12, 'min_child_weight': 9.216670757683449, 'colsample_bytree': 0.7325124195717685, 'subsample': 0.6899013040571073, 'num_leaves': 33}. Best is trial 7 with value: -57.29568366420053.\u001b[0m\n",
      "\u001b[32m[I 2022-06-27 21:09:24,106]\u001b[0m Trial 12 finished with value: -57.194719844356634 and parameters: {'n_estimators': 32, 'min_child_weight': 3.5019569381275075, 'colsample_bytree': 0.7395748235292312, 'subsample': 0.7353665111454221, 'num_leaves': 58}. Best is trial 12 with value: -57.194719844356634.\u001b[0m\n",
      "\u001b[32m[I 2022-06-27 21:09:24,217]\u001b[0m Trial 13 finished with value: -57.87469827884647 and parameters: {'n_estimators': 40, 'min_child_weight': 0.03941246872798848, 'colsample_bytree': 0.741820721176582, 'subsample': 0.7285399037272785, 'num_leaves': 500}. Best is trial 12 with value: -57.194719844356634.\u001b[0m\n",
      "\u001b[32m[I 2022-06-27 21:09:24,315]\u001b[0m Trial 14 finished with value: -57.22883647032245 and parameters: {'n_estimators': 35, 'min_child_weight': 0.01525670929547068, 'colsample_bytree': 0.6608564271063648, 'subsample': 0.645801990818617, 'num_leaves': 8}. Best is trial 12 with value: -57.194719844356634.\u001b[0m\n",
      "\u001b[32m[I 2022-06-27 21:09:24,615]\u001b[0m Trial 15 finished with value: -60.116252183805685 and parameters: {'n_estimators': 81, 'min_child_weight': 0.02181059383111362, 'colsample_bytree': 0.6057060769468849, 'subsample': 0.6080591764992995, 'num_leaves': 86}. Best is trial 12 with value: -57.194719844356634.\u001b[0m\n",
      "\u001b[32m[I 2022-06-27 21:09:24,704]\u001b[0m Trial 16 finished with value: -57.673811395852475 and parameters: {'n_estimators': 38, 'min_child_weight': 2.0579796030024773, 'colsample_bytree': 0.6636441067028911, 'subsample': 0.6535564505613772, 'num_leaves': 23}. Best is trial 12 with value: -57.194719844356634.\u001b[0m\n",
      "\u001b[32m[I 2022-06-27 21:09:24,938]\u001b[0m Trial 17 finished with value: -62.63162957512693 and parameters: {'n_estimators': 131, 'min_child_weight': 4.699859718543993, 'colsample_bytree': 0.7832494026634467, 'subsample': 0.7470393081893363, 'num_leaves': 77}. Best is trial 12 with value: -57.194719844356634.\u001b[0m\n",
      "\u001b[32m[I 2022-06-27 21:09:25,040]\u001b[0m Trial 18 finished with value: -58.80083941898886 and parameters: {'n_estimators': 49, 'min_child_weight': 0.07986031386905418, 'colsample_bytree': 0.7227827243805576, 'subsample': 0.6450596141657896, 'num_leaves': 13}. Best is trial 12 with value: -57.194719844356634.\u001b[0m\n"
     ]
    }
   ],
   "source": [
    "objective = Objective(lgbt, X_train, y_train, scoring = 'neg_root_mean_squared_error', cv = kf)\n",
    "study = optuna.create_study(sampler = objective.sampler, direction = 'maximize')\n",
    "study.optimize(objective, n_trials = 100)"
   ]
  },
  {
   "cell_type": "code",
   "execution_count": null,
   "metadata": {},
   "outputs": [],
   "source": [
    "best_estimator = objective.model(**objective.fixed_params_, **study.best_params).fit(X_train, y_train)"
   ]
  },
  {
   "cell_type": "code",
   "execution_count": null,
   "metadata": {},
   "outputs": [
    {
     "data": {
      "text/plain": [
       "2.2107845218078226"
      ]
     },
     "execution_count": 8,
     "metadata": {},
     "output_type": "execute_result"
    }
   ],
   "source": [
    "mean_squared_error(best_estimator.predict(X_test), y_test, squared = False)"
   ]
  },
  {
   "cell_type": "markdown",
   "metadata": {},
   "source": [
    "同じ条件にするために```boruta```を```False```に．"
   ]
  },
  {
   "cell_type": "code",
   "execution_count": null,
   "metadata": {},
   "outputs": [],
   "source": [
    "er = EnsembleRegressor([lgbt], random_state = SEED, n_jobs = -1, boruta = False, scoring = 'neg_root_mean_squared_error', verbose = 0, cv = kf)"
   ]
  },
  {
   "cell_type": "code",
   "execution_count": null,
   "metadata": {},
   "outputs": [
    {
     "data": {
      "text/plain": [
       "EnsembleRegressor(boruta=False, cv=KFold(n_splits=5),\n",
       "                  estimators=[LGBMRegressor(random_state=334)],\n",
       "                  random_state=334, scoring='neg_root_mean_squared_error')"
      ]
     },
     "execution_count": 10,
     "metadata": {},
     "output_type": "execute_result"
    }
   ],
   "source": [
    "er.fit(X_train, y_train)"
   ]
  },
  {
   "cell_type": "code",
   "execution_count": null,
   "metadata": {},
   "outputs": [
    {
     "data": {
      "text/plain": [
       "2.201786106532741"
      ]
     },
     "execution_count": 11,
     "metadata": {},
     "output_type": "execute_result"
    }
   ],
   "source": [
    "mean_squared_error(er.predict(X_test), y_test, squared = False)"
   ]
  },
  {
   "cell_type": "code",
   "execution_count": null,
   "metadata": {},
   "outputs": [
    {
     "name": "stdout",
     "output_type": "stream",
     "text": [
      "2.293632129832008\n",
      "2.4323930765702557\n",
      "2.449809279179175\n",
      "2.578067528470058\n",
      "2.66576030132261\n"
     ]
    }
   ],
   "source": [
    "for estimators in er.results_.estimators:\n",
    "    print(mean_squared_error(estimators[0].predict(X_test), y_test, squared = False))"
   ]
  }
 ],
 "metadata": {
  "kernelspec": {
   "display_name": "Python 3.9.13 ('yikit')",
   "language": "python",
   "name": "python3"
  },
  "language_info": {
   "codemirror_mode": {
    "name": "ipython",
    "version": 3
   },
   "file_extension": ".py",
   "mimetype": "text/x-python",
   "name": "python",
   "nbconvert_exporter": "python",
   "pygments_lexer": "ipython3",
   "version": "3.9.13"
  },
  "metadata": {
   "interpreter": {
    "hash": "aef1f1c6d6494a954552c4d3b3b802cf10d2b71861e5c864fe3bae3d265d2422"
   }
  },
  "orig_nbformat": 2,
  "vscode": {
   "interpreter": {
    "hash": "e3e19253e85caae0ab51fc1f8cca7e8ae7d8c68119f1ecb1ae745e9cd6a04679"
   }
  }
 },
 "nbformat": 4,
 "nbformat_minor": 2
}
